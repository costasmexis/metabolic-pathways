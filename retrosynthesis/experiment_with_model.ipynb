{
 "cells": [
  {
   "cell_type": "code",
   "execution_count": 1,
   "metadata": {},
   "outputs": [],
   "source": [
    "import re\n",
    "import numpy as np\n",
    "import pandas as pd\n",
    "from tqdm import tqdm\n",
    "from rdkit import Chem\n",
    "\n",
    "import torch\n",
    "from torch import nn\n",
    "import torch.nn.functional as F\n",
    "\n",
    "import sys\n",
    "sys.path.append('src/')\n",
    "\n",
    "from smiles_lstm.model.smiles_vocabulary import SMILESTokenizer, Vocabulary, create_vocabulary\n",
    "\n",
    "from tensorflow.keras.preprocessing.sequence import pad_sequences\n",
    "\n",
    "import warnings\n",
    "# ignore some deprecation warnings\n",
    "warnings.filterwarnings('ignore')\n",
    "\n",
    "device = torch.device(\"cuda\" if torch.cuda.is_available() else \"cpu\")"
   ]
  },
  {
   "attachments": {},
   "cell_type": "markdown",
   "metadata": {},
   "source": [
    "## Functions"
   ]
  },
  {
   "cell_type": "code",
   "execution_count": 2,
   "metadata": {},
   "outputs": [],
   "source": [
    "def pad_sequence(tokenizer_array, desired_length):\n",
    "    padded_sequence = pad_sequences([tokenizer_array], maxlen=desired_length, padding='post')[0]\n",
    "    return padded_sequence\n",
    "\n",
    "def preprocess_smiles_data(x):\n",
    "    x = tk.tokenize(x, with_begin_and_end=False)\n",
    "    x = vocabulary.encode(x )\n",
    "    x  = pad_sequence(x, 160 )\n",
    "    x  = torch.tensor([x ])\n",
    "    \n",
    "    return X\n",
    "\n",
    "def canonicalize_smiles(smiles):\n",
    "    '''This function takes a non-canonical SMILES and\n",
    "    returns the canonical version'''\n",
    "    mol = Chem.MolFromSmiles(smiles) #create a mol object from input smiles \n",
    "    canonical_smiles = Chem.MolToSmiles(mol) #convert the previous mol object to SMILES using Chem.MolToSmiles()\n",
    "    return canonical_smiles"
   ]
  },
  {
   "attachments": {},
   "cell_type": "markdown",
   "metadata": {},
   "source": [
    "## Load main data set"
   ]
  },
  {
   "cell_type": "code",
   "execution_count": 3,
   "metadata": {},
   "outputs": [],
   "source": [
    "df = pd.read_csv('retrosynthesis-all', header=None)\n",
    "df['source'] = df[0].apply(lambda x: x.split('>>')[0])\n",
    "df['target'] = df[0].apply(lambda x: x.split('>>')[1])\n",
    "df['source'] = df['source'].apply(lambda x: canonicalize_smiles(x))\n",
    "df['target'] = df['target'].apply(lambda x: canonicalize_smiles(x))\n",
    "df.drop(0, axis=1, inplace=True)\n",
    "# Remove spaces from all columns\n",
    "for col in df.columns: df[col] = df[col].str.replace(' ', '')"
   ]
  },
  {
   "attachments": {},
   "cell_type": "markdown",
   "metadata": {},
   "source": [
    "## Define `Tokenizer` and `Vocabulary`"
   ]
  },
  {
   "cell_type": "code",
   "execution_count": 4,
   "metadata": {},
   "outputs": [],
   "source": [
    "class Dataset(torch.utils.data.Dataset):\n",
    "    \"\"\"\n",
    "    Custom PyTorch Dataset that takes a file containing \\n separated SMILES.\n",
    "    \"\"\"\n",
    "\n",
    "    def __init__(self, smiles_list : list, vocabulary : Vocabulary,\n",
    "                 tokenizer : SMILESTokenizer) -> None:\n",
    "        self._vocabulary  = vocabulary\n",
    "        self._tokenizer   = tokenizer\n",
    "        self._smiles_list = list(smiles_list)\n",
    "\n",
    "    def __getitem__(self, i : int) -> torch.Tensor:\n",
    "        smi     = self._smiles_list[i]\n",
    "        tokens  = self._tokenizer.tokenize(smi, with_begin_and_end=False)\n",
    "        encoded = self._vocabulary.encode(tokens)\n",
    "        encoded = pad_sequence(encoded, 200)\n",
    "        return torch.tensor(encoded.astype(int), dtype=torch.long)  # pylint: disable=E1102\n",
    "\n",
    "    def __len__(self) -> int:\n",
    "        return len(self._smiles_list)\n",
    "\n",
    "    @staticmethod\n",
    "    def collate_fn(encoded_seqs : list) -> torch.Tensor:\n",
    "        \"\"\"\n",
    "        Converts a list of encoded sequences into a padded tensor.\n",
    "        \"\"\"\n",
    "        max_length   = max([seq.size(0) for seq in encoded_seqs])\n",
    "        collated_arr = torch.zeros(len(encoded_seqs),\n",
    "                                   max_length,\n",
    "                                   dtype=torch.long)  # padded with zeros\n",
    "        for i, seq in enumerate(encoded_seqs):\n",
    "            collated_arr[i, :seq.size(0)] = seq\n",
    "        return collated_arr\n",
    "\n",
    "    def pad_sequence(tokenizer_array, desired_length):\n",
    "        padded_sequence = pad_sequences([tokenizer_array], maxlen=desired_length, padding='post')[0]\n",
    "        return padded_sequence\n"
   ]
  },
  {
   "cell_type": "code",
   "execution_count": 5,
   "metadata": {},
   "outputs": [
    {
     "name": "stdout",
     "output_type": "stream",
     "text": [
      "There are 85 unique tokens in the vocabulary.\n",
      "\n"
     ]
    }
   ],
   "source": [
    "# create a vocabulary using all SMILES in df\n",
    "dataset = df['source'].unique().tolist() + df['target'].unique().tolist()\n",
    "dataset = np.unique(dataset).tolist()\n",
    "\n",
    "tokenizer = SMILESTokenizer()\n",
    "vocabulary   = create_vocabulary(smiles_list=dataset, tokenizer=tokenizer, canonical=True)\n",
    "\n",
    "print(f'There are {len(vocabulary)} unique tokens in the vocabulary.\\n')\n",
    "\n",
    "# train_dataset = Dataset(smiles_list=df['source'].tolist(), vocabulary=vocabulary, tokenizer=tokenizer)\n",
    "# train_dataset = train_dataset.collate_fn(train_dataset)"
   ]
  },
  {
   "attachments": {},
   "cell_type": "markdown",
   "metadata": {},
   "source": [
    "## Train / validation / test split"
   ]
  },
  {
   "cell_type": "code",
   "execution_count": 6,
   "metadata": {},
   "outputs": [
    {
     "name": "stdout",
     "output_type": "stream",
     "text": [
      "Original dataset:\n",
      "(45033, 2)\n",
      "Train data size: 36026\n",
      "Test data size: 9007\n"
     ]
    },
    {
     "name": "stdout",
     "output_type": "stream",
     "text": [
      "torch.Size([36026, 200]) torch.Size([36026, 200])\n",
      "torch.Size([9007, 200]) torch.Size([9007, 200])\n"
     ]
    }
   ],
   "source": [
    "from sklearn.model_selection import train_test_split\n",
    "\n",
    "print('Original dataset:')\n",
    "print(df.shape)\n",
    "\n",
    "# Splitting the data into train and combined val/test sets\n",
    "train_data, test_data = train_test_split(df, test_size=0.2, random_state=42)\n",
    "\n",
    "# Printing the sizes of the resulting splits\n",
    "print(\"Train data size:\", len(train_data))\n",
    "print(\"Test data size:\", len(test_data))\n",
    "\n",
    "train     = train_data.copy()\n",
    "test      = test_data.copy()\n",
    "\n",
    "# train = train[:2000]\n",
    "# test = test[:500]\n",
    "\n",
    "train_X = Dataset(smiles_list=train['source'].tolist(), vocabulary=vocabulary, tokenizer=tokenizer)\n",
    "train_X = train_X.collate_fn(train_X)\n",
    "train_y = Dataset(smiles_list=train['target'].tolist(), vocabulary=vocabulary, tokenizer=tokenizer)\n",
    "train_y = train_y.collate_fn(train_y)\n",
    "\n",
    "test_X = Dataset(smiles_list=test['source'].tolist(), vocabulary=vocabulary, tokenizer=tokenizer)\n",
    "test_X = test_X.collate_fn(test_X)\n",
    "test_y = Dataset(smiles_list=test['target'].tolist(), vocabulary=vocabulary, tokenizer=tokenizer)\n",
    "test_y = test_y.collate_fn(test_y)\n",
    "\n",
    "print(train_X.shape, train_y.shape)\n",
    "print(test_X.shape, test_y.shape)"
   ]
  },
  {
   "cell_type": "code",
   "execution_count": 8,
   "metadata": {},
   "outputs": [
    {
     "name": "stderr",
     "output_type": "stream",
     "text": [
      "  0%|          | 0/36 [00:00<?, ?it/s]"
     ]
    },
    {
     "name": "stderr",
     "output_type": "stream",
     "text": [
      "100%|██████████| 36/36 [00:05<00:00,  6.58it/s]\n"
     ]
    },
    {
     "name": "stdout",
     "output_type": "stream",
     "text": [
      "Epoch 1/10, Loss: 5.0853, Val Loss: 4.9608\n"
     ]
    },
    {
     "name": "stderr",
     "output_type": "stream",
     "text": [
      "100%|██████████| 36/36 [00:05<00:00,  6.61it/s]\n"
     ]
    },
    {
     "name": "stdout",
     "output_type": "stream",
     "text": [
      "Epoch 2/10, Loss: 4.9147, Val Loss: 4.8741\n"
     ]
    },
    {
     "name": "stderr",
     "output_type": "stream",
     "text": [
      "100%|██████████| 36/36 [00:05<00:00,  6.61it/s]\n"
     ]
    },
    {
     "name": "stdout",
     "output_type": "stream",
     "text": [
      "Epoch 3/10, Loss: 4.8593, Val Loss: 4.8382\n"
     ]
    },
    {
     "name": "stderr",
     "output_type": "stream",
     "text": [
      "100%|██████████| 36/36 [00:05<00:00,  6.62it/s]\n"
     ]
    },
    {
     "name": "stdout",
     "output_type": "stream",
     "text": [
      "Epoch 4/10, Loss: 4.8329, Val Loss: 4.8215\n"
     ]
    },
    {
     "name": "stderr",
     "output_type": "stream",
     "text": [
      "100%|██████████| 36/36 [00:05<00:00,  6.61it/s]\n"
     ]
    },
    {
     "name": "stdout",
     "output_type": "stream",
     "text": [
      "Epoch 5/10, Loss: 4.8187, Val Loss: 4.8145\n"
     ]
    },
    {
     "name": "stderr",
     "output_type": "stream",
     "text": [
      "100%|██████████| 36/36 [00:05<00:00,  6.61it/s]\n"
     ]
    },
    {
     "name": "stdout",
     "output_type": "stream",
     "text": [
      "Epoch 6/10, Loss: 4.8092, Val Loss: 4.8022\n"
     ]
    },
    {
     "name": "stderr",
     "output_type": "stream",
     "text": [
      "100%|██████████| 36/36 [00:05<00:00,  6.61it/s]\n"
     ]
    },
    {
     "name": "stdout",
     "output_type": "stream",
     "text": [
      "Epoch 7/10, Loss: 4.7996, Val Loss: 4.7944\n"
     ]
    },
    {
     "name": "stderr",
     "output_type": "stream",
     "text": [
      "100%|██████████| 36/36 [00:05<00:00,  6.61it/s]\n"
     ]
    },
    {
     "name": "stdout",
     "output_type": "stream",
     "text": [
      "Epoch 8/10, Loss: 4.7922, Val Loss: 4.7877\n"
     ]
    },
    {
     "name": "stderr",
     "output_type": "stream",
     "text": [
      "100%|██████████| 36/36 [00:05<00:00,  6.61it/s]\n"
     ]
    },
    {
     "name": "stdout",
     "output_type": "stream",
     "text": [
      "Epoch 9/10, Loss: 4.7864, Val Loss: 4.7832\n"
     ]
    },
    {
     "name": "stderr",
     "output_type": "stream",
     "text": [
      "100%|██████████| 36/36 [00:05<00:00,  6.61it/s]\n"
     ]
    },
    {
     "name": "stdout",
     "output_type": "stream",
     "text": [
      "Epoch 10/10, Loss: 4.7824, Val Loss: 4.7800\n"
     ]
    }
   ],
   "source": [
    "import torch\n",
    "import torch.nn as nn\n",
    "import torch.optim as optim\n",
    "\n",
    "# Define the LSTM model\n",
    "class Seq2SeqLSTM(nn.Module):\n",
    "    def __init__(self, input_size, hidden_size, output_size):\n",
    "        super(Seq2SeqLSTM, self).__init__()\n",
    "        self.hidden_size = hidden_size\n",
    "        self.embedding = nn.Embedding(input_size, hidden_size)\n",
    "        self.lstm = nn.LSTM(hidden_size, hidden_size, dropout=.2)\n",
    "        self.fc = nn.Linear(hidden_size, output_size, dropout=.2)\n",
    "        self.logsoftmax = nn.LogSoftmax(dim=1)\n",
    "\n",
    "    def forward(self, input_seq):\n",
    "        embedded = self.embedding(input_seq)\n",
    "        output, _ = self.lstm(embedded)\n",
    "        output, _ = self.lstm(output)\n",
    "        output = self.fc(output)\n",
    "        # softmax to apply on dimension 1, i.e. per row\n",
    "        logits = self.logsoftmax(output)\n",
    "        return logits\n",
    "\n",
    "# Set hyperparameters\n",
    "input_size = len(vocabulary)  # Replace with the actual vocabulary size of your input data\n",
    "hidden_size = 512  # Adjust the hidden size according to your needs\n",
    "output_size = len(vocabulary)  # Replace with the actual vocabulary size of your output data\n",
    "learning_rate = 0.0001\n",
    "num_epochs = 10\n",
    "batch_size = 1024\n",
    "\n",
    "# Create the model\n",
    "model = Seq2SeqLSTM(input_size, hidden_size, output_size).to(device)\n",
    "\n",
    "# Define loss function and optimizer\n",
    "criterion = nn.NLLLoss(reduce=None)\n",
    "optimizer = optim.Adam(model.parameters(), lr=learning_rate)\n",
    "\n",
    "# Before the training loop\n",
    "train_losses = []\n",
    "val_losses = []\n",
    "\n",
    "# Training loop\n",
    "for epoch in range(num_epochs):\n",
    "    total_loss = 0\n",
    "    num_batches = 0\n",
    "    model.train()\n",
    "    for i in tqdm(range(0, len(train_X), batch_size)):\n",
    "        # Prepare batch\n",
    "        batch_X = train_X[i:i+batch_size].to(device)\n",
    "        batch_y = train_y[i:i+batch_size].to(device)\n",
    "\n",
    "        # Forward pass\n",
    "        optimizer.zero_grad()\n",
    "        output = model(batch_X)\n",
    "\n",
    "        # Compute loss\n",
    "        loss = criterion(output.view(-1, output_size), batch_y.view(-1))\n",
    "\n",
    "        # Backward pass and optimization\n",
    "        loss.backward()\n",
    "        optimizer.step()\n",
    "\n",
    "        total_loss += loss.item()\n",
    "        num_batches += 1\n",
    "\n",
    "    # Validation\n",
    "    model.eval()\n",
    "    val_loss = 0\n",
    "    val_batches = 0\n",
    "    with torch.no_grad():\n",
    "        for j in range(0, len(test_X), batch_size):\n",
    "            val_batch_X = test_X[j:j+batch_size].to(device)\n",
    "            val_batch_y = test_y[j:j+batch_size].to(device)\n",
    "            \n",
    "            val_output = model(val_batch_X)\n",
    "            val_loss += criterion(val_output.view(-1, output_size), val_batch_y.view(-1)).item()\n",
    "            val_batches += 1\n",
    "\n",
    "    # Print average loss for the epoch\n",
    "    average_loss = total_loss / num_batches\n",
    "    average_val_loss = val_loss / val_batches\n",
    "\n",
    "    print(f\"Epoch {epoch+1}/{num_epochs}, Loss: {average_loss:.4f}, Val Loss: {average_val_loss:.4f}\")\n",
    "\n",
    "    # print(f\"Epoch {epoch+1}/{num_epochs}, Loss: {average_loss:.4f}\")\n",
    "    train_losses.append(average_loss)\n",
    "    val_losses.append(average_val_loss)"
   ]
  },
  {
   "cell_type": "code",
   "execution_count": 9,
   "metadata": {},
   "outputs": [
    {
     "data": {
      "image/png": "[encoded data removed]",
      "text/plain": [
       "<Figure size 640x480 with 1 Axes>"
      ]
     },
     "metadata": {},
     "output_type": "display_data"
    }
   ],
   "source": [
    "import matplotlib.pyplot as plt\n",
    "\n",
    "# Plot learning curve\n",
    "plt.plot(range(1, num_epochs+1), train_losses, label='Train Loss')\n",
    "plt.plot(range(1, num_epochs+1), val_losses, label='Val Loss')\n",
    "plt.xlabel('Epoch')\n",
    "plt.ylabel('Loss')\n",
    "plt.legend()\n",
    "plt.show()"
   ]
  },
  {
   "cell_type": "code",
   "execution_count": 10,
   "metadata": {},
   "outputs": [
    {
     "name": "stdout",
     "output_type": "stream",
     "text": [
      "Predictions:\n",
      "Cc1c5(CC(=O)N2CCN(5(=O)(=O)c)ccccc3)(=O)))C(=O)C2C)c(=O))c1=O\n",
      "Real:\n",
      "CC1NCCN(S(=O)(=O)c2ccccc2[N+](=O)[O-])C1=O.Cc1cn(CC(=O)O)c(=O)[nH]c1=O\n",
      "Input:\n",
      "Cc1cn(CC(=O)N2CCN(S(=O)(=O)c3ccccc3[N+](=O)[O-])C(=O)C2C)c(=O)[nH]c1=O\n"
     ]
    }
   ],
   "source": [
    "model.eval()\n",
    "print('Predictions:')\n",
    "y_pred = model(test_X[142].to(device)).argmax(dim=1).flatten()\n",
    "print(tokenizer.untokenize(vocabulary.decode(y_pred.cpu().numpy())))\n",
    "\n",
    "print('Real:')\n",
    "y = test_y[142].to(device)\n",
    "print(tokenizer.untokenize(vocabulary.decode(y.cpu().numpy())))\n",
    "\n",
    "print('Input:')\n",
    "x = test_X[142]\n",
    "print(tokenizer.untokenize(vocabulary.decode(x.cpu().numpy())))"
   ]
  },
  {
   "cell_type": "code",
   "execution_count": 12,
   "metadata": {},
   "outputs": [
    {
     "name": "stdout",
     "output_type": "stream",
     "text": [
      "N[C@@H](Cc1ccc(O)cc1)C(=O)O \n",
      " O=C(O)/C=C/c1ccc(O)cc1\n"
     ]
    },
    {
     "data": {
      "text/plain": [
       "tensor([24, 24,  3, 20, 81,  8, 81, 81, 81,  3, 25,  4, 81, 81,  8,  4, 20,  3,\n",
       "        17, 25,  4, 25,  0,  0,  0,  0,  0,  0,  0,  0,  0,  0,  0,  0,  0,  0,\n",
       "         0,  0,  0,  0,  0,  0,  0,  0,  0,  0,  0,  0,  0,  0,  0,  0,  0,  0,\n",
       "         0,  0,  0,  0,  0,  0,  0,  0,  0,  0,  0,  0,  0,  0,  0,  0,  0,  0,\n",
       "         0,  0,  0,  0,  0,  0,  0,  0,  0,  0,  0,  0,  0,  0,  0,  0,  0,  0,\n",
       "         0,  0,  0,  0,  0,  0,  0,  0,  0,  0,  0,  0,  0,  0,  0,  0,  0,  0,\n",
       "         0,  0,  0,  0,  0,  0,  0,  0,  0,  0,  0,  0,  0,  0,  0,  0,  0,  0,\n",
       "         0,  0,  0,  0,  0,  0,  0,  0,  0,  0,  0,  0,  0,  0,  0,  0,  0,  0,\n",
       "         0,  0,  0,  0,  0,  0,  0,  0,  0,  0,  0,  0,  0,  0],\n",
       "       device='cuda:0')"
      ]
     },
     "execution_count": 12,
     "metadata": {},
     "output_type": "execute_result"
    }
   ],
   "source": [
    "x = 'C00082'\n",
    "y = 'C00811'\n",
    "\n",
    "cpds = pd.read_csv('../data/compounds_final.csv', index_col=0)\n",
    "x = cpds[cpds['Entry'] == x]['SMILES'].values[0]\n",
    "y = cpds[cpds['Entry'] == y]['SMILES'].values[0]\n",
    "print(x, '\\n' ,y)\n",
    "\n",
    "x = tokenizer.tokenize(x, with_begin_and_end=False)\n",
    "x =vocabulary.encode(x)\n",
    "x = pad_sequence(x, 158)\n",
    "x = torch.tensor(x.astype(int), dtype=torch.long)  \n",
    "\n",
    "y = tokenizer.tokenize(y, with_begin_and_end=False)\n",
    "y =vocabulary.encode(y)\n",
    "y = pad_sequence(y, 158)\n",
    "y = torch.tensor(y.astype(int), dtype=torch.long)  \n",
    "\n",
    "y_pred = model(x.to(device)).argmax(dim=1).flatten()\n",
    "y_pred"
   ]
  },
  {
   "cell_type": "code",
   "execution_count": 15,
   "metadata": {},
   "outputs": [
    {
     "name": "stdout",
     "output_type": "stream",
     "text": [
      "N[C@@H](Cc1ccc(O)cc1)C(=O)O\n",
      "O=C(O)/C=C/c1ccc(O)cc1\n",
      "NN(Cc1ccc(O)cc1)C(=O)O\n",
      "Tanimoto similarity: 0.5909090909090909\n"
     ]
    }
   ],
   "source": [
    "from rdkit import Chem\n",
    "from rdkit.Chem import AllChem\n",
    "from rdkit import DataStructs\n",
    "\n",
    "# reverse back to SMILES\n",
    "s = tokenizer.untokenize(vocabulary.decode(x.cpu().numpy()))\n",
    "s1 = tokenizer.untokenize(vocabulary.decode(y.cpu().numpy()))\n",
    "s2 = tokenizer.untokenize(vocabulary.decode(y_pred.cpu().numpy()))\n",
    "\n",
    "print(s)\n",
    "print(s1)\n",
    "print(s2)\n",
    "\n",
    "# Convert SMILES strings to RDKit molecules\n",
    "mol1 = Chem.MolFromSmiles(s1)\n",
    "mol2 = Chem.MolFromSmiles(s2)\n",
    "\n",
    "# Generate Morgan fingerprints\n",
    "fp1 = AllChem.GetMorganFingerprint(mol1, 2)  # 2 is the radius of the fingerprint\n",
    "fp2 = AllChem.GetMorganFingerprint(mol2, 2)\n",
    "\n",
    "# Calculate Tanimoto similarity\n",
    "tanimoto = DataStructs.TanimotoSimilarity(fp1, fp2)\n",
    "\n",
    "print(\"Tanimoto similarity:\", tanimoto)"
   ]
  },
  {
   "cell_type": "code",
   "execution_count": null,
   "metadata": {},
   "outputs": [],
   "source": [
    "1/0"
   ]
  }
 ],
 "metadata": {
  "kernelspec": {
   "display_name": "Python 3 (ipykernel)",
   "language": "python",
   "name": "python3"
  },
  "language_info": {
   "codemirror_mode": {
    "name": "ipython",
    "version": 3
   },
   "file_extension": ".py",
   "mimetype": "text/x-python",
   "name": "python",
   "nbconvert_exporter": "python",
   "pygments_lexer": "ipython3",
   "version": "3.10.6"
  }
 },
 "nbformat": 4,
 "nbformat_minor": 4
}
