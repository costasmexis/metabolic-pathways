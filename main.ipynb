{
 "cells": [
  {
   "cell_type": "code",
   "execution_count": 251,
   "metadata": {},
   "outputs": [
    {
     "name": "stdout",
     "output_type": "stream",
     "text": [
      "# nodes: 8591 \n",
      "# edges: 30081\n",
      "\n",
      "Removing self-loops...\n",
      "# nodes: 8591 \n",
      "# edges: 30026\n"
     ]
    },
    {
     "name": "stderr",
     "output_type": "stream",
     "text": [
      "100%|██████████| 30026/30026 [00:00<00:00, 199987.89it/s]\n"
     ]
    },
    {
     "name": "stdout",
     "output_type": "stream",
     "text": [
      "Correct pathway predictions: 14\n",
      "Correct pathway predictions (%): 28.0\n"
     ]
    }
   ],
   "source": [
    "import pandas as pd\n",
    "import numpy as np\n",
    "import json\n",
    "\n",
    "import networkx as nx\n",
    "\n",
    "from tqdm import tqdm\n",
    "\n",
    "from compound import Compound\n",
    "from reaction import Reaction\n",
    "from graph import Graph\n",
    "from data import Data\n",
    "\n",
    "# create class instances\n",
    "data = Data()\n",
    "graph = Graph()\n",
    "\n",
    "# read data from csv\n",
    "cpds = pd.read_csv('data/compounds_final.csv', index_col=0)\n",
    "rxns = pd.read_csv('data/reactions_final.csv', index_col=0)\n",
    "pairs = pd.read_csv('data/pairs_final.csv', index_col=0)\n",
    "cofactors = pd.read_csv('data/original/cofactors_KEGG.csv')\n",
    "\n",
    "# Create a Compound object for each row in the DataFrame and add it to the data\n",
    "for index, row in cpds.iterrows():\n",
    "    entry = row['Entry']\n",
    "    name = row['Names']\n",
    "    formula = row['Formula']\n",
    "    mw = row['mol_weight']\n",
    "    smiles = row['SMILES']\n",
    "    is_cofactor = row['Entry'] in cofactors['Entry'].values\n",
    "\n",
    "    compound = Compound(entry, name, formula, mw, smiles, is_cofactor)\n",
    "    data.add_element('compound', compound)\n",
    "\n",
    "# Create a Reaction object for each row in the DataFrame and add it to the data\n",
    "for index, row in rxns.iterrows():\n",
    "    entry = row['Entry']\n",
    "    name = row['Names']\n",
    "    compounds = row['Compound']\n",
    "    enzyme = row['EC Number']\n",
    "\n",
    "    reaction = Reaction(entry, name, compounds, enzyme)\n",
    "    data.add_element('reaction', reaction)\n",
    "\n",
    "\n",
    "# number of times a metabolite apperas on pairs dataset\n",
    "graph.get_number_of_occurences(pairs)\n",
    "\n",
    "# Create Graph\n",
    "graph.create_graph(data=data, pairs=pairs)\n",
    "\n",
    "''' \n",
    "*******************************************\n",
    "Validate the methods on validation datasets \n",
    "*******************************************\n",
    "'''\n",
    "######### VALIDATION SET FROM nicepath ###########\n",
    "test_cases = pd.read_csv('data/original/test_cases.csv')\n",
    "test_cases['source'] = test_cases['Pathway '].apply(lambda x: x.split(',')[0])\n",
    "test_cases['target'] = test_cases['Pathway '].apply(lambda x: x.split(',')[len(x.split(','))-1])\n",
    "test_cases['paths_list'] = test_cases['Pathway '].apply(lambda x: x.split(','))\n",
    "\n",
    "paths = graph.simple_weighted_shortest_path(test_cases=test_cases, data=data, method='mol_weight')\n",
    "\n",
    "# ######### NEW VALIDATION SET ###########\n",
    "# pyminer_test = pd.read_csv('data/original/pyminer_validation_set.csv', delimiter=';', header=None, names=['Pathway'])\n",
    "# pyminer_test['source'] = pyminer_test['Pathway'].apply(lambda x: x.split(',')[0])\n",
    "# pyminer_test['target'] = pyminer_test['Pathway'].apply(lambda x: x.split(',')[len(x.split(','))-1])\n",
    "# pyminer_test['paths_list'] = pyminer_test['Pathway'].apply(lambda x: x.split(','))\n",
    "\n",
    "# print('Simple weighted shortes paths:')\n",
    "# paths = graph.simple_weighted_shortest_path(test_cases=pyminer_test, data=data, method='mol_weight')"
   ]
  },
  {
   "attachments": {},
   "cell_type": "markdown",
   "metadata": {},
   "source": [
    "# Graph learning and stuff to try"
   ]
  },
  {
   "cell_type": "code",
   "execution_count": 125,
   "metadata": {},
   "outputs": [
    {
     "name": "stdout",
     "output_type": "stream",
     "text": [
      "ID: C00082\n",
      "Name: [\"L-Tyrosine\", \"(S)-3-(p-Hydroxyphenyl)alanine\", \"(S)-2-Amino-3-(p-hydroxyphenyl)propionic acid\", \"Tyrosine\"]\n",
      "Formula: C9H11NO3\n",
      "\n",
      "N[C@@H](Cc1ccc(O)cc1)C(=O)O\n",
      "['C00223', 'C12096', 'C00029', 'C00761']\n"
     ]
    },
    {
     "ename": "AttributeError",
     "evalue": "'Graph' object has no attribute 'G'",
     "output_type": "error",
     "traceback": [
      "\u001b[0;31m---------------------------------------------------------------------------\u001b[0m",
      "\u001b[0;31mAttributeError\u001b[0m                            Traceback (most recent call last)",
      "Cell \u001b[0;32mIn[125], line 10\u001b[0m\n\u001b[1;32m      7\u001b[0m correct_pathway_example \u001b[39m=\u001b[39m paths[\u001b[39m'\u001b[39m\u001b[39mPathway\u001b[39m\u001b[39m'\u001b[39m]\u001b[39m.\u001b[39miloc[\u001b[39m1\u001b[39m]\n\u001b[1;32m      8\u001b[0m \u001b[39mprint\u001b[39m(correct_pathway_example)\n\u001b[0;32m---> 10\u001b[0m correct_subgraph \u001b[39m=\u001b[39m graph\u001b[39m.\u001b[39;49mG\u001b[39m.\u001b[39msubgraph(correct_pathway_example)\n\u001b[1;32m     11\u001b[0m \u001b[39mprint\u001b[39m(correct_subgraph\u001b[39m.\u001b[39mnodes())\n",
      "\u001b[0;31mAttributeError\u001b[0m: 'Graph' object has no attribute 'G'"
     ]
    }
   ],
   "source": [
    "cpd = data.get_compound_by_id('C00082')\n",
    "print(cpd)\n",
    "\n",
    "smile = cpd.smiles\n",
    "print(smile)\n",
    "\n",
    "correct_pathway_example = paths['Pathway'].iloc[1]\n",
    "print(correct_pathway_example)\n",
    "\n",
    "correct_subgraph = graph.G.subgraph(correct_pathway_example)\n",
    "print(correct_subgraph.nodes())"
   ]
  },
  {
   "cell_type": "code",
   "execution_count": 126,
   "metadata": {},
   "outputs": [
    {
     "data": {
      "image/png": "[encoded data removed]",
      "text/plain": [
       "<Figure size 640x480 with 1 Axes>"
      ]
     },
     "metadata": {},
     "output_type": "display_data"
    }
   ],
   "source": [
    "G = correct_subgraph.copy()\n",
    "nx.draw_networkx(G)\n",
    "\n",
    "from torch_geometric.utils.convert import from_networkx\n",
    "\n",
    "pyg_graph = from_networkx(G)"
   ]
  },
  {
   "cell_type": "code",
   "execution_count": 127,
   "metadata": {},
   "outputs": [
    {
     "name": "stdout",
     "output_type": "stream",
     "text": [
      "Data(edge_index=[2, 4], mw=[3], mol_weight=[4], num_nodes=3, y=1)\n"
     ]
    }
   ],
   "source": [
    "pyg_graph.y = 1\n",
    "print(pyg_graph)"
   ]
  },
  {
   "cell_type": "code",
   "execution_count": 128,
   "metadata": {},
   "outputs": [
    {
     "name": "stdout",
     "output_type": "stream",
     "text": [
      "GNN(\n",
      "  (conv1): GCNConv(1, 3)\n",
      "  (conv2): GCNConv(3, 3)\n",
      "  (lin): Linear(in_features=3, out_features=2, bias=True)\n",
      ")\n"
     ]
    }
   ],
   "source": [
    "import torch\n",
    "import torch.nn as nn\n",
    "from torch.nn import Linear\n",
    "import torch.nn.functional as F\n",
    "from torch_geometric.nn import GCNConv, GATConv, GATv2Conv, TransformerConv\n",
    "from torch_geometric.nn import global_mean_pool\n",
    "import torch.optim as optim\n",
    "from torch_geometric.data import Data\n",
    "from torch_geometric.utils import from_scipy_sparse_matrix\n",
    "from torch_geometric.nn import GCNConv, global_mean_pool\n",
    "\n",
    "class GNN(torch.nn.Module):\n",
    "    def __init__(self, input_size, hidden_channels, conv, conv_params={}):\n",
    "        super(GNN, self).__init__()\n",
    "        torch.manual_seed(12345)\n",
    "        \n",
    "        self.conv1 = conv(\n",
    "            input_size, hidden_channels, **conv_params)\n",
    "        \n",
    "        self.conv2 = conv(\n",
    "            hidden_channels, hidden_channels, **conv_params)\n",
    "        \n",
    "        self.lin = Linear(hidden_channels, 2)\n",
    "    \n",
    "    def forward(self, x, edge_index, batch = None,  edge_col = None):\n",
    "        \n",
    "        # Node embedding \n",
    "        x = self.conv1(x, edge_index, edge_col)\n",
    "        x = x.relu()\n",
    "        x = self.conv2(x, edge_index, edge_col)\n",
    "        \n",
    "        # Readout layer\n",
    "        batch = torch.zeros(data.x.shape[0],dtype=int) if batch is None else batch\n",
    "        x = global_mean_pool(x, batch)\n",
    "        \n",
    "        # Final classifier\n",
    "        x = F.dropout(x, p=0.5, training=self.training)\n",
    "        x = self.lin(x)\n",
    "    \n",
    "        return x\n",
    "    \n",
    "model = GNN(input_size=1, hidden_channels=3, conv=GCNConv)\n",
    "print(model)"
   ]
  },
  {
   "cell_type": "code",
   "execution_count": null,
   "metadata": {},
   "outputs": [],
   "source": []
  },
  {
   "cell_type": "code",
   "execution_count": null,
   "metadata": {},
   "outputs": [],
   "source": []
  },
  {
   "attachments": {},
   "cell_type": "markdown",
   "metadata": {},
   "source": [
    "#### My try"
   ]
  },
  {
   "cell_type": "code",
   "execution_count": 261,
   "metadata": {},
   "outputs": [],
   "source": [
    "gg = graph.G"
   ]
  },
  {
   "cell_type": "code",
   "execution_count": 262,
   "metadata": {},
   "outputs": [],
   "source": [
    "import torch.nn as nn\n",
    "import torch.nn.functional as F\n",
    "from torch_geometric.nn import GCNConv\n",
    "from torch_geometric.data import Data\n",
    "import torch_geometric\n",
    "import torch\n",
    "\n",
    "class GCN(nn.Module):\n",
    "    def __init__(self, input_dim, hidden_dim, output_dim):\n",
    "        super(GCN, self).__init__()\n",
    "        self.conv1 = GCNConv(input_dim, hidden_dim)\n",
    "        self.conv2 = GCNConv(hidden_dim, output_dim)\n",
    "\n",
    "    def forward(self, data):\n",
    "        x, edge_index, batch = data.x, data.edge_index, data.batch\n",
    "\n",
    "        x = self.conv1(x, edge_index)\n",
    "        x = F.relu(x)\n",
    "        x = self.conv2(x, edge_index)\n",
    "        x = F.relu(x)\n",
    "\n",
    "        # Global mean pooling to obtain graph-level representation\n",
    "        x = torch_geometric.nn.global_mean_pool(x, batch)\n",
    "\n",
    "        return x"
   ]
  },
  {
   "cell_type": "code",
   "execution_count": 263,
   "metadata": {},
   "outputs": [
    {
     "name": "stdout",
     "output_type": "stream",
     "text": [
      "['C00013', 'C00009', 'C00001', 'C01010', 'C00011', 'C00014', 'C00900', 'C00022', 'C06033', 'C00027', 'C00007', 'C01083', 'C00031', 'C19610', 'C19611', 'C00080', 'C00044', 'C01261', 'C00048', 'C01146', 'C05125', 'C00068', 'C00089', 'C03661', 'C00125', 'C00126', 'C00134', 'C06366', 'C00138', 'C00282', 'C00139', 'C00025', 'C00064', 'C00026', 'C01674', 'C00140', 'C00192', 'C01818', 'C00004', 'C00003', 'C01182', 'C00197', 'C18091', 'C00084', 'C00088', 'C00061', 'C01847', 'C00185', 'C00221', 'C01408', 'C00261', 'C00208', 'C00320', 'C02084', 'C00355', 'C00082', 'C02094', 'C00376', 'C00378', 'C05856', 'C00430', 'C00931', 'C00479', 'C02948', 'C00492', 'C08242', 'C00339', 'C00609', 'C01179', 'C00642', 'C04547', 'C00755', 'C01795', 'C00757', 'C00822', 'C01059', 'C00028', 'C01020', 'C00030', 'C04546', 'C01089', 'C01158', 'C04101', 'C01334', 'C01371', 'C01327', 'C01572', 'C01424', 'C02868', 'C01839', 'C00294', 'C01993', 'C01910', 'C02171', 'C02318', 'C01525', 'C02351', 'C00090', 'C01255', 'C02378', 'C03036', 'C00495', 'C03040', 'C03374', 'C00486', 'C05787', 'C01175', 'C04275', 'C04332', 'C00255', 'C04732', 'C05422', 'C00072', 'C05565', 'C03680', 'C05791', 'C05795', 'C02892', 'C00427', 'C05956', 'C01987', 'C02161', 'C00019', 'C00170', 'C05324', 'C14819', 'C14818', 'C03861', 'C00997', 'C01000', 'C01024', 'C00002', 'C00020', 'C00008', 'C00081', 'C00575', 'C02015', 'C00010', 'C00051', 'C00127', 'C01041', 'C00541', 'C00992', 'C00853', 'C00999', 'C00996', 'C02685', 'C02683', 'C00153', 'C00301', 'C00455', 'C00006', 'C00005', 'C00924', 'C00923', 'C00533', 'C00327', 'C05933', 'C13051', 'C00253', 'C00104', 'C01260', 'C03483', 'C04856', 'C00882', 'C00086', 'C01353', 'C00058', 'C00012', 'C00148', 'C00536', 'C11038', 'C11039', 'C03997', 'C02306', 'C05167', 'C00161', 'C00399', 'C00390', 'C00169', 'C00288', 'C01326', 'C00015', 'C00105', 'C00075', 'C00016', 'C00017', 'C00886', 'C02047', 'C02163', 'C00613', 'C02554', 'C02987', 'C03127', 'C05336', 'C00018', 'C00250', 'C00263', 'C00073', 'C01137', 'C01234', 'C02926', 'C00130', 'C00147', 'C00117', 'C00212', 'C06197', 'C00054', 'C00857', 'C00119', 'C00021', 'C00155', 'C03431', 'C03539', 'C06393', 'C00186', 'C00256', 'C01071', 'C01070', 'C00074', 'C00546', 'C00227', 'C00024', 'C03015', 'C00149', 'C00497', 'C00036', 'C03248', 'C03981', 'C00065', 'C00740', 'C00716', 'C06010', 'C00033', 'C00083', 'C05993', 'C01011', 'C00332', 'C03287', 'C01165', 'C01879', 'C05829', 'C00041', 'C00624', 'C00217', 'C00334', 'C03618', 'C05723', 'C00433', 'C00091', 'C00311', 'C05379', 'C00940', 'C05572', 'C01251', 'C00232', 'C00209', 'C00704', 'C00647', 'C00627', 'C00029', 'C00167', 'C00103', 'C00052', 'C00718', 'C04089', 'C00887', 'C01861', 'C11481', 'C01328', 'C03196', 'C00092', 'C00198', 'C03107', 'C02779', 'C15603', 'C15602', 'C00095', 'C00965', 'C02191', 'C00032', 'C00500', 'C00237', 'C03161', 'C03024', 'C05682', 'C06244', 'C02132', 'C02614', 'C02655', 'C00035', 'C00144', 'C00454', 'C00215', 'C00201', 'C01329', 'C01228', 'C00394', 'C00898', 'C02107', 'C03961', 'C02362', 'C04115', 'C00158', 'C00566', 'C00049', 'C00402', 'C00037', 'C00213', 'C03790', 'C03508', 'C00177', 'C00131', 'C00039', 'C00286', 'C00458', 'C00459', 'C02967', 'C00040', 'C00060', 'C00658', 'C00605', 'C01122', 'C21926', 'C21925', 'C02843', 'C00638', 'C00264', 'C04570', 'C04253', 'C02403', 'C02055', 'C03210', 'C00133', 'C03341', 'C00042', 'C00122', 'C04348', 'C01352', 'C04593', 'C00164', 'C05931', 'C00043', 'C00645', 'C04501', 'C04375', 'C03021', 'C00203', 'C01170', 'C04573', 'C04895', 'C01304', 'C05922', 'C04494', 'C00942', 'C00046', 'C02073', 'C00112', 'C00063', 'C00047', 'C04092', 'C04076', 'C03239', 'C01028', 'C00990', 'C00680', 'C04020', 'C02727', 'C00408', 'C00739', 'C01142', 'C01672', 'C02837', 'C00160', 'C00313', 'C00603', 'C01127', 'C05946', 'C03217', 'C01990', 'C03082', 'C05840', 'C00152', 'C00438', 'C02512', 'C01042', 'C00099', 'C01419', 'C00669', 'C03174', 'C00617', 'C00446', 'C00243', 'C04739', 'C03733', 'C05796', 'C00053', 'C00059', 'C00224', 'C00055', 'C00380', 'C00475', 'C02405', 'C00798', 'C00488', 'C01045', 'C01044', 'C01031', 'C00094', 'C02703', 'C02827', 'C08357', 'C00951', 'C08358', 'C05299', 'C08359', 'C05302', 'C00071', 'C02133', 'C00726', 'C03361', 'C02119', 'C02444', 'C02715', 'C02589', 'C00062', 'C00077', 'C05945', 'C16011', 'C03078', 'C04137', 'C01682', 'C00581', 'C00179', 'C00792', 'C00941', 'C02716', 'C00819', 'C00168', 'C01005', 'C00979', 'C02218', 'C03446', 'C01764', 'C04155', 'C17325', 'C04156', 'C17324', 'C04157', 'C01977', 'C04158', 'C04159', 'C04160', 'C04728', 'C11478', 'C00132', 'C00067', 'C02271', 'C01046', 'C02728', 'C01081', 'C03028', 'C05381', 'C00226', 'C01612', 'C01450', 'C01153', 'C00069', 'C01883', 'C02000', 'C02391', 'C00162', 'C01115', 'C01620', 'C03289', 'C01180', 'C03172', 'C01077', 'C00409', 'C03145', 'C00109', 'C00855', 'C03354', 'C00631', 'C04631', 'C02798', 'C00512', 'C03712', 'C04210', 'C04322', 'C00437', 'C00515', 'C00078', 'C00463', 'C00331', 'C02700', 'C02693', 'C03230', 'C00977', 'C02983', 'C00398', 'C02265', 'C00079', 'C00166', 'C02505', 'C00826', 'C03519', 'C00423', 'C05332', 'C00448', 'C03428', 'C00222', 'C03912', 'C00449', 'C03614', 'C00146', 'C03004', 'C02993', 'C00483', 'C00811', 'C04368', 'C00383', 'C05989', 'C00469', 'C03167', 'C00346', 'C00189', 'C03589', 'C00188', 'C00354', 'C00085', 'C00644', 'C00279', 'C00665', 'C00352', 'C02591', 'C00275', 'C03139', 'C01566', 'C00097', 'C00283', 'C05358', 'C05357', 'C00244', 'C01837', 'C02336', 'C00267', 'C05731', 'C03848', 'C01742', 'C16688', 'C00615', 'C04261', 'C04091', 'C06321', 'C04221', 'C00682', 'C02480', 'C00805', 'C00196', 'C00230', 'C00108', 'C01502', 'C01988', 'C02232', 'C03296', 'C01213', 'C01096', 'C01236', 'C00689', 'C02995', 'C04534', 'C00093', 'C00116', 'C00111', 'C00118', 'C00681', 'C04641', 'C04703', 'C00513', 'C03120', 'C02315', 'C02582', 'C00606', 'C09306', 'C00087', 'C00392', 'C01094', 'C05345', 'C10906', 'C00273', 'C03267', 'C00794', 'C00159', 'C00096', 'C00976', 'C00636', 'C01222', 'C02280', 'C02492', 'C00491', 'C00957', 'C00302', 'C05526', 'C00506', 'C00793', 'C05665', 'C02642', 'C02207', 'C01073', 'C05341', 'C05340', 'C03065', 'C02335', 'C03722', 'C05669', 'C05670', 'C00100', 'C03240', 'C00683', 'C00894', 'C00163', 'C02876', 'C00349', 'C05983', 'C03344', 'C02225', 'C02630', 'C06027', 'C06002', 'C00101', 'C00415', 'C00504', 'C00234', 'C09332', 'C00143', 'C00440', 'C00498', 'C01231', 'C02048', 'C00501', 'C00668', 'C00299', 'C01103', 'C00106', 'C06198', 'C03030', 'C00429', 'C00813', 'C02247', 'C02775', 'C03005', 'C00251', 'C00328', 'C05653', 'C03147', 'C00292', 'C05835', 'C06032', 'C06030', 'C02488', 'C01118', 'C05984', 'C02291', 'C00110', 'C00381', 'C00621', 'C01246', 'C04500', 'C04678', 'C21212', 'C03862', 'C00184', 'C03372', 'C03394', 'C00113', 'C01359', 'C00588', 'C00114', 'C00576', 'C01996', 'C00919', 'C01777', 'C00670', 'C02634', 'C00698', 'C02635', 'C02357', 'C00577', 'C02979', 'C00623', 'C00969', 'C01151', 'C00121', 'C03090', 'C01168', 'C00199', 'C00620', 'C00236', 'C01286', 'C00673', 'C00231', 'C03785', 'C05378', 'C02739', 'C04302', 'C05921', 'C00120', 'C01894', 'C01893', 'C05552', 'C01685', 'C00309', 'C03794', 'C02514', 'C03406', 'C01384', 'C00123', 'C00233', 'C02710', 'C02486', 'C00984', 'C00124', 'C01697', 'C03383', 'C02669', 'C00880', 'C03269', 'C05402', 'C05401', 'C01420', 'C00736', 'C20788', 'C05330', 'C00920', 'C00128', 'C03691', 'C00270', 'C04799', 'C00129', 'C01143', 'C00235', 'C04432', 'C04734', 'C00262', 'C00655', 'C00206', 'C01438', 'C03716', 'C02704', 'C18234', 'C18233', 'C03738', 'C00993', 'C00555', 'C00436', 'C02723', 'C02714', 'C00860', 'C00135', 'C01152', 'C02997', 'C03277', 'C01929', 'C00386', 'C00388', 'C00785', 'C05575', 'C00136', 'C00877', 'C01412', 'C02527', 'C00246', 'C05269', 'C20675', 'C20676', 'C01989', 'C00630', 'C00137', 'C00691', 'C00191', 'C01177', 'C03546', 'C04006', 'C03659', 'C03660', 'C06352', 'C01235', 'C01225', 'C00329', 'C00357', 'C20328', 'C01133', 'C00611', 'C00461', 'C04039', 'C00141', 'C01088', 'C00183', 'C02504', 'C00966', 'C00445', 'C02115', 'C00387', 'C00242', 'C00145', 'C20791', 'C02885', 'C00156', 'C01403', 'C03097', 'C15584', 'C00548', 'C00850', 'C03564', 'C01157', 'C00763', 'C00151', 'C05710', 'C03740', 'C02850', 'C03148', 'C00405', 'C04540', 'C02918', 'C03150', 'C00154', 'C00249', 'C00517', 'C05272', 'C02934', 'C00542', 'C11838', 'C01817', 'C00633', 'C00180', 'C00530', 'C02949', 'C03993', 'C13635', 'C02519', 'C02370', 'C00157', 'C00416', 'C00641', 'C04230', 'C04233', 'C00219', 'C04308', 'C00307', 'C00417', 'C05400', 'C00266', 'C00988', 'C05406', 'C03600', 'C00538', 'C15565', 'C03547', 'C00435', 'C00340', 'C03395', 'C00422', 'C01885', 'C02112', 'C03652', 'C00356', 'C01061', 'C00207', 'C06144', 'C00165', 'C05607', 'C05852', 'C00254', 'C00601', 'C02763', 'C05385', 'C03033', 'C01335', 'C00190', 'C01623', 'C02330', 'C00258', 'C00975', 'C01563', 'C02427', 'C03089', 'C04188', 'C00173', 'C00693', 'C20683', 'C00229', 'C03371', 'C02743', 'C05712', 'C05714', 'C02376', 'C00178', 'C03088', 'C05281', 'C00906', 'C21028', 'C02726', 'C03047', 'C06206', 'C06433', 'C01586', 'C02253', 'C00587', 'C00181', 'C02266', 'C00379', 'C00310', 'C02352', 'C02787', 'C01093', 'C06219', 'C02964', 'C00424', 'C17205', 'C00827', 'C00187', 'C01164', 'C15992', 'C05418', 'C05500', 'C00667', 'C00662', 'C01802', 'C00599', 'C03855', 'C02530', 'C03594', 'C01102', 'C00820', 'C01233', 'C03737', 'C01191', 'C00935', 'C06370', 'C00800', 'C00905', 'C02670', 'C03387', 'C03124', 'C00193', 'C00539', 'C03485', 'C00194', 'C00195', 'C00319', 'C02960', 'C01190', 'C02686', 'C00570', 'C06062', 'C04030', 'C04171', 'C03666', 'C04480', 'C03232', 'C01159', 'C04262', 'C00257', 'C01068', 'C00345', 'C01112', 'C00202', 'C03113', 'C16487', 'C04507', 'C17556', 'C00204', 'C00817', 'C04442', 'C04349', 'C04471', 'C03752', 'C00360', 'C01845', 'C02659', 'C00663', 'C02130', 'C01367', 'C01043', 'C01026', 'C00300', 'C00364', 'C00214', 'C00672', 'C00216', 'C00652', 'C01187', 'C02671', 'C06379', 'C02237', 'C02721', 'C00218', 'C03153', 'C03623', 'C00543', 'C02294', 'C05966', 'C04822', 'C05356', 'C05965', 'C02249', 'C01172', 'C01013', 'C03071', 'C00804', 'C00223', 'C06561', 'C03582', 'C05608', 'C04498', 'C03851', 'C03939', 'C01209', 'C02637', 'C02814', 'C01163', 'C04484', 'C06318', 'C03223', 'C03233', 'C02236', 'C05382', 'C00989', 'C05601', 'C06201', 'C01215', 'C05715', 'C02939', 'C04236', 'C05928', 'C04290', 'C00341', 'C02569', 'C00239', 'C00365', 'C00881', 'C00705', 'C03495', 'C00385', 'C05403', 'C00519', 'C00245', 'C01616', 'C00593', 'C01959', 'C03193', 'C05844', 'C01771', 'C06435', 'C00247', 'C00579', 'C00248', 'C16255', 'C15972', 'C16254', 'C15977', 'C15975', 'C01948', 'C05764', 'C00971', 'C00314', 'C00847', 'C00534', 'C01269', 'C11355', 'C00885', 'C00252', 'C01004', 'C03003', 'C05380', 'C01185', 'C02930', 'C00474', 'C01727', 'C03114', 'C00937', 'C03451', 'C01062', 'C06473', 'C03459', 'C03906', 'C00259', 'C01114', 'C00532', 'C02761', 'C00508', 'C02474', 'C00556', 'C02137', 'C03290', 'C00561', 'C00441', 'C00640', 'C01086', 'C01656', 'C01380', 'C03826', 'C00684', 'C06441', 'C00369', 'C00721', 'C00268', 'C00272', 'C00269', 'C02255', 'C02737', 'C03892', 'C01194', 'C03410', 'C06241', 'C04015', 'C04016', 'C04017', 'C06313', 'C04244', 'C00643', 'C01935', 'C06400', 'C03393', 'C04691', 'C00447', 'C00280', 'C04676', 'C00674', 'C03772', 'C00535', 'C01227', 'C05290', 'C05296', 'C02076', 'C01857', 'C00375', 'C00362', 'C00330', 'C00361', 'C00568', 'C06011', 'C01402', 'C00337', 'C00295', 'C00296', 'C00944', 'C01368', 'C00526', 'C02305', 'C00791', 'C01201', 'C03281', 'C01822', 'C03154', 'C00825', 'C00550', 'C00476', 'C03291', 'C00312', 'C00618', 'C01508', 'C06051', 'C03996', 'C06257', 'C06056', 'C00315', 'C00986', 'C05730', 'C15025', 'C02636', 'C02290', 'C00318', 'C02990', 'C02301', 'C06124', 'C01747', 'C03640', 'C01755', 'C00322', 'C02360', 'C00527', 'C05662', 'C05533', 'C02220', 'C00956', 'C06157', 'C10945', 'C00323', 'C00406', 'C01197', 'C03002', 'C00852', 'C02927', 'C00325', 'C02985', 'C01252', 'C03227', 'C01075', 'C06023', 'C21289', 'C05644', 'C00637', 'C01144', 'C03561', 'C04037', 'C00333', 'C00879', 'C00470', 'C00558', 'C06430', 'C02946', 'C01035', 'C00884', 'C00347', 'C02434', 'C02344', 'C02462', 'C03190', 'C17622', 'C06069', 'C06074', 'C06075', 'C06076', 'C00521', 'C00342', 'C00343', 'C01346', 'C00460', 'C02989', 'C00344', 'C05980', 'C01218', 'C01210', 'C04305', 'C04080', 'C01188', 'C01205', 'C00350', 'C04438', 'C05973', 'C01241', 'C06156', 'C00353', 'C05427', 'C01414', 'C03427', 'C06089', 'C04796', 'C04797', 'C04045', 'C03758', 'C00418', 'C03761', 'C03231', 'C04257', 'C00559', 'C00363', 'C00366', 'C11821', 'C03641', 'C00370', 'C01958', 'C01054', 'C03423', 'C00371', 'C03300', 'C00372', 'C17142', 'C17141', 'C00777', 'C00473', 'C02110', 'C05916', 'C05918', 'C01279', 'C04294', 'C02895', 'C02536', 'C15607', 'C05515', 'C01762', 'C01262', 'C06193', 'C05130', 'C05135', 'C05127', 'C00389', 'C04524', 'C04443', 'C05623', 'C00616', 'C01617', 'C00395', 'C02954', 'C03536', 'C00396', 'C03169', 'C06213', 'C00400', 'C00843', 'C02904', 'C03962', 'C00634', 'C00401', 'C00635', 'C06380', 'C04387', 'C00403', 'C00404', 'C05226', 'C03135', 'C06378', 'C02666', 'C01494', 'C02572', 'C00407', 'C00671', 'C00450', 'C04042', 'C00410', 'C03681', 'C03027', 'C01176', 'C03205', 'C03747', 'C05479', 'C01953', 'C05498', 'C05610', 'C00411', 'C00482', 'C00412', 'C00510', 'C02041', 'C01138', 'C00413', 'C03462', 'C03731', 'C00414', 'C00854', 'C01880', 'C04316', 'C00571', 'C02395', 'C00921', 'C03204', 'C03974', 'C00490', 'C02341', 'C01107', 'C00772', 'C03463', 'C00419', 'C03475', 'C05629', 'C01772', 'C00540', 'C04164', 'C00583', 'C02917', 'C03979', 'C01099', 'C01131', 'C00639', 'C00584', 'C00696', 'C01312', 'C02198', 'C02800', 'C03741', 'C00431', 'C03273', 'C03087', 'C00679', 'C04282', 'C01250', 'C03703', 'C00439', 'C00664', 'C06020', 'C06021', 'C03283', 'C05841', 'C03479', 'C03115', 'C01841', 'C01860', 'C02004', 'C06111', 'C06394', 'C00451', 'C04617', 'C00842', 'C02097', 'C01812', 'C00462', 'C01872', 'C03574', 'C05658', 'C03506', 'C15586', 'C15587', 'C00466', 'C00741', 'C03046', 'C04359', 'C02537', 'C00468', 'C02538', 'C05297', 'C05298', 'C05300', 'C11133', 'C01537', 'C02273', 'C06118', 'C00472', 'C02075', 'C02588', 'C00899', 'C05822', 'C00477', 'C02513', 'C02633', 'C02681', 'C05979', 'C01162', 'C00481', 'C05619', 'C00933', 'C03765', 'C02442', 'C02717', 'C07565', 'C03142', 'C00487', 'C02571', 'C01181', 'C02224', 'C00489', 'C00531', 'C01962', 'C05824', 'C03175', 'C00493', 'C02947', 'C01448', 'C15504', 'C01140', 'C00499', 'C02091', 'C02350', 'C01219', 'C00502', 'C02753', 'C03494', 'C00503', 'C05528', 'C01750', 'C00507', 'C00861', 'C02431', 'C01101', 'C00509', 'C05631', 'C05911', 'C00974', 'C01477', 'C06356', 'C05195', 'C06322', 'C03141', 'C00514', 'C02024', 'C01110', 'C03943', 'C00823', 'C06123', 'C01120', 'C01678', 'C00964', 'C01123', 'C02452', 'C00522', 'C01053', 'C00864', 'C00523', 'C11135', 'C00524', 'C02248', 'C03137', 'C00525', 'C03414', 'C02674', 'C00628', 'C00904', 'C03917', 'C05293', 'C04295', 'C05294', 'C11134', 'C05291', 'C02466', 'C01745', 'C00903', 'C03134', 'C00565', 'C01104', 'C03626', 'C00544', 'C05593', 'C05585', 'C01036', 'C00545', 'C05235', 'C01888', 'C05999', 'C00547', 'C05577', 'C00788', 'C05589', 'C07086', 'C00582', 'C00552', 'C03548', 'C00553', 'C01455', 'C03710', 'C04335', 'C02020', 'C00557', 'C02240', 'C05512', 'C00844', 'C02372', 'C03872', 'C02824', 'C00719', 'C15973', 'C01008', 'C00580', 'C04022', 'C00511', 'C03166', 'C04148', 'C04707', 'C05953', 'C01167', 'C00585', 'C03721', 'C06369', 'C00586', 'C03573', 'C05674', 'C06459', 'C00590', 'C00761', 'C01200', 'C00591', 'C01064', 'C05123', 'C00596', 'C03453', 'C04479', 'C04075', 'C01273', 'C03091', 'C03238', 'C05853', 'C02083', 'C03773', 'C00602', 'C05527', 'C03022', 'C02583', 'C00614', 'C04142', 'C04087', 'C01155', 'C01156', 'C04575', 'C02797', 'C00619', 'C02940', 'C01034', 'C05513', 'C03947', 'C03189', 'C04133', 'C00686', 'C00625', 'C03792', 'C03000', 'C01288', 'C02167', 'C06440', 'C03460', 'C00632', 'C04409', 'C04584', 'C03986', 'C05640', 'C05831', 'C03590', 'C03198', 'C01468', 'C03742', 'C06192', 'C00954', 'C00955', 'C04202', 'C05960', 'C04046', 'C03692', 'C01161', 'C05338', 'C05646', 'C00780', 'C05648', 'C03766', 'C01855', 'C00650', 'C01109', 'C00651', 'C06035', 'C00878', 'C06316', 'C04429', 'C00653', 'C04667', 'C04260', 'C00700', 'C05502', 'C02373', 'C05284', 'C01058', 'C00377', 'C02718', 'C04390', 'C00666', 'C04421', 'C04544', 'C03646', 'C04517', 'C01801', 'C00675', 'C02269', 'C00818', 'C03871', 'C02501', 'C02170', 'C01271', 'C00685', 'C04136', 'C06018', 'C11907', 'C04268', 'C03187', 'C00688', 'C03319', 'C01214', 'C04287', 'C00692', 'C01212', 'C05892', 'C04877', 'C04890', 'C00694', 'C04891', 'C04855', 'C00695', 'C04643', 'C01292', 'C01794', 'C05122', 'C11637', 'C05959', 'C04758', 'C05957', 'C00697', 'C04392', 'C01319', 'C00703', 'C02436', 'C00706', 'C01614', 'C00708', 'C01382', 'C03195', 'C00712', 'C01203', 'C00715', 'C03212', 'C03975', 'C00717', 'C01370', 'C00722', 'C15588', 'C01372', 'C02658', 'C03620', 'C00727', 'C03338', 'C00729', 'C00783', 'C00734', 'C00735', 'C00762', 'C02821', 'C05497', 'C02822', 'C05489', 'C05471', 'C05488', 'C02965', 'C00738', 'C05161', 'C02532', 'C01726', 'C01602', 'C02385', 'C00810', 'C06108', 'C01457', 'C00744', 'C02400', 'C16150', 'C01056', 'C00745', 'C06178', 'C02724', 'C00747', 'C02691', 'C00748', 'C05778', 'C00750', 'C00751', 'C06083', 'C06317', 'C00756', 'C01545', 'C01387', 'C03329', 'C01557', 'C00758', 'C00760', 'C03588', 'C05469', 'C05939', 'C01489', 'C00764', 'C09099', 'C00766', 'C09321', 'C00774', 'C01744', 'C02183', 'C11061', 'C00778', 'C00779', 'C04033', 'C01173', 'C05634', 'C05647', 'C06212', 'C00978', 'C05659', 'C10503', 'C00786', 'C04545', 'C05588', 'C00789', 'C02565', 'C03771', 'C05399', 'C01097', 'C00795', 'C01047', 'C00797', 'C00814', 'C06563', 'C09126', 'C01040', 'C01117', 'C00801', 'C00676', 'C00802', 'C01444', 'C01842', 'C00803', 'C05985', 'C06202', 'C01405', 'C00806', 'C06067', 'C01765', 'C00808', 'C01766', 'C00809', 'C03044', 'C01769', 'C16828', 'C04415', 'C05627', 'C02749', 'C00812', 'C02675', 'C00815', 'C04381', 'C00821', 'C03391', 'C05604', 'C00828', 'C05819', 'C00829', 'C04314', 'C02287', 'C00830', 'C00872', 'C01134', 'C00831', 'C04079', 'C00835', 'C02333', 'C02953', 'C00836', 'C03016', 'C00839', 'C01864', 'C00841', 'C06017', 'C08325', 'C00845', 'C01546', 'C03724', 'C00846', 'C02222', 'C03586', 'C06050', 'C03092', 'C00848', 'C04718', 'C03062', 'C02823', 'C03110', 'C00856', 'C00858', 'C01562', 'C00859', 'C03579', 'C02035', 'C01100', 'C01001', 'C00862', 'C03517', 'C00863', 'C03707', 'C03492', 'C04510', 'C00868', 'C02764', 'C03042', 'C00869', 'C03045', 'C00870', 'C02235', 'C03360', 'C00876', 'C01080', 'C02411', 'C05231', 'C02331', 'C01216', 'C02123', 'C00888', 'C00892', 'C00891', 'C05668', 'C03455', 'C04181', 'C01933', 'C00902', 'C02394', 'C21029', 'C03524', 'C00908', 'C00909', 'C02165', 'C02166', 'C02508', 'C00911', 'C00916', 'C03112', 'C04712', 'C03601', 'C00918', 'C01300', 'C04807', 'C00922', 'C02295', 'C00927', 'C01739', 'C01941', 'C18094', 'C02912', 'C06159', 'C03935', 'C05295', 'C05301', 'C05141', 'C05503', 'C05834', 'C02938', 'C04197', 'C04211', 'C05560', 'C05823', 'C00958', 'C03454', 'C03686', 'C00961', 'C03683', 'C01767', 'C02457', 'C01021', 'C00972', 'C00973', 'C03648', 'C02906', 'C05903', 'C01768', 'C01598', 'C03584', 'C01513', 'C00982', 'C03717', 'C02555', 'C01171', 'C01600', 'C00991', 'C03875', 'C01003', 'C01012', 'C01125', 'C01019', 'C02475', 'C01721', 'C04226', 'C01051', 'C05766', 'C03955', 'C01033', 'C03345', 'C15980', 'C15979', 'C03836', 'C02647', 'C01909', 'C01037', 'C03409', 'C03799', 'C01048', 'C01050', 'C02463', 'C02469', 'C03263', 'C01724', 'C01902', 'C01297', 'C01596', 'C02502', 'C01060', 'C01244', 'C01829', 'C01063', 'C02656', 'C01092', 'C01066', 'C02129', 'C03228', 'C01069', 'C03719', 'C02153', 'C03789', 'C01078', 'C04397', 'C04398', 'C01079', 'C04752', 'C04327', 'C03197', 'C01087', 'C01090', 'C01986', 'C03050', 'C01091', 'C04318', 'C01626', 'C04425', 'C02888', 'C01113', 'C01267', 'C01108', 'C01249', 'C01111', 'C05641', 'C04478', 'C03847', 'C05396', 'C04292', 'C04212', 'C02485', 'C02140', 'C01124', 'C01780', 'C01126', 'C03461', 'C03220', 'C03079', 'C03946', 'C01495', 'C04069', 'C15555', 'C04352', 'C03375', 'C01247', 'C01139', 'C04141', 'C01141', 'C01186', 'C03921', 'C01147', 'C06105', 'C03739', 'C03241', 'C01149', 'C01259', 'C03897', 'C01877', 'C04281', 'C03440', 'C06189', 'C04043', 'C04642', 'C05582', 'C03077', 'C01278', 'C04553', 'C02067', 'C06240', 'C01581', 'C03735', 'C01624', 'C02887', 'C04518', 'C05138', 'C04062', 'C04299', 'C03964', 'C05350', 'C02846', 'C01183', 'C02299', 'C03656', 'C04121', 'C04047', 'C01189', 'C03845', 'C01290', 'C02399', 'C02189', 'C04036', 'C01192', 'C04227', 'C01869', 'C03819', 'C01277', 'C04549', 'C04366', 'C06224', 'C01198', 'C04044', 'C04088', 'C01204', 'C04563', 'C04579', 'C22038', 'C01850', 'C03486', 'C02188', 'C01211', 'C03366', 'C16741', 'C04487', 'C01283', 'C01270', 'C01217', 'C05927', 'C01274', 'C04297', 'C01220', 'C01245', 'C01280', 'C01221', 'C02977', 'C03117', 'C04780', 'C01226', 'C04672', 'C04555', 'C05139', 'C04215', 'C01229', 'C04340', 'C04635', 'C01613', 'C01239', 'C01240', 'C03418', 'C03419', 'C01242', 'C02051', 'C01243', 'C04063', 'C01272', 'C04477', 'C04367', 'C04637', 'C04598', 'C04317', 'C05212', 'C01717', 'C04002', 'C01253', 'C03315', 'C04277', 'C01293', 'C01256', 'C03793', 'C04271', 'C01263', 'C01264', 'C03820', 'C03968', 'C04444', 'C01265', 'C04666', 'C04454', 'C01268', 'C04604', 'C02526', 'C03750', 'C04330', 'C01275', 'C03057', 'C03203', 'C04872', 'C04556', 'C03373', 'C05198', 'C01299', 'C01281', 'C01282', 'C04636', 'C04792', 'C01294', 'C01284', 'C04520', 'C04248', 'C04737', 'C04730', 'C04740', 'C06135', 'C01132', 'C04675', 'C01291', 'C01920', 'C04661', 'C04280', 'C03365', 'C01295', 'C03844', 'C01298', 'C04673', 'C04874', 'C01301', 'C04722', 'C05446', 'C01302', 'C02059', 'C05849', 'C00265', 'C01119', 'C02785', 'C01306', 'C04917', 'C01308', 'C04726', 'C04864', 'C01310', 'C04865', 'C01311', 'C04835', 'C05961', 'C02661', 'C01324', 'C00963', 'C02882', 'C01336', 'C01343', 'C01345', 'C01344', 'C06196', 'C02353', 'C02355', 'C05590', 'C02515', 'C01401', 'C01407', 'C06142', 'C01417', 'C01418', 'C02390', 'C01421', 'C03093', 'C03671', 'C04324', 'C05616', 'C01997', 'C02415', 'C00573', 'C01433', 'C01512', 'C01852', 'C06071', 'C01451', 'C02323', 'C04592', 'C01542', 'C01467', 'C01479', 'C01456', 'C02046', 'C04024', 'C01460', 'C02923', 'C02657', 'C06730', 'C01469', 'C01470', 'C02001', 'C01471', 'C04719', 'C01474', 'C04608', 'C01485', 'C01486', 'C02962', 'C01487', 'C01569', 'C01488', 'C02564', 'C01500', 'C01499', 'C01710', 'C01504', 'C01506', 'C03667', 'C01510', 'C02994', 'C04293', 'C01514', 'C03951', 'C03515', 'C01516', 'C01735', 'C01526', 'C04447', 'C01527', 'C01752', 'C05172', 'C01528', 'C05684', 'C05688', 'C01529', 'C05697', 'C01533', 'C02325', 'C02574', 'C01540', 'C01550', 'C03994', 'C03649', 'C16722', 'C01561', 'C01673', 'C05443', 'C03256', 'C01564', 'C02872', 'C01573', 'C01575', 'C04351', 'C01582', 'C02722', 'C01585', 'C02560', 'C01589', 'C02549', 'C01590', 'C02922', 'C01592', 'C16717', 'C01593', 'C01594', 'C01595', 'C04717', 'C04056', 'C05642', 'C05643', 'C01606', 'C04783', 'C02060', 'C01607', 'C01610', 'C02864', 'C05404', 'C05906', 'C03052', 'C01618', 'C01625', 'C01870', 'C01628', 'C05850', 'C16711', 'C06181', 'C01677', 'C02243', 'C03537', 'C01680', 'C01693', 'C04185', 'C05578', 'C04416', 'C01694', 'C05913', 'C04034', 'C01698', 'C04070', 'C01699', 'C02687', 'C01702', 'C04333', 'C01711', 'C04199', 'C01714', 'C06325', 'C01720', 'C03827', 'C05109', 'C02855', 'C02274', 'C01732', 'C06029', 'C06028', 'C06174', 'C06175', 'C05325', 'C02744', 'C16614', 'C01756', 'C02752', 'C01757', 'C02074', 'C01761', 'C05392', 'C01770', 'C01991', 'C05158', 'C01779', 'C02809', 'C05473', 'C02817', 'C01792', 'C01921', 'C05467', 'C05315', 'C04118', 'C03910', 'C05107', 'C15781', 'C01804', 'C04083', 'C03156', 'C01838', 'C01816', 'C05990', 'C01821', 'C06326', 'C01826', 'C03064', 'C02465', 'C04655', 'C01832', 'C01848', 'C01849', 'C03325', 'C01851', 'C03470', 'C02080', 'C01853', 'C06080', 'C02879', 'C01863', 'C02213', 'C01868', 'C03575', 'C01874', 'C02367', 'C01875', 'C01876', 'C02941', 'C06103', 'C02956', 'C01881', 'C03194', 'C15535', 'C15534', 'C01892', 'C04371', 'C20787', 'C08794', 'C05437', 'C03606', 'C01906', 'C03297', 'C01918', 'C03368', 'C01925', 'C02991', 'C01934', 'C02141', 'C01943', 'C01944', 'C05276', 'C05265', 'C02838', 'C03796', 'C01946', 'C02445', 'C01949', 'C02289', 'C01951', 'C05485', 'C03149', 'C03476', 'C01969', 'C04833', 'C01972', 'C01978', 'C01449', 'C01983', 'C01984', 'C22239', 'C05650', 'C02193', 'C01995', 'C15539', 'C02003', 'C06079', 'C02008', 'C02006', 'C02010', 'C03860', 'C02013', 'C06218', 'C02027', 'C04251', 'C04131', 'C02028', 'C02339', 'C02031', 'C06095', 'C02034', 'C06096', 'C02777', 'C02037', 'C02050', 'C03035', 'C02972', 'C03313', 'C16693', 'C02061', 'C03025', 'C03162', 'C02069', 'C03448', 'C03302', 'C06222', 'C03309', 'C02090', 'C03170', 'C05432', 'C05435', 'C03034', 'C02345', 'C02099', 'C02100', 'C02101', 'C01810', 'C02103', 'C02489', 'C02105', 'C02106', 'C05202', 'C06167', 'C05174', 'C05917', 'C02128', 'C02374', 'C02915', 'C02134', 'C02139', 'C02880', 'C05490', 'C05475', 'C02623', 'C02146', 'C03221', 'C05261', 'C04529', 'C02151', 'C03677', 'C05949', 'C04853', 'C05951', 'C03363', 'C00045', 'C02172', 'C02298', 'C03303', 'C02179', 'C05544', 'C03516', 'C00305', 'C05963', 'C02199', 'C04194', 'C02200', 'C02467', 'C02771', 'C02206', 'C02214', 'C02494', 'C02216', 'C02774', 'C02217', 'C03824', 'C03676', 'C04431', 'C02223', 'C02612', 'C02226', 'C06031', 'C02567', 'C18170', 'C02231', 'C03726', 'C02245', 'C05620', 'C12347', 'C02270', 'C02282', 'C06112', 'C02284', 'C04354', 'C02283', 'C02297', 'C03687', 'C02303', 'C02320', 'C05729', 'C04802', 'C16687', 'C02347', 'C02348', 'C05944', 'C02354', 'C02366', 'C02796', 'C06387', 'C05501', 'C02381', 'C02379', 'C03058', 'C03702', 'C03624', 'C02419', 'C02430', 'C03294', 'C06199', 'C03715', 'C02446', 'C02576', 'C02590', 'C02453', 'C05772', 'C03832', 'C02470', 'C05645', 'C05830', 'C02755', 'C02471', 'C04105', 'C03567', 'C02495', 'C02497', 'C02648', 'C02499', 'C02750', 'C02631', 'C03673', 'C02509', 'C05711', 'C06114', 'C02528', 'C05337', 'C05466', 'C05465', 'C03990', 'C03254', 'C02534', 'C02575', 'C18933', 'C03636', 'C01664', 'C02587', 'C03684', 'C03642', 'C02592', 'C02593', 'C05273', 'C05259', 'C03881', 'C02038', 'C03808', 'C02601', 'C02611', 'C03882', 'C01746', 'C02616', 'C02625', 'C02933', 'C05165', 'C04411', 'C03754', 'C02632', 'C03727', 'C02086', 'C05855', 'C02646', 'C05718', 'C02660', 'C03098', 'C16690', 'C03933', 'C02673', 'C04578', 'C05223', 'C02679', 'C02682', 'C02684', 'C06126', 'C06125', 'C06128', 'C03422', 'C02705', 'C04386', 'C02706', 'C03874', 'C02707', 'C02709', 'C02720', 'C05936', 'C06195', 'C03846', 'C03682', 'C05548', 'C03160', 'C02730', 'C05817', 'C02732', 'C03529', 'C03711', 'C02735', 'C05974', 'C02741', 'C04896', 'C04713', 'C02759', 'C04435', 'C04508', 'C02768', 'C02773', 'C02778', 'C03954', 'C02782', 'C03926', 'C04205', 'C02791', 'C05672', 'C03587', 'C02945', 'C03357', 'C02801', 'C03237', 'C02804', 'C02986', 'C02805', 'C04167', 'C02807', 'C02811', 'C03206', 'C03941', 'C02816', 'C02835', 'C05133', 'C04437', 'C03625', 'C02858', 'C04422', 'C02860', 'C02863', 'C02871', 'C03957', 'C04339', 'C02890', 'C02899', 'C03032', 'C04648', 'C02900', 'C04511', 'C02905', 'C02916', 'C05843', 'C06210', 'C03899', 'C02929', 'C04446', 'C02932', 'C06121', 'C02937', 'C05837', 'C03069', 'C03930', 'C02943', 'C02944', 'C03037', 'C02952', 'C05551', 'C01490', 'C03864', 'C02975', 'C03865', 'C03503', 'C02980', 'C02999', 'C02713', 'C04303', 'C03001', 'C02126', 'C03012', 'C06204', 'C03956', 'C03018', 'C03634', 'C03019', 'C03023', 'C03895', 'C05102', 'C04103', 'C03049', 'C03056', 'C03458', 'C03063', 'C04052', 'C05600', 'C03066', 'C03678', 'C03351', 'C03067', 'C05998', 'C03070', 'C03679', 'C03837', 'C03081', 'C03838', 'C04061', 'C03105', 'C05557', 'C06564', 'C04778', 'C03657', 'C04468', 'C03164', 'C03557', 'C03392', 'C03173', 'C03178', 'C03314', 'C03188', 'C04025', 'C04590', 'C05343', 'C05977', 'C03201', 'C04108', 'C03748', 'C03207', 'C04234', 'C03215', 'C03982', 'C03219', 'C05262', 'C05636', 'C05770', 'C04645', 'C03268', 'C04925', 'C03272', 'C03817', 'C03284', 'C03415', 'C04311', 'C03306', 'C03317', 'C04149', 'C03318', 'C03323', 'C03972', 'C20258', 'C03690', 'C03343', 'C02498', 'C04405', 'C04170', 'C02621', 'C03356', 'C04309', 'C04640', 'C04751', 'C06054', 'C04209', 'C03401', 'C03402', 'C06113', 'C04201', 'C03404', 'C04213', 'C11572', 'C05932', 'C05421', 'C03442', 'C04767', 'C01121', 'C06000', 'C01884', 'C03474', 'C04050', 'C03493', 'C04187', 'C03894', 'C03505', 'C04536', 'C03880', 'C03523', 'C00066', 'C03531', 'C05673', 'C05678', 'C05679', 'C05683', 'C05952', 'C03577', 'C05901', 'C02375', 'C03585', 'C04522', 'C05455', 'C03598', 'C03599', 'C04232', 'C04258', 'C03617', 'C04698', 'C03619', 'C04081', 'C03622', 'C03621', 'C03632', 'C03798', 'C03633', 'C04312', 'C03638', 'C05904', 'C04434', 'C05375', 'C03674', 'C04448', 'C16674', 'C04789', 'C03706', 'C03723', 'C05143', 'C03743', 'C05587', 'C03764', 'C04291', 'C06044', 'C06160', 'C04353', 'C04404', 'C03767', 'C04373', 'C03129', 'C04391', 'C03788', 'C05546', 'C04250', 'C03800', 'C11475', 'C00677', 'C03802', 'C04341', 'C03803', 'C04399', 'C03804', 'C16672', 'C04512', 'C04708', 'C03823', 'C04376', 'C03840', 'C04110', 'C05111', 'C03852', 'C04615', 'C04537', 'C04459', 'C03866', 'C03868', 'C04695', 'C04611', 'C03900', 'C04264', 'C03901', 'C04445', 'C03905', 'C03904', 'C12208', 'C12525', 'C04625', 'C03918', 'C04639', 'C04488', 'C03920', 'C01330', 'C03576', 'C04504', 'C03922', 'C04178', 'C03925', 'C04771', 'C03927', 'C11136', 'C11132', 'C11131', 'C05744', 'C04385', 'C08886', 'C03963', 'C04476', 'C04361', 'C05539', 'C04462', 'C03985', 'C04433', 'C03995', 'C04815', 'C04696', 'C03998', 'C16669', 'C04457', 'C03999', 'C04561', 'C04000', 'C04755', 'C04010', 'C05147', 'C06040', 'C04677', 'C04051', 'C04186', 'C04053', 'C04419', 'C06250', 'C04586', 'C04067', 'C04503', 'C04071', 'C04196', 'C04073', 'C05535', 'C11482', 'C04084', 'C04379', 'C06188', 'C04725', 'C04099', 'C04690', 'C04106', 'C04527', 'C04109', 'C04564', 'C04125', 'C04565', 'C04128', 'C04489', 'C04144', 'C06358', 'C06359', 'C06357', 'C01760', 'C02533', 'C04756', 'C04619', 'C04180', 'C04582', 'C04208', 'C04207', 'C04219', 'C00737', 'C06483', 'C04225', 'C04525', 'C04618', 'C04246', 'C05745', 'C04775', 'C04247', 'C04259', 'C07282', 'C04679', 'C04346', 'C04272', 'C05938', 'C05947', 'C05941', 'C05942', 'C04334', 'C04298', 'C04806', 'C04300', 'C04377', 'C15556', 'C05995', 'C04848', 'C04342', 'C16667', 'C15503', 'C04597', 'C02201', 'C16644', 'C04649', 'C04384', 'C06037', 'C20991', 'C04315', 'C06038', 'C04589', 'C04426', 'C20497', 'C01289', 'C05131', 'C04692', 'C04441', 'C05364', 'C04840', 'C04453', 'C04505', 'C04466', 'C05464', 'C04483', 'C05463', 'C04485', 'C04486', 'C04759', 'C04845', 'C04818', 'C04502', 'C04748', 'C04506', 'C04576', 'C04516', 'C04530', 'C04814', 'C05860', 'C04817', 'C04542', 'C05981', 'C04552', 'C04581', 'C05445', 'C04554', 'C04644', 'C04559', 'C04558', 'C04674', 'C04680', 'C17276', 'C05411', 'C04742', 'C04577', 'C05898', 'C04574', 'C11827', 'C04638', 'C04623', 'C04596', 'C04599', 'C04731', 'C04606', 'C04711', 'C04858', 'C04776', 'C07278', 'C04630', 'C04613', 'C04847', 'C04886', 'C05753', 'C05754', 'C04620', 'C05750', 'C05751', 'C04621', 'C04622', 'C04832', 'C04628', 'C11903', 'C11904', 'C04768', 'C04632', 'C04633', 'C05762', 'C05763', 'C05447', 'C04866', 'C04652', 'C04824', 'C06022', 'C04688', 'C04741', 'C04654', 'C04850', 'C04656', 'C04671', 'C04916', 'C04823', 'C04681', 'C04735', 'C04682', 'C04736', 'C04887', 'C04683', 'C04685', 'C04686', 'C05759', 'C04738', 'C05760', 'C04773', 'C04475', 'C04702', 'C04902', 'C04750', 'C04706', 'C04729', 'C04859', 'C04715', 'C06066', 'C04831', 'C04720', 'C04760', 'C01788', 'C04808', 'C04724', 'C04727', 'C04763', 'C06133', 'C04884', 'C03725', 'C04901', 'C05460', 'C06052', 'C05775', 'C04907', 'C04791', 'C04793', 'C04844', 'C06047', 'C06048', 'C04798', 'C05155', 'C04913', 'C04800', 'C04801', 'C04827', 'C04932', 'C04903', 'C04825', 'C04867', 'C04834', 'C04849', 'C04843', 'C04910', 'C06432', 'C04924', 'C05950', 'C04882', 'C05622', 'C04923', 'C04861', 'C05925', 'C05926', 'C04875', 'C04883', 'C04911', 'C06134', 'C04926', 'C04885', 'C04930', 'C06148', 'C04905', 'C04908', 'C04934', 'C04906', 'C04920', 'C04909', 'C06131', 'C06136', 'C04927', 'C06141', 'C04937', 'C04914', 'C04939', 'C04922', 'C04936', 'C04919', 'C06024', 'C04938', 'C06138', 'C06140', 'C04943', 'C04880', 'C05159', 'C04944', 'C05439', 'C05110', 'C06006', 'C05827', 'C05487', 'C05499', 'C05140', 'C05504', 'C05156', 'C05976', 'C05157', 'C02056', 'C05839', 'C05825', 'C05175', 'C06163', 'C05176', 'C06161', 'C05177', 'C05243', 'C05178', 'C05179', 'C05220', 'C05189', 'C05190', 'C05191', 'C05247', 'C06162', 'C05316', 'C05193', 'C05194', 'C06327', 'C06355', 'C05313', 'C05200', 'C05314', 'C05201', 'C05317', 'C05203', 'C06350', 'C05318', 'C05204', 'C05319', 'C05205', 'C05320', 'C05206', 'C05321', 'C05207', 'C05208', 'C05210', 'C05209', 'C05218', 'C05217', 'C05322', 'C05758', 'C02998', 'C01890', 'C05229', 'C05230', 'C05232', 'C05329', 'C01392', 'C05234', 'C05239', 'C05516', 'C05326', 'C05250', 'C15522', 'C05328', 'C05258', 'C05260', 'C05263', 'C05274', 'C05264', 'C05275', 'C05266', 'C05267', 'C05270', 'C05268', 'C05271', 'C05280', 'C05279', 'C05285', 'C05440', 'C06165', 'C06173', 'C05335', 'C05703', 'C05691', 'C05690', 'C05708', 'C05595', 'C05596', 'C05394', 'C05412', 'C05413', 'C05414', 'C05430', 'C05416', 'C05417', 'C05423', 'C05424', 'C05425', 'C05798', 'C05431', 'C05434', 'C05444', 'C05452', 'C05454', 'C05468', 'C05448', 'C05449', 'C15614', 'C05451', 'C05453', 'C17339', 'C05458', 'C05470', 'C05481', 'C05472', 'C05482', 'C05474', 'C05476', 'C05478', 'C05477', 'C05483', 'C05480', 'C05484', 'C05545', 'C05556', 'C05568', 'C05570', 'C05571', 'C16673', 'C05576', 'C05594', 'C05580', 'C05579', 'C05584', 'C05581', 'C05583', 'C05625', 'C05907', 'C05635', 'C05660', 'C05832', 'C05637', 'C05638', 'C05639', 'C05651', 'C05656', 'C05652', 'C05663', 'C06330', 'C05654', 'C05655', 'C05675', 'C05681', 'C05676', 'C05680', 'C05686', 'C05696', 'C05699', 'C05689', 'C05704', 'C05705', 'C05706', 'C05695', 'C05692', 'C05698', 'C05707', 'C05702', 'C05713', 'C05727', 'C05726', 'C05746', 'C05747', 'C05748', 'C05749', 'C05752', 'C05755', 'C05756', 'C05757', 'C05761', 'C05767', 'C05768', 'C05769', 'C05773', 'C05774', 'C05771', 'C05786', 'C05912', 'C05800', 'C05801', 'C05802', 'C05807', 'C05848', 'C05809', 'C05810', 'C05811', 'C05812', 'C21084', 'C05828', 'C05838', 'C05851', 'C05847', 'C06207', 'C05861', 'C05894', 'C05893', 'C05897', 'C05902', 'C05905', 'C05908', 'C05909', 'C05914', 'C05915', 'C05919', 'C05920', 'C05923', 'C05955', 'C05954', 'C05958', 'C05962', 'C05964', 'C06360', 'C05986', 'C05994', 'C06255', 'C06001', 'C06007', 'C14463', 'C06484', 'C00950', 'C06025', 'C06026', 'C06251', 'C06034', 'C06234', 'C06036', 'C06041', 'C06046', 'C06055', 'C06057', 'C06068', 'C06070', 'C20790', 'C06090', 'C06094', 'C06102', 'C06104', 'C06127', 'C06130', 'C06132', 'C06139', 'C06143', 'C11552', 'C06145', 'C06146', 'C06149', 'C06171', 'C06172', 'C06180', 'C06182', 'C06183', 'C06184', 'C06187', 'C06186', 'C06194', 'C06203', 'C06215', 'C06216', 'C06217', 'C06246', 'C06247', 'C06249', 'C06337', 'C06408', 'C06319', 'C06320', 'C06323', 'C06324', 'C06413', 'C06415', 'C06328', 'C06329', 'C06343', 'C06331', 'C06332', 'C06333', 'C06336', 'C06338', 'C06339', 'C06342', 'C06348', 'C06346', 'C06363', 'C06361', 'C06365', 'C06364', 'C06367', 'C06368', 'C06371', 'C06372', 'C06374', 'C06376', 'C06377', 'C06381', 'C06384', 'C06382', 'C06383', 'C06388', 'C06389', 'C06390', 'C06392', 'C06395', 'C06396', 'C06397', 'C06398', 'C06399', 'C06404', 'C06403', 'C06407', 'C06406', 'C06416', 'C06410', 'C06409', 'C06414', 'C16715', 'C02869', 'C02745', 'C06462', 'C06512', 'C06520', 'C06517', 'C06518', 'C06511', 'C06516', 'C06504', 'C06505', 'C06506', 'C06508', 'C06509', 'C06510', 'C06503', 'C06507', 'C00175', 'C06565', 'C06568', 'C06576', 'C06577', 'C06611', 'C06613', 'C06612', 'C16348', 'C06578', 'C06603', 'C06614', 'C06615', 'C06589', 'C06579', 'C06580', 'C06585', 'C06586', 'C06599', 'C06600', 'C06587', 'C06581', 'C01751', 'C06639', 'C06640', 'C06648', 'C06637', 'C06638', 'C06644', 'C06645', 'C06650', 'C06651', 'C06604', 'C06606', 'C06649', 'C06584', 'C06588', 'C06575', 'C06601', 'C06635', 'C06678', 'C06679', 'C06672', 'C06671', 'C06335', 'C06673', 'C06674', 'C06675', 'C06677', 'C06757', 'C06758', 'C06752', 'C06753', 'C06754', 'C06755', 'C06756', 'C01454', 'C06729', 'C06760', 'C06761', 'C06762', 'C04112', 'C06569', 'C06566', 'C06714', 'C06715', 'C06718', 'C06717', 'C06719', 'C06720', 'C06721', 'C06722', 'C06723', 'C06726', 'C06725', 'C06727', 'C06728', 'C06731', 'C04687', 'C04670', 'C06732', 'C06735', 'C06736', 'C06737', 'C06739', 'C06738', 'C06740', 'C03514', 'C10517', 'C07281', 'C07296', 'C07297', 'C07350', 'C00865', 'C06254', 'C10974', 'C11062', 'C06019', 'C06647', 'C08592', 'C06605', 'C07216', 'C07209', 'C07213', 'C07214', 'C06711', 'C06712', 'C06548', 'C11348', 'C07113', 'C07478', 'C07084', 'C07085', 'C06593', 'C06657', 'C06658', 'C01998', 'C07731', 'C07734', 'C07087', 'C06646', 'C11353', 'C06582', 'C08062', 'C07123', 'C06609', 'C06610', 'C06597', 'C06598', 'C02557', 'C07479', 'C11354', 'C06680', 'C06641', 'C06893', 'C01659', 'C01548', 'C06772', 'C06771', 'C06636', 'C06642', 'C07075', 'C06596', 'C07102', 'C07103', 'C07090', 'C07095', 'C06676', 'C07093', 'C07094', 'C06876', 'C06813', 'C03434', 'C07099', 'C07097', 'C07089', 'C07717', 'C07718', 'C03569', 'C07724', 'C07725', 'C07733', 'C08060', 'C08061', 'C07083', 'C07100', 'C07101', 'C03664', 'C06607', 'C07715', 'C07721', 'C07111', 'C07189', 'C07215', 'C07092', 'C07720', 'C07729', 'C07722', 'C07727', 'C07728', 'C07732', 'C02124', 'C07212', 'C07208', 'C06547', 'C21105', 'C21104', 'C07096', 'C07098', 'C21103', 'C06670', 'C07114', 'C07118', 'C06986', 'C06627', 'C06626', 'C06570', 'C06628', 'C06629', 'C06655', 'C06656', 'C06659', 'C06660', 'C06661', 'C06662', 'C21859', 'C06643', 'C06594', 'C06602', 'C06608', 'C20782', 'C07088', 'C07112', 'C06793', 'C06789', 'C06790', 'C06791', 'C06792', 'C07091', 'C06620', 'C01912', 'C06634', 'C06616', 'C06653', 'C06633', 'C11922', 'C06630', 'C11916', 'C11911', 'C06988', 'C06989', 'C11352', 'C06990', 'C07719', 'C07723', 'C07726', 'C08063', 'C11351', 'C11356', 'C06551', 'C06552', 'C06553', 'C06554', 'C06748', 'C06555', 'C06556', 'C06559', 'C04881', 'C06560', 'C08735', 'C06311', 'C06557', 'C06558', 'C09819', 'C09820', 'C05116', 'C11377', 'C06749', 'C09821', 'C09812', 'C09813', 'C09824', 'C09825', 'C09817', 'C09818', 'C09816', 'C09815', 'C09814', 'C09811', 'C02734', 'C01904', 'C09809', 'C09810', 'C04146', 'C04216', 'C01230', 'C04217', 'C13425', 'C05306', 'C01389', 'C09823', 'C09822', 'C17558', 'C04851', 'C11434', 'C11435', 'C11436', 'C11439', 'C11440', 'C11437', 'C11453', 'C05108', 'C11455', 'C11425', 'C11426', 'C07838', 'C07836', 'C11472', 'C11427', 'C11422', 'C11429', 'C11431', 'C11432', 'C11428', 'C06891', 'C06892', 'C07211', 'C07024', 'C07025', 'C07026', 'C07027', 'C07028', 'C07029', 'C07030', 'C07031', 'C07032', 'C07288', 'C07287', 'C07335', 'C07326', 'C06485', 'C00770', 'C07328', 'C07329', 'C07277', 'C11496', 'C11497', 'C11498', 'C08825', 'C11499', 'C11501', 'C11500', 'C02029', 'C01007', 'C07330', 'C04203', 'C11502', 'C07338', 'C11503', 'C11504', 'C07343', 'C06526', 'C07344', 'C04350', 'C11505', 'C11506', 'C11507', 'C11508', 'C11509', 'C07345', 'C07289', 'C07347', 'C07348', 'C06701', 'C07294', 'C07295', 'C07307', 'C07304', 'C06697', 'C11215', 'C11510', 'C07308', 'C02079', 'C07349', 'C11511', 'C11512', 'C08491', 'C11513', 'C11514', 'C11515', 'C06308', 'C06307', 'C11516', 'C11519', 'C11520', 'C07303', 'C11521', 'C11523', 'C11522', 'C11527', 'C11526', 'C07331', 'C07272', 'C11529', 'C07301', 'C07271', 'C07276', 'C11531', 'C11535', 'C11536', 'C11537', 'C11544', 'C11546', 'C11547', 'C11548', 'C11554', 'C11549', 'C11550', 'C11551', 'C11553', 'C11174', 'C11555', 'C11556', 'C11557', 'C11538', 'C17401', 'C11539', 'C11540', 'C16242', 'C11541', 'C11542', 'C11543', 'C11545', 'C11630', 'C11631', 'C02780', 'C11679', 'C11632', 'C11633', 'C11634', 'C11635', 'C09239', 'C02793', 'C11636', 'C01957', 'C11638', 'C05598', 'C11678', 'C11680', 'C09024', 'C11682', 'C09241', 'C11691', 'C09244', 'C09107', 'C11643', 'C11675', 'C11641', 'C07201', 'C07204', 'C11735', 'C11676', 'C11677', 'C11783', 'C11784', 'C11642', 'C11681', 'C11683', 'C22150', 'C22151', 'C11807', 'C11808', 'C11809', 'C11810', 'C06542', 'C11811', 'C11812', 'C11813', 'C09330', 'C11814', 'C11815', 'C11816', 'C09248', 'C11817', 'C09328', 'C09337', 'C11672', 'C11673', 'C09769', 'C04150', 'C02970', 'C04772', 'C04276', 'C04830', 'C08481', 'C11409', 'C11383', 'C06099', 'C11822', 'C11823', 'C00241', 'C11825', 'C05519', 'C11826', 'C06091', 'C06092', 'C05790', 'C05794', 'C05789', 'C05793', 'C11829', 'C11830', 'C11831', 'C11832', 'C11850', 'C11872', 'C11873', 'C11874', 'C11875', 'C06093', 'C11876', 'C11857', 'C11901', 'C06086', 'C11878', 'C11879', 'C11880', 'C11881', 'C11894', 'C11895', 'C11896', 'C11897', 'C11898', 'C11899', 'C11700', 'C11900', 'C11902', 'C11890', 'C11891', 'C11892', 'C06088', 'C20151', 'C07394', 'C11893', 'C11860', 'C11861', 'C11858', 'C11859', 'C11862', 'C11863', 'C11864', 'C11905', 'C11865', 'C11868', 'C11853', 'C11869', 'C11854', 'C11855', 'C11870', 'C11871', 'C11856', 'C11866', 'C11867', 'C11882', 'C11883', 'C11884', 'C11887', 'C11886', 'C11885', 'C06087', 'C11888', 'C11889', 'C06567', 'C06592', 'C11924', 'C11929', 'C11934', 'C11935', 'C11936', 'C11412', 'C11398', 'C11395', 'C11408', 'C11396', 'C11411', 'C11397', 'C11410', 'C11401', 'C11415', 'C11399', 'C11413', 'C11400', 'C11416', 'C11402', 'C11414', 'C11403', 'C11418', 'C11404', 'C11406', 'C11417', 'C11420', 'C11405', 'C11419', 'C11407', 'C11421', 'C11937', 'C19079', 'C09880', 'C11938', 'C11939', 'C11940', 'C11941', 'C09884', 'C11944', 'C11942', 'C11943', 'C11946', 'C11945', 'C11947', 'C11948', 'C11949', 'C11950', 'C11951', 'C09893', 'C11952', 'C11393', 'C09844', 'C11908', 'C11925', 'C11909', 'C11910', 'C11930', 'C11928', 'C11927', 'C11920', 'C11915', 'C11926', 'C11912', 'C11933', 'C11918', 'C11923', 'C12000', 'C18026', 'C12001', 'C20760', 'C12002', 'C12003', 'C11989', 'C11990', 'C11991', 'C11992', 'C11993', 'C11997', 'C11994', 'C11998', 'C11995', 'C11996', 'C11999', 'C11969', 'C11970', 'C08628', 'C11977', 'C11978', 'C11953', 'C11954', 'C08616', 'C11961', 'C11962', 'C08615', 'C11971', 'C11979', 'C11955', 'C11963', 'C11972', 'C11980', 'C11956', 'C11964', 'C11973', 'C11921', 'C11975', 'C11974', 'C11976', 'C11981', 'C11983', 'C11982', 'C11984', 'C11957', 'C11959', 'C11958', 'C11960', 'C11965', 'C11967', 'C11966', 'C11968', 'C08980', 'C08983', 'C06428', 'C12083', 'C11985', 'C11986', 'C11987', 'C11988', 'C11919', 'C12126', 'C12142', 'C12144', 'C12145', 'C12146', 'C04122', 'C12147', 'C06562', 'C12127', 'C12137', 'C08604', 'C12138', 'C10107', 'C12128', 'C09727', 'C12136', 'C12095', 'C08639', 'C12096', 'C12141', 'C12139', 'C12140', 'C10192', 'C09762', 'C10208', 'C08650', 'C02920', 'C12135', 'C10419', 'C12203', 'C12204', 'C12205', 'C12206', 'C10434', 'C12210', 'C12211', 'C12212', 'C12213', 'C12214', 'C12215', 'C12106', 'C12109', 'C12108', 'C12107', 'C12176', 'C12246', 'C12247', 'C14721', 'C12044', 'C12248', 'C12134', 'C12124', 'C12249', 'C09320', 'C12313', 'C12314', 'C12324', 'C12325', 'C12323', 'C12318', 'C12319', 'C12320', 'C12321', 'C12322', 'C12026', 'C12348', 'C12350', 'C06625', 'C12441', 'C12442', 'C12354', 'C12355', 'C12356', 'C12396', 'C12397', 'C12398', 'C12400', 'C12399', 'C12401', 'C12402', 'C12404', 'C12405', 'C12447', 'C12406', 'C12407', 'C12409', 'C12410', 'C12411', 'C12412', 'C12408', 'C12414', 'C12413', 'C18680', 'C12395', 'C12390', 'C12391', 'C12392', 'C12393', 'C12394', 'C12416', 'C12415', 'C12417', 'C12419', 'C12418', 'C12420', 'C12421', 'C12422', 'C12423', 'C12424', 'C12425', 'C12426', 'C12443', 'C12427', 'C12428', 'C12429', 'C12430', 'C01907', 'C01661', 'C12431', 'C12432', 'C12433', 'C12434', 'C12435', 'C12436', 'C18358', 'C06691', 'C12437', 'C12366', 'C12367', 'C12368', 'C12369', 'C12370', 'C12371', 'C06801', 'C12373', 'C12374', 'C12375', 'C12376', 'C12377', 'C12378', 'C12380', 'C12382', 'C12383', 'C12384', 'C12385', 'C12446', 'C12386', 'C12444', 'C12387', 'C12440', 'C06177', 'C06176', 'C01416', 'C12448', 'C10858', 'C12449', 'C12450', 'C06179', 'C02066', 'C12452', 'C12453', 'C10850', 'C06524', 'C12455', 'C12454', 'C12470', 'C21097', 'C12483', 'C12461', 'C12462', 'C12463', 'C12456', 'C12457', 'C12458', 'C12460', 'C12459', 'C12467', 'C12468', 'C12469', 'C12479', 'C12480', 'C12481', 'C05073', 'C12474', 'C12475', 'C12476', 'C05080', 'C12471', 'C12472', 'C12473', 'C12032', 'C12477', 'C20637', 'C10126', 'C16933', 'C11457', 'C12621', 'C11588', 'C12622', 'C12623', 'C12624', 'C12631', 'C10521', 'C05376', 'C12625', 'C12638', 'C12640', 'C12641', 'C12647', 'C12642', 'C12644', 'C12645', 'C12634', 'C12635', 'C12636', 'C10098', 'C12626', 'C03898', 'C12639', 'C10175', 'C12667', 'C12668', 'C12637', 'C12633', 'C11620', 'C12643', 'C08620', 'C12646', 'C09789', 'C10020', 'C12628', 'C12629', 'C12627', 'C12632', 'C04900', 'C12630', 'C12832', 'C12831', 'C12833', 'C12834', 'C12835', 'C12838', 'C05618', 'C03572', 'C12836', 'C12837', 'C13378', 'C13508', 'C13482', 'C13620', 'C13621', 'C13645', 'C13622', 'C13623', 'C13624', 'C13625', 'C13626', 'C13628', 'C13629', 'C13631', 'C13632', 'C10700', 'C13633', 'C13634', 'C13637', 'C13638', 'C13636', 'C13952', 'C14101', 'C14111', 'C14113', 'C14112', 'C14114', 'C14098', 'C14115', 'C14116', 'C14117', 'C14118', 'C14119', 'C14120', 'C14082', 'C14083', 'C14084', 'C14085', 'C14086', 'C14087', 'C14088', 'C14089', 'C14090', 'C14091', 'C14092', 'C14093', 'C14094', 'C14095', 'C14096', 'C14097', 'C02909', 'C14099', 'C14100', 'C14104', 'C14105', 'C14106', 'C14107', 'C14108', 'C14109', 'C14110', 'C14102', 'C14103', 'C14145', 'C14144', 'C14143', 'C11249', 'C06098', 'C08579', 'C08614', 'C08606', 'C13431', 'C13433', 'C13453', 'C14044', 'C14045', 'C13455', 'C13454', 'C06082', 'C13456', 'C14146', 'C08586', 'C05433', 'C08601', 'C08734', 'C08737', 'C08733', 'C14147', 'C14148', 'C14149', 'C14150', 'C14178', 'C14177', 'C06442', 'C06231', 'C14179', 'C14180', 'C14602', 'C14604', 'C14610', 'C14722', 'C14723', 'C14724', 'C14725', 'C14727', 'C14540', 'C14786', 'C14787', 'C14791', 'C14793', 'C14792', 'C14796', 'C14797', 'C14799', 'C14798', 'C11714', 'C11713', 'C06205', 'C14784', 'C14783', 'C14785', 'C02617', 'C14040', 'C14802', 'C14800', 'C14803', 'C14804', 'C14805', 'C14806', 'C14801', 'C14788', 'C14789', 'C14790', 'C14815', 'C06314', 'C06315', 'C04805', 'C14808', 'C14809', 'C14810', 'C14811', 'C14812', 'C14748', 'C14781', 'C14813', 'C14782', 'C14814', 'C14749', 'C14820', 'C14771', 'C14821', 'C14770', 'C14769', 'C14768', 'C14823', 'C14778', 'C14825', 'C14826', 'C14827', 'C14762', 'C14765', 'C14830', 'C14831', 'C07354', 'C06426', 'C11036', 'C14839', 'C14717', 'C14840', 'C14847', 'C14848', 'C14844', 'C14842', 'C14453', 'C14841', 'C14845', 'C14843', 'C14846', 'C07535', 'C14849', 'C14850', 'C14851', 'C14852', 'C14855', 'C14856', 'C14853', 'C14556', 'C14854', 'C14039', 'C14858', 'C14857', 'C14859', 'C14861', 'C14865', 'C14864', 'C14863', 'C14860', 'C14862', 'C11148', 'C14866', 'C14868', 'C06899', 'C14867', 'C11149', 'C11150', 'C07490', 'C14869', 'C14775', 'C14774', 'C14773', 'C14772', 'C11088', 'C14870', 'C14874', 'C14871', 'C14872', 'C14873', 'C14875', 'C14876', 'C14877', 'C14829', 'C14828', 'C14899', 'C15484', 'C15485', 'C15486', 'C01507', 'C02143', 'C16581', 'C02982', 'C02117', 'C15488', 'C15489', 'C15492', 'C11818', 'C03043', 'C05361', 'C15495', 'C15494', 'C15499', 'C12308', 'C15500', 'C15501', 'C15502', 'C04634', 'C15505', 'C15508', 'C15509', 'C10422', 'C15511', 'C15510', 'C01701', 'C15512', 'C15513', 'C15514', 'C15515', 'C15516', 'C15517', 'C13550', 'C15518', 'C15519', 'C15520', 'C15521', 'C15523', 'C15524', 'C08576', 'C15525', 'C07639', 'C04154', 'C20648', 'C04152', 'C00240', 'C04153', 'C02477', 'C02483', 'C15527', 'C15529', 'C15528', 'C10478', 'C10469', 'C15530', 'C15531', 'C15532', 'C15533', 'C04218', 'C04465', 'C08721', 'C12093', 'C12092', 'C21108', 'C15537', 'C15538', 'C15540', 'C15541', 'C15542', 'C15543', 'C15544', 'C04942', 'C15546', 'C15545', 'C15547', 'C15548', 'C15550', 'C15549', 'C04145', 'C04509', 'C03885', 'C02896', 'C02903', 'C11301', 'C15557', 'C15558', 'C15559', 'C15560', 'C02520', 'C01029', 'C06746', 'C15561', 'C15562', 'C15563', 'C15564', 'C06742', 'C15566', 'C05067', 'C15567', 'C15568', 'C15569', 'C00897', 'C01971', 'C08585', 'C08584', 'C06310', 'C06309', 'C21417', 'C15572', 'C15571', 'C04074', 'C00799', 'C04007', 'C15573', 'C15574', 'C15576', 'C15575', 'C15578', 'C15577', 'C15579', 'C15580', 'C15581', 'C15582', 'C15583', 'C15589', 'C10101', 'C15591', 'C15598', 'C21381', 'C15599', 'C05649', 'C06751', 'C15604', 'C15497', 'C15605', 'C15606', 'C08276', 'C12316', 'C15608', 'C15570', 'C15204', 'C15609', 'C02921', 'C15610', 'C06341', 'C15612', 'C15613', 'C15616', 'C15615', 'C15645', 'C15646', 'C15647', 'C15650', 'C15651', 'C15656', 'C15658', 'C15666', 'C07756', 'C12312', 'C15667', 'C15668', 'C15672', 'C15670', 'C15699', 'C15700', 'C15767', 'C11130', 'C15769', 'C15770', 'C15772', 'C01789', 'C15784', 'C15785', 'C15786', 'C15789', 'C15790', 'C15791', 'C15792', 'C15795', 'C15796', 'C15797', 'C15798', 'C15799', 'C15800', 'C15802', 'C15803', 'C15794', 'C15787', 'C15801', 'C15793', 'C15810', 'C15813', 'C15811', 'C15812', 'C15814', 'C15809', 'C15788', 'C08814', 'C15853', 'C15854', 'C08830', 'C15776', 'C15782', 'C15783', 'C08821', 'C01753', 'C05442', 'C15777', 'C15780', 'C15808', 'C15816', 'C05103', 'C15915', 'C15882', 'C15883', 'C14151', 'C14152', 'C15778', 'C15857', 'C15858', 'C15985', 'C15986', 'C15987', 'C15859', 'C15860', 'C15867', 'C19795', 'C15874', 'C15877', 'C15878', 'C15879', 'C15881', 'C15884', 'C15885', 'C15886', 'C15887', 'C15888', 'C08590', 'C15892', 'C15895', 'C15898', 'C15900', 'C15902', 'C15903', 'C15905', 'C15907', 'C15908', 'C15910', 'C15911', 'C15914', 'C15917', 'C15861', 'C15864', 'C15919', 'C15928', 'C15932', 'C15933', 'C15935', 'C15937', 'C15940', 'C15941', 'C15942', 'C08591', 'C15943', 'C15965', 'C15966', 'C08583', 'C15967', 'C15968', 'C08580', 'C15969', 'C15970', 'C09707', 'C15971', 'C15982', 'C15983', 'C15984', 'C15989', 'C15988', 'C15990', 'C15991', 'C15976', 'C15974', 'C15978', 'C16675', 'C15996', 'C15999', 'C15653', 'C15998', 'C16014', 'C16015', 'C16028', 'C11389', 'C11388', 'C16070', 'C16071', 'C16075', 'C16074', 'C16116', 'C05821', 'C16143', 'C16142', 'C16141', 'C16144', 'C16145', 'C16146', 'C16147', 'C16148', 'C16149', 'C16155', 'C16153', 'C16154', 'C16156', 'C16157', 'C06453', 'C16181', 'C16182', 'C16186', 'C15925', 'C15926', 'C01825', 'C15930', 'C16193', 'C16196', 'C16194', 'C16198', 'C16199', 'C16205', 'C16206', 'C16207', 'C16214', 'C16215', 'C16212', 'C16210', 'C16211', 'C16204', 'C16208', 'C16213', 'C16200', 'C12486', 'C16201', 'C16202', 'C16209', 'C14315', 'C16203', 'C11430', 'C16232', 'C12123', 'C16233', 'C14314', 'C14536', 'C16195', 'C16197', 'C10216', 'C16191', 'C16190', 'C12125', 'C10200', 'C10205', 'C16234', 'C16235', 'C10509', 'C16222', 'C16188', 'C16189', 'C16187', 'C16225', 'C16223', 'C16224', 'C07593', 'C10522', 'C16226', 'C16227', 'C16229', 'C16230', 'C10516', 'C16228', 'C10502', 'C10538', 'C16231', 'C16192', 'C16216', 'C16217', 'C16218', 'C16219', 'C16220', 'C16221', 'C16236', 'C16240', 'C16239', 'C16237', 'C16238', 'C16241', 'C16243', 'C16244', 'C10520', 'C16248', 'C16246', 'C16249', 'C16247', 'C16252', 'C16253', 'C16251', 'C14450', 'C14419', 'C16256', 'C16257', 'C16259', 'C16258', 'C16261', 'C16260', 'C16262', 'C16263', 'C16264', 'C16266', 'C16267', 'C16268', 'C16269', 'C16272', 'C16273', 'C16270', 'C16281', 'C16283', 'C16285', 'C16276', 'C16282', 'C16284', 'C16271', 'C16274', 'C16275', 'C16277', 'C16278', 'C16279', 'C16280', 'C15981', 'C16291', 'C16340', 'C06427', 'C16300', 'C16347', 'C04785', 'C16321', 'C16324', 'C16325', 'C16320', 'C16322', 'C16323', 'C16311', 'C16310', 'C16319', 'C16309', 'C16297', 'C08725', 'C16305', 'C16306', 'C16307', 'C16349', 'C16350', 'C16312', 'C16351', 'C16288', 'C16289', 'C16301', 'C16290', 'C16327', 'C16328', 'C16329', 'C16330', 'C16331', 'C16332', 'C16333', 'C16334', 'C16335', 'C16336', 'C16337', 'C16338', 'C16339', 'C16292', 'C16293', 'C16317', 'C16315', 'C16294', 'C16295', 'C16296', 'C16298', 'C16299', 'C16314', 'C16304', 'C16303', 'C16302', 'C16352', 'C16353', 'C07480', 'C07481', 'C13747', 'C16313', 'C16354', 'C08641', 'C16367', 'C16368', 'C16369', 'C16370', 'C16371', 'C16372', 'C16373', 'C16162', 'C16163', 'C16168', 'C16374', 'C16375', 'C16376', 'C16169', 'C16365', 'C16366', 'C16358', 'C16359', 'C16356', 'C16151', 'C16152', 'C16172', 'C16387', 'C16388', 'C16389', 'C16173', 'C16357', 'C07130', 'C16360', 'C16355', 'C16361', 'C16362', 'C16364', 'C16363', 'C16159', 'C16390', 'C16404', 'C16405', 'C09827', 'C09756', 'C09826', 'C08578', 'C09614', 'C09751', 'C01378', 'C16415', 'C09736', 'C16416', 'C16417', 'C08577', 'C16407', 'C16408', 'C16409', 'C16410', 'C16406', 'C16391', 'C16392', 'C16402', 'C16403', 'C16394', 'C16413', 'C16422', 'C01709', 'C09806', 'C16423', 'C16396', 'C16400', 'C16418', 'C16419', 'C16397', 'C16395', 'C16398', 'C16399', 'C16420', 'C16412', 'C16393', 'C16411', 'C16401', 'C16414', 'C16432', 'C16424', 'C16426', 'C16428', 'C16429', 'C16430', 'C16463', 'C16445', 'C16427', 'C16431', 'C16447', 'C16443', 'C16448', 'C16467', 'C16441', 'C16449', 'C10028', 'C10044', 'C09871', 'C09847', 'C09849', 'C09848', 'C11386', 'C11384', 'C16461', 'C16462', 'C16464', 'C16466', 'C16470', 'C16468', 'C16469', 'C16471', 'C16465', 'C02359', 'C16482', 'C16481', 'C16486', 'C11272', 'C16483', 'C16484', 'C16473', 'C02364', 'C16478', 'C16479', 'C02371', 'C16480', 'C16472', 'C16475', 'C16474', 'C16476', 'C02802', 'C16477', 'C16488', 'C16489', 'C16491', 'C16490', 'C16492', 'C16509', 'C16493', 'C16494', 'C16495', 'C16498', 'C16497', 'C16496', 'C16499', 'C16500', 'C16502', 'C16503', 'C09694', 'C16504', 'C16505', 'C16506', 'C16507', 'C16508', 'C06423', 'C01571', 'C06424', 'C16520', 'C08362', 'C01530', 'C16516', 'C16517', 'C16519', 'C16518', 'C16524', 'C16523', 'C16833', 'C06425', 'C16165', 'C06429', 'C03595', 'C03242', 'C16528', 'C08281', 'C16529', 'C08320', 'C16530', 'C16526', 'C16531', 'C08316', 'C16532', 'C08323', 'C16166', 'C16513', 'C16180', 'C16525', 'C16170', 'C16527', 'C16179', 'C16522', 'C16538', 'C12317', 'C16521', 'C16540', 'C16541', 'C09276', 'C09305', 'C16579', 'C16597', 'C16588', 'C16600', 'C16589', 'C16594', 'C06481', 'C06482', 'C12650', 'C16635', 'C16834', 'C12739', 'C07649', 'C16637', 'C16638', 'C12673', 'C16835', 'C16630', 'C16631', 'C16632', 'C16633', 'C11736', 'C16634', 'C04242', 'C06837', 'C02380', 'C16621', 'C16613', 'C04646', 'C16615', 'C16618', 'C16616', 'C16617', 'C16619', 'C07648', 'C16620', 'C08353', 'C16639', 'C07585', 'C07054', 'C07447', 'C07446', 'C16622', 'C16623', 'C16624', 'C16625', 'C16641', 'C11173', 'C16836', 'C16542', 'C16543', 'C12518', 'C16837', 'C11376', 'C16577', 'C16643', 'C16578', 'C16576', 'C11785', 'C07108', 'C16545', 'C05011', 'C16546', 'C16547', 'C16544', 'C16548', 'C16645', 'C16533', 'C16549', 'C07888', 'C07643', 'C16550', 'C07644', 'C07645', 'C07647', 'C11583', 'C16551', 'C07646', 'C16552', 'C07047', 'C16553', 'C16555', 'C16556', 'C16559', 'C16558', 'C16554', 'C16557', 'C07073', 'C16561', 'C16560', 'C11004', 'C16569', 'C16572', 'C16647', 'C16570', 'C16571', 'C07501', 'C16584', 'C16582', 'C16586', 'C16587', 'C16591', 'C16592', 'C16595', 'C16596', 'C06868', 'C07496', 'C16602', 'C07495', 'C16603', 'C16606', 'C16601', 'C16604', 'C16605', 'C07492', 'C07493', 'C16593', 'C07185', 'C16648', 'C16649', 'C16650', 'C16651', 'C16590', 'C16656', 'C16655', 'C16583', 'C16598', 'C16657', 'C16658', 'C16652', 'C16653', 'C16654', 'C07163', 'C16659', 'C16660', 'C08012', 'C16661', 'C16662', 'C07572', 'C16608', 'C16607', 'C16609', 'C16612', 'C16610', 'C16567', 'C16566', 'C16562', 'C16563', 'C16565', 'C16564', 'C16568', 'C15498', 'C02262', 'C16676', 'C19749', 'C07667', 'C03658', 'C09684', 'C09704', 'C08624', 'C08748', 'C08797', 'C16682', 'C16681', 'C15493', 'C03889', 'C16679', 'C16680', 'C16677', 'C09839', 'C04093', 'C16689', 'C09189', 'C07601', 'C16691', 'C05842', 'C16695', 'C10385', 'C08262', 'C16696', 'C07474', 'C16697', 'C10173', 'C06185', 'C10773', 'C10783', 'C10763', 'C10772', 'C10171', 'C10157', 'C07475', 'C10865', 'C16671', 'C06521', 'C11359', 'C10860', 'C16700', 'C21634', 'C16701', 'C16702', 'C21633', 'C21635', 'C12162', 'C16703', 'C12173', 'C08526', 'C09642', 'C06546', 'C12231', 'C16704', 'C16705', 'C16707', 'C16706', 'C16708', 'C16709', 'C16710', 'C11250', 'C16712', 'C07592', 'C16713', 'C16714', 'C07547', 'C09654', 'C09541', 'C16718', 'C08301', 'C08300', 'C02765', 'C16719', 'C16720', 'C10722', 'C10632', 'C10738', 'C16716', 'C16721', 'C10660', 'C10740', 'C10733', 'C07576', 'C08312', 'C06535', 'C09209', 'C09089', 'C06536', 'C06538', 'C09243', 'C16724', 'C16723', 'C16725', 'C01897', 'C16735', 'C16726', 'C06528', 'C16728', 'C06527', 'C06522', 'C16727', 'C17621', 'C09782', 'C09987', 'C09910', 'C16737', 'C10822', 'C10826', 'C06543', 'C10138', 'C06523', 'C16738', 'C02839', 'C16733', 'C16732', 'C16731', 'C16730', 'C16734', 'C16729', 'C16826', 'C09870', 'C16825', 'C11338', 'C02919', 'C16827', 'C08627', 'C01722', 'C01719', 'C08299', 'C02162', 'C02951', 'C16829', 'C09629', 'C09699', 'C16286', 'C09672', 'C09723', 'C16831', 'C16832', 'C16698', 'C16846', 'C11379', 'C16850', 'C16849', 'C16848', 'C16884', 'C02022', 'C17022', 'C03125', 'C05797', 'C05307', 'C16999', 'C17010', 'C17017', 'C17018', 'C16069', 'C11931', 'C17139', 'C17202', 'C17203', 'C17204', 'C17206', 'C17207', 'C02478', 'C03989', 'C17209', 'C17210', 'C17212', 'C17211', 'C17213', 'C17214', 'C17215', 'C17216', 'C17217', 'C17218', 'C17219', 'C17220', 'C17221', 'C17222', 'C17234', 'C17223', 'C17224', 'C17225', 'C17226', 'C17227', 'C17228', 'C17229', 'C17230', 'C17231', 'C17232', 'C17233', 'C12115', 'C17237', 'C17235', 'C17236', 'C17238', 'C17239', 'C17240', 'C08426', 'C17255', 'C17241', 'C17242', 'C17243', 'C17244', 'C08412', 'C17245', 'C17248', 'C08409', 'C17246', 'C17249', 'C17251', 'C17253', 'C17267', 'C17263', 'C17264', 'C17265', 'C17266', 'C17262', 'C17261', 'C17259', 'C17260', 'C17277', 'C05144', 'C04810', 'C09666', 'C09665', 'C17322', 'C17323', 'C17328', 'C17326', 'C17327', 'C02089', 'C17378', 'C17331', 'C17332', 'C17336', 'C17337', 'C17333', 'C17335', 'C17343', 'C17345', 'C17346', 'C17432', 'C17435', 'C17434', 'C17436', 'C17437', 'C17438', 'C17439', 'C17440', 'C17500', 'C17509', 'C17510', 'C17551', 'C17552', 'C17554', 'C17559', 'C17570', 'C17592', 'C17591', 'C09581', 'C17744', 'C17746', 'C17747', 'C17745', 'C17748', 'C10462', 'C17740', 'C17741', 'C17743', 'C17742', 'C10443', 'C17749', 'C17750', 'C17751', 'C17752', 'C08537', 'C08538', 'C08542', 'C17759', 'C08540', 'C08539', 'C08552', 'C08565', 'C08543', 'C17753', 'C08544', 'C17754', 'C17755', 'C17756', 'C17757', 'C08557', 'C17758', 'C17733', 'C17735', 'C10447', 'C17935', 'C04804', 'C17953', 'C17954', 'C17955', 'C17959', 'C06451', 'C06452', 'C06454', 'C06455', 'C17943', 'C06456', 'C17945', 'C17946', 'C17947', 'C17962', 'C17949', 'C17950', 'C17952', 'C04650', 'C17951', 'C06457', 'C17948', 'C15673', 'C21613', 'C17941', 'C17942', 'C17940', 'C17944', 'C17960', 'C17961', 'C21372', 'C06733', 'C06734', 'C18011', 'C17580', 'C17581', 'C02627', 'C17582', 'C01743', 'C17583', 'C01441', 'C18004', 'C01759', 'C17587', 'C17588', 'C17589', 'C15652', 'C01737', 'C18006', 'C18008', 'C18007', 'C18009', 'C18005', 'C17586', 'C17585', 'C18012', 'C18013', 'C18014', 'C18016', 'C18015', 'C18017', 'C18018', 'C18020', 'C18019', 'C18021', 'C18022', 'C18023', 'C18024', 'C18025', 'C18027', 'C18028', 'C18029', 'C18030', 'C18031', 'C18032', 'C18033', 'C18034', 'C18035', 'C18047', 'C18046', 'C18048', 'C11837', 'C18049', 'C18043', 'C18044', 'C18038', 'C18075', 'C18050', 'C18051', 'C18052', 'C18053', 'C18039', 'C18040', 'C13713', 'C18054', 'C13712', 'C18041', 'C18042', 'C18045', 'C18055', 'C03136', 'C20690', 'C17938', 'C18059', 'C18060', 'C18061', 'C18062', 'C18064', 'C18063', 'C18066', 'C18067', 'C18068', 'C18069', 'C18070', 'C18071', 'C18072', 'C18073', 'C18036', 'C18037', 'C09190', 'C18076', 'C09183', 'C09094', 'C09315', 'C18083', 'C19707', 'C09060', 'C18096', 'C18098', 'C18125', 'C18126', 'C18129', 'C18131', 'C10793', 'C18132', 'C18133', 'C17412', 'C18135', 'C18134', 'C18136', 'C01917', 'C18158', 'C18152', 'C18153', 'C18155', 'C18156', 'C18154', 'C18157', 'C18160', 'C18161', 'C18163', 'C18162', 'C18151', 'C18168', 'C18169', 'C00612', 'C18172', 'C18174', 'C17268', 'C18202', 'C14298', 'C18215', 'C14220', 'C18216', 'C18217', 'C18218', 'C18219', 'C18220', 'C12077', 'C18211', 'C18221', 'C18222', 'C09118', 'C18223', 'C18224', 'C18225', 'C20149', 'C18226', 'C11877', 'C18228', 'C13273', 'C18229', 'C18232', 'C18235', 'C18236', 'C18238', 'C18240', 'C18241', 'C18242', 'C18243', 'C18244', 'C18245', 'C18246', 'C18247', 'C18248', 'C18276', 'C18275', 'C14335', 'C18249', 'C18250', 'C18252', 'C18253', 'C18256', 'C18254', 'C18255', 'C18267', 'C14519', 'C18265', 'C18263', 'C18257', 'C18266', 'C18264', 'C18258', 'C18259', 'C18262', 'C18261', 'C18269', 'C18271', 'C18278', 'C18272', 'C18281', 'C18293', 'C18294', 'C18295', 'C06654', 'C06624', 'C18296', 'C18297', 'C18298', 'C06571', 'C18299', 'C18300', 'C18301', 'C18273', 'C18274', 'C18270', 'C18279', 'C18277', 'C18283', 'C18282', 'C18284', 'C18286', 'C18285', 'C18280', 'C18302', 'C18303', 'C18308', 'C18309', 'C18251', 'C18310', 'C18304', 'C18305', 'C18306', 'C18307', 'C18311', 'C18312', 'C18314', 'C14401', 'C11006', 'C18320', 'C18315', 'C18316', 'C18317', 'C18318', 'C18321', 'C18325', 'C18326', 'C10497', 'C18327', 'C18330', 'C18333', 'C18328', 'C18331', 'C18334', 'C18329', 'C18332', 'C18335', 'C18336', 'C18337', 'C10833', 'C18345', 'C18347', 'C18348', 'C18349', 'C18338', 'C18323', 'C18351', 'C14418', 'C20238', 'C18324', 'C18353', 'C18354', 'C18356', 'C18355', 'C18357', 'C18835', 'C18360', 'C18629', 'C18630', 'C18631', 'C18632', 'C18634', 'C18643', 'C18635', 'C18636', 'C18637', 'C18638', 'C18639', 'C18640', 'C18641', 'C18642', 'C18672', 'C18678', 'C18679', 'C18681', 'C18682', 'C18683', 'C18778', 'C18684', 'C18685', 'C18709', 'C18710', 'C12388', 'C18711', 'C12389', 'C18796', 'C02845', 'C18797', 'C18824', 'C18823', 'C18822', 'C18473', 'C18472', 'C18870', 'C18871', 'C02535', 'C18872', 'C18902', 'C18904', 'C18910', 'C18911', 'C02211', 'C19085', 'C19078', 'C19080', 'C19081', 'C19082', 'C19083', 'C19084', 'C21310', 'C18239', 'C05924', 'C19156', 'C19155', 'C19154', 'C19153', 'C19152', 'C19151', 'C19491', 'C06800', 'C19585', 'C16756', 'C19594', 'C19595', 'C19586', 'C11278', 'C19588', 'C19589', 'C19591', 'C19592', 'C19590', 'C19488', 'C19489', 'C19490', 'C19559', 'C16453', 'C19574', 'C19563', 'C19566', 'C19577', 'C19580', 'C19605', 'C19606', 'C19602', 'C19603', 'C19564', 'C19581', 'C19567', 'C19568', 'C19578', 'C19565', 'C19582', 'C19569', 'C19579', 'C19561', 'C19604', 'C19607', 'C19562', 'C19614', 'C19616', 'C19418', 'C19620', 'C19623', 'C19617', 'C19624', 'C19615', 'C19618', 'C19625', 'C08285', 'C19622', 'C19621', 'C01025', 'C19631', 'C08637', 'C19837', 'C11143', 'C11142', 'C00720', 'C11145', 'C18231', 'C07712', 'C18448', 'C09750', 'C09664', 'C12537', 'C10025', 'C10023', 'C19669', 'C09755', 'C08247', 'C02135', 'C15850', 'C11695', 'C19670', 'C19673', 'C19674', 'C19675', 'C19676', 'C19678', 'C19679', 'C19681', 'C19680', 'C19683', 'C19682', 'C19684', 'C19685', 'C19619', 'C19686', 'C19687', 'C19688', 'C19689', 'C19690', 'C19691', 'C19697', 'C19698', 'C19699', 'C19700', 'C19701', 'C19706', 'C19708', 'C09627', 'C09382', 'C19711', 'C09737', 'C19714', 'C19712', 'C19715', 'C19716', 'C19717', 'C19721', 'C19726', 'C19694', 'C19696', 'C19695', 'C19702', 'C19703', 'C19710', 'C19709', 'C19713', 'C18802', 'C19719', 'C19720', 'C19722', 'C19723', 'C19724', 'C19725', 'C19745', 'C19728', 'C19729', 'C19727', 'C19730', 'C19731', 'C19732', 'C19733', 'C19734', 'C19760', 'C19735', 'C19736', 'C19737', 'C19738', 'C10193', 'C19739', 'C19740', 'C19741', 'C19742', 'C19744', 'C19746', 'C19748', 'C16814', 'C19750', 'C16775', 'C19747', 'C19752', 'C19753', 'C19754', 'C19743', 'C19755', 'C19756', 'C19757', 'C08492', 'C19758', 'C19761', 'C19762', 'C19763', 'C19766', 'C00742', 'C19767', 'C19768', 'C19770', 'C19769', 'C19772', 'C19774', 'C19773', 'C19775', 'C19776', 'C19777', 'C19778', 'C19780', 'C19779', 'C19782', 'C19783', 'C19781', 'C19784', 'C19764', 'C19765', 'C19759', 'C19785', 'C19786', 'C19787', 'C19788', 'C19789', 'C19790', 'C00176', 'C19791', 'C19792', 'C19793', 'C19794', 'C19799', 'C19797', 'C19798', 'C19802', 'C19804', 'C19803', 'C19241', 'C19805', 'C19806', 'C19771', 'C19807', 'C19809', 'C19810', 'C19811', 'C19812', 'C19813', 'C19815', 'C19814', 'C19816', 'C19817', 'C19818', 'C19819', 'C19820', 'C19822', 'C19821', 'C19823', 'C19827', 'C19828', 'C19829', 'C19824', 'C19825', 'C19826', 'C19830', 'C19831', 'C19832', 'C19833', 'C19801', 'C19834', 'C19835', 'C19836', 'C19838', 'C19840', 'C19864', 'C19800', 'C19844', 'C19846', 'C19845', 'C19848', 'C19839', 'C19850', 'C19852', 'C19854', 'C19855', 'C19856', 'C19857', 'C18237', 'C06232', 'C19847', 'C19859', 'C19858', 'C19863', 'C19841', 'C19865', 'C20504', 'C20503', 'C19867', 'C08588', 'C19868', 'C17513', 'C19869', 'C19870', 'C19873', 'C19874', 'C19875', 'C19876', 'C19877', 'C19882', 'C19878', 'C19879', 'C19880', 'C19881', 'C19884', 'C19883', 'C19886', 'C19885', 'C19887', 'C19888', 'C19889', 'C19890', 'C08613', 'C19892', 'C08607', 'C17349', 'C09663', 'C19893', 'C19894', 'C09833', 'C19895', 'C19896', 'C19907', 'C19909', 'C19910', 'C14695', 'C19911', 'C19929', 'C16911', 'C19796', 'C19931', 'C19932', 'C19933', 'C19934', 'C19935', 'C19936', 'C19937', 'C19938', 'C19939', 'C19942', 'C19943', 'C19944', 'C19946', 'C19945', 'C19947', 'C19948', 'C15682', 'C15681', 'C18846', 'C19960', 'C19961', 'C19962', 'C19965', 'C19966', 'C19967', 'C19968', 'C19969', 'C19970', 'C19971', 'C19972', 'C19973', 'C19974', 'C19975', 'C20062', 'C20082', 'C20083', 'C20120', 'C20119', 'C20121', 'C12177', 'C20134', 'C20135', 'C20136', 'C20137', 'C20138', 'C12045', 'C20139', 'C20140', 'C20143', 'C20144', 'C14909', 'C20145', 'C20146', 'C20147', 'C20148', 'C20150', 'C20152', 'C20153', 'C20154', 'C10287', 'C20156', 'C20158', 'C20155', 'C20176', 'C20190', 'C04058', 'C20198', 'C20199', 'C20240', 'C20159', 'C20161', 'C20162', 'C20163', 'C20172', 'C20173', 'C20174', 'C20179', 'C20180', 'C20181', 'C20182', 'C20184', 'C20185', 'C20175', 'C20177', 'C20178', 'C20186', 'C17966', 'C19918', 'C20187', 'C20188', 'C08626', 'C20189', 'C20191', 'C20192', 'C20193', 'C20194', 'C20195', 'C20200', 'C20201', 'C21076', 'C20208', 'C20221', 'C20222', 'C20223', 'C10453', 'C20224', 'C20225', 'C20227', 'C20226', 'C20228', 'C20229', 'C20230', 'C20231', 'C20232', 'C20233', 'C20234', 'C20235', 'C01518', 'C20236', 'C20237', 'C20245', 'C20249', 'C20250', 'C19891', 'C20251', 'C06153', 'C20252', 'C07635', 'C20239', 'C20241', 'C09873', 'C11382', 'C20242', 'C20270', 'C09902', 'C09900', 'C09898', 'C06304', 'C06305', 'C20243', 'C06306', 'C20244', 'C16776', 'C20246', 'C20247', 'C20248', 'C20254', 'C20253', 'C11387', 'C20261', 'C20260', 'C20262', 'C20263', 'C20264', 'C20265', 'C20267', 'C20271', 'C07160', 'C20272', 'C20273', 'C20274', 'C09648', 'C20275', 'C20276', 'C20277', 'C20278', 'C20279', 'C16138', 'C20292', 'C20299', 'C20297', 'C09592', 'C20307', 'C20308', 'C20309', 'C20310', 'C20311', 'C20312', 'C20313', 'C20314', 'C20315', 'C08334', 'C20321', 'C20322', 'C20323', 'C20320', 'C20324', 'C20325', 'C20326', 'C20329', 'C20330', 'C20333', 'C05554', 'C20345', 'C20350', 'C20351', 'C20352', 'C20353', 'C20354', 'C20357', 'C20359', 'C20361', 'C20366', 'C20367', 'C20368', 'C20369', 'C20370', 'C20371', 'C20372', 'C20373', 'C20374', 'C20375', 'C20376', 'C20377', 'C20378', 'C20386', 'C09131', 'C20379', 'C18167', 'C10682', 'C20381', 'C14531', 'C20382', 'C20383', 'C20380', 'C20390', 'C20395', 'C20415', 'C20399', 'C20398', 'C20397', 'C05574', 'C20400', 'C20402', 'C20403', 'C20404', 'C20405', 'C20406', 'C10784', 'C20407', 'C20408', 'C20409', 'C20410', 'C20411', 'C20412', 'C20413', 'C20414', 'C20394', 'C20416', 'C20417', 'C20419', 'C20418', 'C20421', 'C20420', 'C20422', 'C20396', 'C20423', 'C20424', 'C20427', 'C18195', 'C18196', 'C20430', 'C20431', 'C20432', 'C20433', 'C20435', 'C20434', 'C20436', 'C20437', 'C20438', 'C20440', 'C20446', 'C20447', 'C14279', 'C20450', 'C11101', 'C20448', 'C20441', 'C20443', 'C18799', 'C19647', 'C20451', 'C20453', 'C20452', 'C10646', 'C05366', 'C20454', 'C20455', 'C20456', 'C09023', 'C20457', 'C20459', 'C20458', 'C12088', 'C20460', 'C08612', 'C20461', 'C20462', 'C08647', 'C20463', 'C20465', 'C16930', 'C10454', 'C10452', 'C20464', 'C10428', 'C20466', 'C20467', 'C20468', 'C20470', 'C20469', 'C20471', 'C20473', 'C20472', 'C20474', 'C04899', 'C20475', 'C20476', 'C20477', 'C20478', 'C20479', 'C20480', 'C20481', 'C20482', 'C20483', 'C20484', 'C20485', 'C20486', 'C20487', 'C20488', 'C20489', 'C20490', 'C20491', 'C20492', 'C20493', 'C20494', 'C20495', 'C20496', 'C20498', 'C03944', 'C20445', 'C20499', 'C20500', 'C20502', 'C20501', 'C20509', 'C20510', 'C20511', 'C16753', 'C20512', 'C20513', 'C20514', 'C20515', 'C20516', 'C20517', 'C20518', 'C20519', 'C20521', 'C20520', 'C20522', 'C20559', 'C20560', 'C20562', 'C20563', 'C20564', 'C20045', 'C20565', 'C20567', 'C20566', 'C20568', 'C20569', 'C20525', 'C20526', 'C20527', 'C20529', 'C20530', 'C20587', 'C20534', 'C20535', 'C20531', 'C13782', 'C20561', 'C20553', 'C20554', 'C20555', 'C20542', 'C20543', 'C20532', 'C20548', 'C20550', 'C20551', 'C20586', 'C20536', 'C20545', 'C20546', 'C20552', 'C20595', 'C20594', 'C06058', 'C20581', 'C20582', 'C20506', 'C20508', 'C20505', 'C20507', 'C20575', 'C20444', 'C20528', 'C20589', 'C20593', 'C20602', 'C20603', 'C20604', 'C20605', 'C17367', 'C06669', 'C20607', 'C20608', 'C20609', 'C20613', 'C20612', 'C03072', 'C01823', 'C20614', 'C20646', 'C20617', 'C20618', 'C20619', 'C20621', 'C20620', 'C20622', 'C20650', 'C21407', 'C20625', 'C20626', 'C20627', 'C20628', 'C20630', 'C20631', 'C20645', 'C12305', 'C20632', 'C20633', 'C20634', 'C20635', 'C20629', 'C20663', 'C20636', 'C11460', 'C20638', 'C20639', 'C07044', 'C20640', 'C20641', 'C20642', 'C20643', 'C11848', 'C20666', 'C20644', 'C20651', 'C08057', 'C10343', 'C12299', 'C20574', 'C20583', 'C16754', 'C16755', 'C17366', 'C20687', 'C14153', 'C14155', 'C14154', 'C14156', 'C20576', 'C20577', 'C20578', 'C20579', 'C20580', 'C20647', 'C20649', 'C20652', 'C20653', 'C20654', 'C20327', 'C20657', 'C20664', 'C20667', 'C20672', 'C20668', 'C20669', 'C20670', 'C20661', 'C03298', 'C20673', 'C20686', 'C03359', 'C20677', 'C08907', 'C20678', 'C20679', 'C20680', 'C20681', 'C19033', 'C20682', 'C18608', 'C20715', 'C20684', 'C20685', 'C18001', 'C00397', 'C20699', 'C20689', 'C20674', 'C02426', 'C20688', 'C20691', 'C20692', 'C12287', 'C20693', 'C20694', 'C20695', 'C20696', 'C20697', 'C20700', 'C20701', 'C20596', 'C20601', 'C20702', 'C20703', 'C20704', 'C20705', 'C20706', 'C08888', 'C20707', 'C08897', 'C08898', 'C20709', 'C20710', 'C09639', 'C20711', 'C20659', 'C20660', 'C20714', 'C21489', 'C21487', 'C20716', 'C20717', 'C20718', 'C20720', 'C20719', 'C20721', 'C20723', 'C20722', 'C19908', 'C20724', 'C20712', 'C09555', 'C20713', 'C20725', 'C20726', 'C20727', 'C20729', 'C20730', 'C20732', 'C20734', 'C20735', 'C20737', 'C20738', 'C20739', 'C20740', 'C20741', 'C13050', 'C20742', 'C20658', 'C20743', 'C20744', 'C20745', 'C20746', 'C20747', 'C20748', 'C04114', 'C20750', 'C20749', 'C20755', 'C20753', 'C20751', 'C20754', 'C20752', 'C20757', 'C20758', 'C12016', 'C20759', 'C20762', 'C20761', 'C20763', 'C20764', 'C20765', 'C20766', 'C20767', 'C20768', 'C20772', 'C20773', 'C20774', 'C20775', 'C12270', 'C20776', 'C20770', 'C20771', 'C20784', 'C21861', 'C20781', 'C20783', 'C17530', 'C20794', 'C20796', 'C20797', 'C20798', 'C20799', 'C06809', 'C20800', 'C20801', 'C20802', 'C20803', 'C20805', 'C20804', 'C21425', 'C20806', 'C20807', 'C20809', 'C20808', 'C20810', 'C11449', 'C20811', 'C09718', 'C20813', 'C17374', 'C20817', 'C20818', 'C20819', 'C20820', 'C06664', 'C17399', 'C11755', 'C20815', 'C17368', 'C17377', 'C20816', 'C20821', 'C17373', 'C20814', 'C20822', 'C20823', 'C17369', 'C20827', 'C20831', 'C16818', 'C20834', 'C20835', 'C20836', 'C20829', 'C20830', 'C20838', 'C20840', 'C20842', 'C20841', 'C20843', 'C20844', 'C20845', 'C20846', 'C20847', 'C20848', 'C01725', 'C20849', 'C20850', 'C20851', 'C20852', 'C20853', 'C20854', 'C20855', 'C20856', 'C20857', 'C20859', 'C20825', 'C20858', 'C20860', 'C01728', 'C20861', 'C20862', 'C20864', 'C20183', 'C20863', 'C06468', 'C02476', 'C02338', 'C20870', 'C20872', 'C20871', 'C20876', 'C20877', 'C20878', 'C20879', 'C20887', 'C20888', 'C06689', 'C20789', 'C20892', 'C20891', 'C20893', 'C20889', 'C20890', 'C20894', 'C20895', 'C20896', 'C20897', 'C20899', 'C20900', 'C20449', 'C20901', 'C20902', 'C20903', 'C20898', 'C06042', 'C20906', 'C04255', 'C20909', 'C20908', 'C20907', 'C15683', 'C15684', 'C15685', 'C18847', 'C15680', 'C18845', 'C17355', 'C20910', 'C17352', 'C17351', 'C20911', 'C20912', 'C20913', 'C20914', 'C20915', 'C20916', 'C20917', 'C20918', 'C20921', 'C20920', 'C20919', 'C20922', 'C20923', 'C09140', 'C20924', 'C20925', 'C20926', 'C20933', 'C20936', 'C20937', 'C19693', 'C20938', 'C20939', 'C20940', 'C20941', 'C20943', 'C20944', 'C20945', 'C20946', 'C17148', 'C20947', 'C20948', 'C20949', 'C20950', 'C20951', 'C20953', 'C20954', 'C20955', 'C20956', 'C17691', 'C20957', 'C20958', 'C20959', 'C20960', 'C20961', 'C20965', 'C20967', 'C20962', 'C20966', 'C20963', 'C20964', 'C20968', 'C20969', 'C12379', 'C20974', 'C20975', 'C20976', 'C20977', 'C12381', 'C20980', 'C20982', 'C20981', 'C20983', 'C20984', 'C20985', 'C20986', 'C20987', 'C20990', 'C20988', 'C19613', 'C20992', 'C08589', 'C02356', 'C21015', 'C21016', 'C21017', 'C21018', 'C21005', 'C21006', 'C21020', 'C21019', 'C21021', 'C20998', 'C20999', 'C21022', 'C21023', 'C21024', 'C21025', 'C20996', 'C20997', 'C20995', 'C20994', 'C20993', 'C21026', 'C21007', 'C21008', 'C10164', 'C21027', 'C21030', 'C21031', 'C21064', 'C21065', 'C21068', 'C21069', 'C21070', 'C21071', 'C21072', 'C21000', 'C21073', 'C21074', 'C21075', 'C21078', 'C21079', 'C21080', 'C21081', 'C21082', 'C21083', 'C16164', 'C13309', 'C20942', 'C21085', 'C21086', 'C21087', 'C21093', 'C17883', 'C21088', 'C21089', 'C21090', 'C21091', 'C21092', 'C17694', 'C17692', 'C17693', 'C21094', 'C21095', 'C21098', 'C21096', 'C21099', 'C21002', 'C21001', 'C21003', 'C21004', 'C21100', 'C21101', 'C21102', 'C21106', 'C08813', 'C20905', 'C20904', 'C21107', 'C21113', 'C21110', 'C21109', 'C12491', 'C21114', 'C21115', 'C16167', 'C16171', 'C21117', 'C21118', 'C21119', 'C21120', 'C21121', 'C21122', 'C21123', 'C21124', 'C21125', 'C21126', 'C21127', 'C18092', 'C21128', 'C21130', 'C21129', 'C21131', 'C21132', 'C21133', 'C21134', 'C21135', 'C21136', 'C21137', 'C21139', 'C21138', 'C17658', 'C21142', 'C21141', 'C21140', 'C06688', 'C21143', 'C21144', 'C21010', 'C21145', 'C21146', 'C21147', 'C21148', 'C21009', 'C20125', 'C21149', 'C21150', 'C21151', 'C16699', 'C21152', 'C21153', 'C21154', 'C11129', 'C21155', 'C21156', 'C06802', 'C21157', 'C21158', 'C21159', 'C02496', 'C21160', 'C21161', 'C21163', 'C21162', 'C21164', 'C21165', 'C14582', 'C21166', 'C21167', 'C21168', 'C21170', 'C21169', 'C21171', 'C21172', 'C21173', 'C21174', 'C21175', 'C21178', 'C21177', 'C21179', 'C10557', 'C10556', 'C21183', 'C21184', 'C10552', 'C21185', 'C21180', 'C21181', 'C21182', 'C21186', 'C21187', 'C04143', 'C21188', 'C21189', 'C21190', 'C21191', 'C21194', 'C21193', 'C21213', 'C21214', 'C21215', 'C11242', 'C21217', 'C21192', 'C21240', 'C17696', 'C17697', 'C21205', 'C21218', 'C21209', 'C21210', 'C21216', 'C21219', 'C17700', 'C12112', 'C21204', 'C21206', 'C21207', 'C21208', 'C21211', 'C21416', 'C17698', 'C21247', 'C21248', 'C17695', 'C21249', 'C17699', 'C21250', 'C21176', 'C17584', 'C21251', 'C21252', 'C21253', 'C21254', 'C21255', 'C21256', 'C21257', 'C21258', 'C21259', 'C18000', 'C21260', 'C18002', 'C21261', 'C21262', 'C21263', 'C17712', 'C00832', 'C21264', 'C18003', 'C17701', 'C21265', 'C21266', 'C17702', 'C21267', 'C17703', 'C21268', 'C17704', 'C21269', 'C17705', 'C02033', 'C21270', 'C01898', 'C19872', 'C21281', 'C21282', 'C21283', 'C21284', 'C21285', 'C03604', 'C21287', 'C21288', 'C21290', 'C21291', 'C21293', 'C21294', 'C21295', 'C01748', 'C21296', 'C21297', 'C14448', 'C21298', 'C21299', 'C21300', 'C21304', 'C21303', 'C21305', 'C20839', 'C21306', 'C21307', 'C11468', 'C11448', 'C21308', 'C21309', 'C21311', 'C21312', 'C21313', 'C21329', 'C21330', 'C21331', 'C21320', 'C21321', 'C21322', 'C21323', 'C21324', 'C21325', 'C21326', 'C21327', 'C21328', 'C21332', 'C21333', 'C21334', 'C21336', 'C21366', 'C21116', 'C21368', 'C21367', 'C21369', 'C21370', 'C21371', 'C21374', 'C21373', 'C21343', 'C21344', 'C21345', 'C21346', 'C21347', 'C21348', 'C21338', 'C21337', 'C21349', 'C21339', 'C21340', 'C21356', 'C21341', 'C11469', 'C21342', 'C21350', 'C21375', 'C21376', 'C21377', 'C21378', 'C21379', 'C21380', 'C21314', 'C21315', 'C21316', 'C21317', 'C21318', 'C21319', 'C21357', 'C21358', 'C21383', 'C20934', 'C21384', 'C21385', 'C21389', 'C21390', 'C21391', 'C21393', 'C21394', 'C21395', 'C00284', 'C21396', 'C21397', 'C21398', 'C02045', 'C21400', 'C21399', 'C03264', 'C11461', 'C11447', 'C21351', 'C21362', 'C21363', 'C21352', 'C21353', 'C21354', 'C21355', 'C21401', 'C21402', 'C21403', 'C21404', 'C21405', 'C21406', 'C01705', 'C11033', 'C21408', 'C21409', 'C21410', 'C21411', 'C21412', 'C21413', 'C21414', 'C21415', 'C21418', 'C21419', 'C21420', 'C21421', 'C21422', 'C21423', 'C21424', 'C21426', 'C21427', 'C21428', 'C21429', 'C21431', 'C21432', 'C21433', 'C21434', 'C21430', 'C21435', 'C11243', 'C21436', 'C21437', 'C21438', 'C21439', 'C21440', 'C21441', 'C21442', 'C21444', 'C21443', 'C21445', 'C21446', 'C21447', 'C21448', 'C21449', 'C21450', 'C21452', 'C21453', 'C21454', 'C00936', 'C21459', 'C21203', 'C21460', 'C21461', 'C21462', 'C21463', 'C21464', 'C21465', 'C21458', 'C21456', 'C21466', 'C01432', 'C21467', 'C21468', 'C21469', 'C21470', 'C21471', 'C21472', 'C21473', 'C21475', 'C21476', 'C21474', 'C12119', 'C21477', 'C19871', 'C21485', 'C21486', 'C07351', 'C21488', 'C21490', 'C01015', 'C21491', 'C21493', 'C21494', 'C21495', 'C21496', 'C09263', 'C05117', 'C21497', 'C21499', 'C21498', 'C21500', 'C21501', 'C21502', 'C21503', 'C21505', 'C21506', 'C21507', 'C00943', 'C21509', 'C21510', 'C19609', 'C21511', 'C21512', 'C05777', 'C08269', 'C21513', 'C10172', 'C21514', 'C21523', 'C21524', 'C21525', 'C02420', 'C21528', 'C21529', 'C21530', 'C21531', 'C21532', 'C21534', 'C21535', 'C21536', 'C21537', 'C21539', 'C21538', 'C21526', 'C21527', 'C21559', 'C21560', 'C21561', 'C21562', 'C21563', 'C21571', 'C21572', 'C21570', 'C21565', 'C21573', 'C21574', 'C21567', 'C21568', 'C21569', 'C12023', 'C21566', 'C21583', 'C21584', 'C09390', 'C09421', 'C21586', 'C21587', 'C21588', 'C21589', 'C21590', 'C21591', 'C21599', 'C21600', 'C09593', 'C08304', 'C21601', 'C21602', 'C21603', 'C21604', 'C21606', 'C21607', 'C21608', 'C21609', 'C21611', 'C21612', 'C21610', 'C21582', 'C03518', 'C21614', 'C21615', 'C21616', 'C21618', 'C21617', 'C08511', 'C21585', 'C21619', 'C21630', 'C21620', 'C21622', 'C21623', 'C21631', 'C21624', 'C21625', 'C21629', 'C21621', 'C06533', 'C21632', 'C08521', 'C08532', 'C21637', 'C21639', 'C12180', 'C12193', 'C08527', 'C21640', 'C21643', 'C21644', 'C21645', 'C21651', 'C21657', 'C21666', 'C21668', 'C21678', 'C21647', 'C21646', 'C21648', 'C21649', 'C21652', 'C21654', 'C21653', 'C21655', 'C21659', 'C21662', 'C21663', 'C21664', 'C21665', 'C21667', 'C21671', 'C21669', 'C21675', 'C21672', 'C21673', 'C21674', 'C21680', 'C21682', 'C21683', 'C21593', 'C21691', 'C21692', 'C21696', 'C21697', 'C21699', 'C10931', 'C21712', 'C21713', 'C21719', 'C21721', 'C21722', 'C21723', 'C21724', 'C21656', 'C21658', 'C21660', 'C21661', 'C21670', 'C21676', 'C21677', 'C21679', 'C21681', 'C21684', 'C21685', 'C21686', 'C21687', 'C21688', 'C21689', 'C21690', 'C21693', 'C21694', 'C21695', 'C21698', 'C21700', 'C21701', 'C21702', 'C21703', 'C21705', 'C21706', 'C21707', 'C21708', 'C21709', 'C21710', 'C21711', 'C21714', 'C21715', 'C21716', 'C21717', 'C21718', 'C21720', 'C21725', 'C21726', 'C21727', 'C21728', 'C21729', 'C21730', 'C21731', 'C21732', 'C21733', 'C21734', 'C21735', 'C21761', 'C21736', 'C21737', 'C21738', 'C21739', 'C21740', 'C21741', 'C15496', 'C21743', 'C21742', 'C21744', 'C17252', 'C21650', 'C17254', 'C21746', 'C21747', 'C13252', 'C21748', 'C21750', 'C21749', 'C21751', 'C21752', 'C20303', 'C21753', 'C21754', 'C05360', 'C21759', 'C21760', 'C21762', 'C21766', 'C21768', 'C21770', 'C21764', 'C21765', 'C21769', 'C21767', 'C21772', 'C21771', 'C21773', 'C21774', 'C21775', 'C21776', 'C21777', 'C21778', 'C21779', 'C21780', 'C21781', 'C21783', 'C21782', 'C21784', 'C21785', 'C09794', 'C21786', 'C21787', 'C21794', 'C21795', 'C09092', 'C21796', 'C21797', 'C21799', 'C21798', 'C21800', 'C10882', 'C21801', 'C21802', 'C00849', 'C21805', 'C21803', 'C21804', 'C21808', 'C21814', 'C21815', 'C21817', 'C21816', 'C21818', 'C21819', 'C21820', 'C21821', 'C21822', 'C21831', 'C21823', 'C21824', 'C21825', 'C21826', 'C21827', 'C21828', 'C21829', 'C21830', 'C09163', 'C21832', 'C21835', 'C21836', 'C21837', 'C21838', 'C21839', 'C21840', 'C21841', 'C21842', 'C21843', 'C21845', 'C21844', 'C21848', 'C21847', 'C21846', 'C14521', 'C21850', 'C21851', 'C21852', 'C21853', 'C21855', 'C21856', 'C21858', 'C21862', 'C21863', 'C21864', 'C21865', 'C21866', 'C21867', 'C21868', 'C19459', 'C21872', 'C21871', 'C21833', 'C21854', 'C21873', 'C10641', 'C21874', 'C21875', 'C20656', 'C21877', 'C21880', 'C21878', 'C21879', 'C21881', 'C21860', 'C21876', 'C21882', 'C21883', 'C21884', 'C21886', 'C21885', 'C21888', 'C21887', 'C21889', 'C21890', 'C21891', 'C21892', 'C21893', 'C21894', 'C21895', 'C21896', 'C01604', 'C21897', 'C21898', 'C21899', 'C21901', 'C21900', 'C21902', 'C21903', 'C06972', 'C07578', 'C21905', 'C21906', 'C21907', 'C21908', 'C21910', 'C21909', 'C21911', 'C21912', 'C21913', 'C21914', 'C21915', 'C21916', 'C21917', 'C21918', 'C21919', 'C21920', 'C21921', 'C10874', 'C19677', 'C21922', 'C17467', 'C17055', 'C17062', 'C21923', 'C21924', 'C07138', 'C21928', 'C21927', 'C21929', 'C21930', 'C21954', 'C21955', 'C21957', 'C21956', 'C16789', 'C21969', 'C21968', 'C21970', 'C21971', 'C21972', 'C21973', 'C21974', 'C21975', 'C21935', 'C21937', 'C21939', 'C21943', 'C21976', 'C21977', 'C21978', 'C21979', 'C09804', 'C21982', 'C21999', 'C22068', 'C21988', 'C21992', 'C22000', 'C21991', 'C21983', 'C22001', 'C21984', 'C21994', 'C21995', 'C21996', 'C21997', 'C21998', 'C22026', 'C22002', 'C22003', 'C21993', 'C05334', 'C22005', 'C22029', 'C09265', 'C22007', 'C22008', 'C22009', 'C22010', 'C22011', 'C22012', 'C22013', 'C22014', 'C22015', 'C22016', 'C22017', 'C22018', 'C22019', 'C22020', 'C22021', 'C22023', 'C22022', 'C22024', 'C22025', 'C22027', 'C22028', 'C05818', 'C22030', 'C22032', 'C22031', 'C22033', 'C22034', 'C22035', 'C22036', 'C22037', 'C22039', 'C22006', 'C22043', 'C22044', 'C22045', 'C22047', 'C22046', 'C22048', 'C22049', 'C22050', 'C09440', 'C22052', 'C22053', 'C22051', 'C22054', 'C10043', 'C22055', 'C09028', 'C22056', 'C22057', 'C22058', 'C22060', 'C22059', 'C22061', 'C22062', 'C22063', 'C22064', 'C22065', 'C22067', 'C22066', 'C06081', 'C08313', 'C22070', 'C22071', 'C22072', 'C22073', 'C22074', 'C22075', 'C06419', 'C22077', 'C22078', 'C22076', 'C22079', 'C15689', 'C22080', 'C22083', 'C22084', 'C22085', 'C22086', 'C22087', 'C22089', 'C22088', 'C22090', 'C22091', 'C22092', 'C22094', 'C22095', 'C22096', 'C22097', 'C22101', 'C22102', 'C22103', 'C22104', 'C22105', 'C22106', 'C22107', 'C22108', 'C22109', 'C22110', 'C22111', 'C22113', 'C22114', 'C22115', 'C22116', 'C22121', 'C22117', 'C22118', 'C22119', 'C22122', 'C22120', 'C22123', 'C22125', 'C22124', 'C22126', 'C22127', 'C22128', 'C20779', 'C20778', 'C08946', 'C20780', 'C22129', 'C22130', 'C22131', 'C22132', 'C22134', 'C22135', 'C22112', 'C22136', 'C22137', 'C22138', 'C22139', 'C22140', 'C22141', 'C22142', 'C22143', 'C22144', 'C22145', 'C22146', 'C22147', 'C22148', 'C22149', 'C22159', 'C22157', 'C22160', 'C22158', 'C22161', 'C02147', 'C22162', 'C22163', 'C22164', 'C22165', 'C22166', 'C22167', 'C22168', 'C22169', 'C22170', 'C22171', 'C22172', 'C22173', 'C22174', 'C08371', 'C22175', 'C22177', 'C22176', 'C22178', 'C22179', 'C22180', 'C22181', 'C22182', 'C22184', 'C22183', 'C22185', 'C22186', 'C22187', 'C22188', 'C22199', 'C22198', 'C22200', 'C22201', 'C09791', 'C22204', 'C22203', 'C22205', 'C22206', 'C22207', 'C22209', 'C22208', 'C22210', 'C22212', 'C22211', 'C22214', 'C22213', 'C22215', 'C22217', 'C22216', 'C22202', 'C21040', 'C22218', 'C22219', 'C22220', 'C01924', 'C22221', 'C19999', 'C22222', 'C22223', 'C22224', 'C12296', 'C22225', 'C22263', 'C21272', 'C22229', 'C22230', 'C22232', 'C22231', 'C22234', 'C22235', 'C22236', 'C22237', 'C22238', 'C20256', 'C22257', 'C22259', 'C22260', 'C20769', 'C22261', 'C22262', 'C22247', 'C22248', 'C22249', 'C22276', 'C22252', 'C22250', 'C22251', 'C22253', 'C22254', 'C22255', 'C22256', 'C22227', 'C22264', 'C22265', 'C20883', 'C20665', 'C20884', 'C22268', 'C22269', 'C22266', 'C22267', 'C22270', 'C22228', 'C22246', 'C01337', 'C22245', 'C22272', 'C22274', 'C20885', 'C20952', 'C22004', 'C22069', 'C22273', 'C22278', 'C22280', 'C22279', 'C22271', 'C22281', 'C22282', 'C22283', 'C22285', 'C22284', 'C22286', 'C22287', 'C22258', 'C22288', 'C16666', 'C20255', 'C22289', 'C06866', 'C22290', 'C22292', 'C22291', 'C02490', 'C08250', 'C22293', 'C22295', 'C22294', 'C22233', 'C22296', 'C22297', 'C22298', 'C22277', 'C22299', 'C22300', 'C22301', 'C22302', 'C22312', 'C22313', 'C22314', 'C02209', 'C22309', 'C22316', 'C22315', 'C22317', 'C04284', 'C22318', 'C22319', 'C22320', 'C22321', 'C22322', 'C22323', 'C18625', 'C22324', 'C22325', 'C22326', 'C22327', 'C22328', 'C22329', 'C22330', 'C22331', 'C22332']\n"
     ]
    }
   ],
   "source": [
    "master_G = gg.copy()\n",
    "print(master_G.nodes())\n",
    "\n",
    "# mapping = {node: idx for idx, node in enumerate(master_G.nodes())}\n",
    "# master_G = nx.relabel_nodes(master_G, mapping)"
   ]
  },
  {
   "cell_type": "code",
   "execution_count": 264,
   "metadata": {},
   "outputs": [
    {
     "name": "stdout",
     "output_type": "stream",
     "text": [
      "Graphs: [<networkx.classes.graph.Graph object at 0x7f62159ed790>, <networkx.classes.graph.Graph object at 0x7f616928ef70>, <networkx.classes.graph.Graph object at 0x7f61693733d0>, <networkx.classes.graph.Graph object at 0x7f6169373670>, <networkx.classes.graph.Graph object at 0x7f6169373d00>, <networkx.classes.graph.Graph object at 0x7f6169373dc0>, <networkx.classes.graph.Graph object at 0x7f6169373910>, <networkx.classes.graph.Graph object at 0x7f61693732e0>, <networkx.classes.graph.Graph object at 0x7f62159e89d0>, <networkx.classes.graph.Graph object at 0x7f62159e8040>, <networkx.classes.graph.Graph object at 0x7f62159e8fa0>, <networkx.classes.graph.Graph object at 0x7f62159e84c0>, <networkx.classes.graph.Graph object at 0x7f62159e8970>, <networkx.classes.graph.Graph object at 0x7f62159e8460>, <networkx.classes.graph.Graph object at 0x7f6169380850>, <networkx.classes.graph.Graph object at 0x7f6169380490>, <networkx.classes.graph.Graph object at 0x7f6169380cd0>, <networkx.classes.graph.Graph object at 0x7f6169380940>, <networkx.classes.graph.Graph object at 0x7f6169380f40>, <networkx.classes.graph.Graph object at 0x7f6169380c40>, <networkx.classes.graph.Graph object at 0x7f6169380760>, <networkx.classes.graph.Graph object at 0x7f61693805b0>, <networkx.classes.graph.Graph object at 0x7f616f3490d0>, <networkx.classes.graph.Graph object at 0x7f616f349220>, <networkx.classes.graph.Graph object at 0x7f616f349370>, <networkx.classes.graph.Graph object at 0x7f616f3494c0>, <networkx.classes.graph.Graph object at 0x7f616f349610>, <networkx.classes.graph.Graph object at 0x7f616f349760>, <networkx.classes.graph.Graph object at 0x7f616f3498b0>, <networkx.classes.graph.Graph object at 0x7f616f349a00>, <networkx.classes.graph.Graph object at 0x7f616f349b50>, <networkx.classes.graph.Graph object at 0x7f616f349ca0>, <networkx.classes.graph.Graph object at 0x7f616f349df0>, <networkx.classes.graph.Graph object at 0x7f616f349f40>, <networkx.classes.graph.Graph object at 0x7f616f34d0d0>, <networkx.classes.graph.Graph object at 0x7f616f34d220>, <networkx.classes.graph.Graph object at 0x7f616f34d370>, <networkx.classes.graph.Graph object at 0x7f616f34d4c0>, <networkx.classes.graph.Graph object at 0x7f616f34d610>, <networkx.classes.graph.Graph object at 0x7f616f34d760>, <networkx.classes.graph.Graph object at 0x7f616f34d8b0>, <networkx.classes.graph.Graph object at 0x7f616f34da00>, <networkx.classes.graph.Graph object at 0x7f616f34db50>, <networkx.classes.graph.Graph object at 0x7f616f34dca0>, <networkx.classes.graph.Graph object at 0x7f616f34ddf0>, <networkx.classes.graph.Graph object at 0x7f616f34df40>, <networkx.classes.graph.Graph object at 0x7f616f3500d0>, <networkx.classes.graph.Graph object at 0x7f616f350220>, <networkx.classes.graph.Graph object at 0x7f616f350370>, <networkx.classes.graph.Graph object at 0x7f616f3504c0>]\n",
      "Labels: [0, 0, 1, 0, 0, 1, 0, 0, 1, 0, 0, 0, 0, 0, 1, 0, 0, 0, 0, 1, 0, 1, 0, 0, 0, 1, 0, 1, 0, 0, 0, 1, 0, 1, 0, 0, 1, 0, 0, 0, 0, 1, 0, 0, 1, 0, 0, 0, 0, 1]\n"
     ]
    }
   ],
   "source": [
    "graphs = []\n",
    "labels = []\n",
    "\n",
    "for row in range(len(paths)):\n",
    "    sg = master_G.subgraph(paths['Pathway'].iloc[row])\n",
    "    graphs.append(sg)\n",
    "\n",
    "    if paths['Correct'].iloc[row]: label = 1\n",
    "    else: label = 0\n",
    "\n",
    "    labels.append(label)\n",
    "\n",
    "print(\"Graphs:\", graphs)\n",
    "print(\"Labels:\", labels)"
   ]
  },
  {
   "cell_type": "code",
   "execution_count": 266,
   "metadata": {},
   "outputs": [
    {
     "data": {
      "text/plain": [
       "NodeDataView({'C00029': {'mw': 566.302}, 'C00761': {'mw': 342.336}, 'C00223': {'mw': 913.686}, 'C12096': {'mw': 757.656}})"
      ]
     },
     "execution_count": 266,
     "metadata": {},
     "output_type": "execute_result"
    }
   ],
   "source": [
    "graphs[1].nodes(data=True)"
   ]
  },
  {
   "cell_type": "code",
   "execution_count": null,
   "metadata": {},
   "outputs": [],
   "source": [
    "# Convert Networkx graph to PyTorch Geometric Data object\n",
    "def convert_networkx_to_pyg(graph):\n",
    "    # Extract node features\n",
    "    node_features = [graph.nodes[node]['mw'] for node in graph.nodes()]\n",
    "\n",
    "    # Extract edge features if available\n",
    "    edge_index = []\n",
    "    edge_attr = []\n",
    "\n",
    "    for edge in graph.edges():\n",
    "        src, tgt = edge\n",
    "        edge_index.append([src, tgt])\n",
    "        # Add edge attribute extraction code if available\n",
    "\n",
    "    # Create PyTorch Geometric Data object\n",
    "    x = torch.tensor(node_features, dtype=torch.float)\n",
    "    edge_index = torch.tensor(edge_index, dtype=torch.long).t().contiguous()\n",
    "    edge_attr = torch.tensor(edge_attr, dtype=torch.float).view(-1, 1)\n",
    "\n",
    "    data = Data(x=x, edge_index=edge_index, edge_attr=edge_attr)\n",
    "\n",
    "    return data\n",
    "\n",
    "# Convert networkx graph to PyTorch Geometric Data object\n",
    "data = convert_networkx_to_pyg(graph)\n",
    "\n",
    "# Print the converted data\n",
    "print(data)"
   ]
  },
  {
   "cell_type": "code",
   "execution_count": 268,
   "metadata": {},
   "outputs": [
    {
     "name": "stdout",
     "output_type": "stream",
     "text": [
      "DataBatch(x=[306, 1], edge_index=[2, 256], edge_attr=[256], y=[50], batch=[306], ptr=[51])\n"
     ]
    }
   ],
   "source": [
    "# Convert NetworkX graphs to PyG data\n",
    "data_list = []\n",
    "for graph, label in zip(graphs, labels):\n",
    "    # rename nodes to integers    \n",
    "    mapping = {node: idx for idx, node in enumerate(graph.nodes())}\n",
    "    graph = nx.relabel_nodes(graph, mapping)\n",
    "\n",
    "    # Convert NetworkX graph to PyG data\n",
    "    x = torch.tensor([graph.nodes[node]['mw'] for node in graph.nodes], dtype=torch.float).view(-1, 1)\n",
    "    edge_index = torch.tensor(list(graph.edges)).t().contiguous()\n",
    "    edge_attr = torch.tensor([graph.edges[edge]['mol_weight'] for edge in graph.edges], dtype=torch.float)\n",
    "    y = torch.tensor([label])  # Graph-level label\n",
    "\n",
    "    data = Data(x=x, edge_index=edge_index, edge_attr=edge_attr, y=y)\n",
    "    data_list.append(data)\n",
    "\n",
    "# Concatenate all data samples into a single PyG data object\n",
    "data = torch_geometric.data.Batch.from_data_list(data_list)\n",
    "print(data)"
   ]
  },
  {
   "cell_type": "code",
   "execution_count": 269,
   "metadata": {},
   "outputs": [],
   "source": [
    "from sklearn.model_selection import train_test_split\n",
    "\n",
    "# Split data into training and testing sets\n",
    "train_data, test_data = train_test_split(data, test_size=0.2)"
   ]
  },
  {
   "cell_type": "code",
   "execution_count": 271,
   "metadata": {},
   "outputs": [
    {
     "name": "stdout",
     "output_type": "stream",
     "text": [
      "Epoch 0, Loss: 1105.4496116638184\n",
      "Epoch 10, Loss: 224.61056780801457\n",
      "Epoch 20, Loss: 336.38360905522745\n",
      "Epoch 30, Loss: 97.2984473136752\n",
      "Epoch 40, Loss: 150.45332679403145\n",
      "Epoch 50, Loss: 55.33489870877929\n",
      "Epoch 60, Loss: 24.25660541653633\n",
      "Epoch 70, Loss: 40.86584873608081\n",
      "Epoch 80, Loss: 48.46292585518677\n",
      "Epoch 90, Loss: 94.89154672005873\n",
      "Training completed.\n"
     ]
    }
   ],
   "source": [
    "import torch.optim as optim\n",
    "\n",
    "# Set random seed for reproducibility\n",
    "torch.manual_seed(42)\n",
    "\n",
    "# Initialize GNN model\n",
    "model = GCN(input_dim=1, hidden_dim=32, output_dim=2)\n",
    "optimizer = optim.Adam(model.parameters(), lr=0.01)\n",
    "criterion = nn.CrossEntropyLoss()\n",
    "\n",
    "# Train the model\n",
    "model.train()\n",
    "for epoch in range(100):\n",
    "    optimizer.zero_grad()\n",
    "    \n",
    "    total_loss = 0\n",
    "    for data in train_data:\n",
    "        out = model(data)\n",
    "        loss = criterion(out, data.y.view(-1))\n",
    "        loss.backward()\n",
    "        total_loss += loss.item()\n",
    "    \n",
    "    optimizer.step()\n",
    "\n",
    "    if epoch % 10 == 0:\n",
    "        print(f\"Epoch {epoch}, Loss: {total_loss}\")\n",
    "\n",
    "print(\"Training completed.\")"
   ]
  },
  {
   "cell_type": "code",
   "execution_count": 272,
   "metadata": {},
   "outputs": [
    {
     "name": "stdout",
     "output_type": "stream",
     "text": [
      "Accuracy: 0.3\n"
     ]
    }
   ],
   "source": [
    "# Evaluation mode\n",
    "model.eval()\n",
    "with torch.no_grad():\n",
    "    correct = 0\n",
    "    total = 0\n",
    "\n",
    "    for data in test_data:\n",
    "        out = model(data)\n",
    "        predicted_labels = out.argmax(dim=1)\n",
    "        true_labels = data.y.view(-1)\n",
    "        correct += (predicted_labels == true_labels).sum().item()\n",
    "        total += len(true_labels)\n",
    "\n",
    "    accuracy = correct / total\n",
    "    print(f\"Accuracy: {accuracy}\")"
   ]
  },
  {
   "cell_type": "code",
   "execution_count": null,
   "metadata": {},
   "outputs": [],
   "source": []
  },
  {
   "cell_type": "code",
   "execution_count": null,
   "metadata": {},
   "outputs": [],
   "source": []
  },
  {
   "cell_type": "code",
   "execution_count": null,
   "metadata": {},
   "outputs": [],
   "source": []
  },
  {
   "cell_type": "code",
   "execution_count": null,
   "metadata": {},
   "outputs": [],
   "source": []
  },
  {
   "cell_type": "code",
   "execution_count": null,
   "metadata": {},
   "outputs": [],
   "source": []
  },
  {
   "cell_type": "code",
   "execution_count": null,
   "metadata": {},
   "outputs": [],
   "source": []
  },
  {
   "cell_type": "code",
   "execution_count": null,
   "metadata": {},
   "outputs": [],
   "source": []
  },
  {
   "cell_type": "code",
   "execution_count": null,
   "metadata": {},
   "outputs": [],
   "source": []
  },
  {
   "cell_type": "code",
   "execution_count": null,
   "metadata": {},
   "outputs": [],
   "source": []
  },
  {
   "cell_type": "code",
   "execution_count": null,
   "metadata": {},
   "outputs": [],
   "source": []
  },
  {
   "attachments": {},
   "cell_type": "markdown",
   "metadata": {},
   "source": [
    "# EXAMPLE OF GRAPHNN"
   ]
  },
  {
   "cell_type": "code",
   "execution_count": 219,
   "metadata": {},
   "outputs": [
    {
     "name": "stdout",
     "output_type": "stream",
     "text": [
      "Graphs: [<networkx.classes.graph.Graph object at 0x7f616f1bae20>, <networkx.classes.graph.Graph object at 0x7f616f1ba280>, <networkx.classes.graph.Graph object at 0x7f616f1ba5b0>, <networkx.classes.graph.Graph object at 0x7f616f1bac10>, <networkx.classes.graph.Graph object at 0x7f616f1ba8b0>]\n",
      "Labels: [1, 1, 1, 0, 1]\n"
     ]
    }
   ],
   "source": [
    "import networkx as nx\n",
    "import random\n",
    "\n",
    "# Generate random graphs with labels\n",
    "num_graphs = 5\n",
    "graphs = []\n",
    "labels = []\n",
    "\n",
    "for _ in range(num_graphs):\n",
    "    # Generate a random graph\n",
    "    graph = nx.fast_gnp_random_graph(10, 0.3)\n",
    "    graphs.append(graph)\n",
    "    \n",
    "    # Assign a random label (Type 0 or Type 1)\n",
    "    label = random.choice([0, 1])\n",
    "    labels.append(label)\n",
    "\n",
    "print(\"Graphs:\", graphs)\n",
    "print(\"Labels:\", labels)"
   ]
  },
  {
   "cell_type": "code",
   "execution_count": 220,
   "metadata": {},
   "outputs": [
    {
     "data": {
      "text/plain": [
       "DataBatch(x=[50, 16], edge_index=[2, 68], y=[5], batch=[50], ptr=[6])"
      ]
     },
     "execution_count": 220,
     "metadata": {},
     "output_type": "execute_result"
    }
   ],
   "source": [
    "from torch_geometric.data import Data\n",
    "import torch_geometric\n",
    "import torch\n",
    "\n",
    "# Convert NetworkX graphs to PyG data\n",
    "data_list = []\n",
    "for graph, label in zip(graphs, labels):\n",
    "    # Convert NetworkX graph to PyG data\n",
    "    edge_index = torch.tensor(list(graph.edges)).t().contiguous()\n",
    "    x = torch.randn(graph.number_of_nodes(), 16)  # Random node features (16 dimensions)\n",
    "    y = torch.tensor([label])  # Graph-level label\n",
    "    \n",
    "    data = Data(x=x, edge_index=edge_index, y=y)\n",
    "    data_list.append(data)\n",
    "\n",
    "\n",
    "# Concatenate all data samples into a single PyG data object\n",
    "data = torch_geometric.data.Batch.from_data_list(data_list)\n",
    "data"
   ]
  },
  {
   "cell_type": "code",
   "execution_count": 62,
   "metadata": {},
   "outputs": [],
   "source": [
    "import torch.nn as nn\n",
    "import torch.nn.functional as F\n",
    "from torch_geometric.nn import GCNConv\n",
    "\n",
    "class GCN(nn.Module):\n",
    "    def __init__(self, input_dim, hidden_dim, output_dim):\n",
    "        super(GCN, self).__init__()\n",
    "        self.conv1 = GCNConv(input_dim, hidden_dim)\n",
    "        self.conv2 = GCNConv(hidden_dim, output_dim)\n",
    "\n",
    "    def forward(self, data):\n",
    "        x, edge_index, batch = data.x, data.edge_index, data.batch\n",
    "\n",
    "        x = self.conv1(x, edge_index)\n",
    "        x = F.relu(x)\n",
    "        x = self.conv2(x, edge_index)\n",
    "        x = F.relu(x)\n",
    "\n",
    "        # Global mean pooling to obtain graph-level representation\n",
    "        x = torch_geometric.nn.global_mean_pool(x, batch)\n",
    "\n",
    "        return x\n"
   ]
  },
  {
   "cell_type": "code",
   "execution_count": 63,
   "metadata": {},
   "outputs": [],
   "source": [
    "from sklearn.model_selection import train_test_split\n",
    "\n",
    "# Split data into training and testing sets\n",
    "train_data, test_data = train_test_split(data, test_size=0.2)"
   ]
  },
  {
   "cell_type": "code",
   "execution_count": 65,
   "metadata": {},
   "outputs": [
    {
     "name": "stdout",
     "output_type": "stream",
     "text": [
      "Epoch 0, Loss: 1.9122719466686249\n",
      "Epoch 10, Loss: 0.13940763473510742\n",
      "Epoch 20, Loss: 0.016980628250166774\n",
      "Epoch 30, Loss: 0.00534961384255439\n",
      "Epoch 40, Loss: 0.0029825203819200397\n",
      "Epoch 50, Loss: 0.0021953209943603724\n",
      "Epoch 60, Loss: 0.0018333566549699754\n",
      "Epoch 70, Loss: 0.0016186400898732245\n",
      "Epoch 80, Loss: 0.001463850581785664\n",
      "Epoch 90, Loss: 0.0013387272483669221\n",
      "Training completed.\n"
     ]
    }
   ],
   "source": [
    "import torch.optim as optim\n",
    "\n",
    "# Set random seed for reproducibility\n",
    "torch.manual_seed(42)\n",
    "\n",
    "# Initialize GNN model\n",
    "model = GCN(input_dim=16, hidden_dim=32, output_dim=2)\n",
    "optimizer = optim.Adam(model.parameters(), lr=0.01)\n",
    "criterion = nn.CrossEntropyLoss()\n",
    "\n",
    "# Train the model\n",
    "model.train()\n",
    "for epoch in range(100):\n",
    "    optimizer.zero_grad()\n",
    "    \n",
    "    total_loss = 0\n",
    "    for data in train_data:\n",
    "        out = model(data)\n",
    "        loss = criterion(out, data.y.view(-1))\n",
    "        loss.backward()\n",
    "        total_loss += loss.item()\n",
    "    \n",
    "    optimizer.step()\n",
    "\n",
    "    if epoch % 10 == 0:\n",
    "        print(f\"Epoch {epoch}, Loss: {total_loss}\")\n",
    "\n",
    "print(\"Training completed.\")"
   ]
  },
  {
   "cell_type": "code",
   "execution_count": 67,
   "metadata": {},
   "outputs": [
    {
     "name": "stdout",
     "output_type": "stream",
     "text": [
      "Accuracy: 0.0\n"
     ]
    }
   ],
   "source": [
    "# Evaluation mode\n",
    "model.eval()\n",
    "with torch.no_grad():\n",
    "    correct = 0\n",
    "    total = 0\n",
    "\n",
    "    for data in test_data:\n",
    "        out = model(data)\n",
    "        predicted_labels = out.argmax(dim=1)\n",
    "        true_labels = data.y.view(-1)\n",
    "        correct += (predicted_labels == true_labels).sum().item()\n",
    "        total += len(true_labels)\n",
    "\n",
    "    accuracy = correct / total\n",
    "    print(f\"Accuracy: {accuracy}\")"
   ]
  }
 ],
 "metadata": {
  "kernelspec": {
   "display_name": "main-bio",
   "language": "python",
   "name": "python3"
  },
  "language_info": {
   "codemirror_mode": {
    "name": "ipython",
    "version": 3
   },
   "file_extension": ".py",
   "mimetype": "text/x-python",
   "name": "python",
   "nbconvert_exporter": "python",
   "pygments_lexer": "ipython3",
   "version": "3.9.10"
  },
  "orig_nbformat": 4
 },
 "nbformat": 4,
 "nbformat_minor": 2
}
