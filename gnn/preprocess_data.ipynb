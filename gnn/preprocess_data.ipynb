{
 "cells": [
  {
   "cell_type": "code",
   "execution_count": 1,
   "metadata": {},
   "outputs": [],
   "source": [
    "import pandas as pd"
   ]
  },
  {
   "cell_type": "code",
   "execution_count": 18,
   "metadata": {},
   "outputs": [
    {
     "name": "stdout",
     "output_type": "stream",
     "text": [
      "(7697, 3)\n",
      "(265, 3)\n"
     ]
    }
   ],
   "source": [
    "names_labels = pd.read_csv('./data/raw/NR-ER-train/names_labels.csv', header=None)\n",
    "names_labels.sort_values(by=0, inplace=True)\n",
    "\n",
    "names_smiles = pd.read_csv('./data/raw/NR-ER-train/names_smiles.csv', header=None)\n",
    "names_smiles.sort_values(by=0, inplace=True)\n",
    "\n",
    "data = pd.DataFrame()\n",
    "data['id'] = names_labels[0]\n",
    "data['smiles'] = names_smiles[1]\n",
    "data['label'] = names_labels[1]\n",
    "data.to_csv('./data/raw/train.csv')\n",
    "print(data.shape)\n",
    "\n",
    "names_labels = pd.read_csv('./data/raw/NR-ER-test/names_labels.csv', header=None)\n",
    "names_labels.sort_values(by=0, inplace=True)\n",
    "\n",
    "names_smiles = pd.read_csv('./data/raw/NR-ER-test/names_smiles.csv', header=None)\n",
    "names_smiles.sort_values(by=0, inplace=True)\n",
    "\n",
    "data = pd.DataFrame()\n",
    "data['id'] = names_labels[0]\n",
    "data['smiles'] = names_smiles[1]\n",
    "data['label'] = names_labels[1]\n",
    "data.to_csv('./data/raw/test.csv')\n",
    "print(data.shape)"
   ]
  }
 ],
 "metadata": {
  "kernelspec": {
   "display_name": "main-bio",
   "language": "python",
   "name": "python3"
  },
  "language_info": {
   "codemirror_mode": {
    "name": "ipython",
    "version": 3
   },
   "file_extension": ".py",
   "mimetype": "text/x-python",
   "name": "python",
   "nbconvert_exporter": "python",
   "pygments_lexer": "ipython3",
   "version": "3.9.10"
  },
  "orig_nbformat": 4
 },
 "nbformat": 4,
 "nbformat_minor": 2
}
