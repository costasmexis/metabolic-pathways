{
 "cells": [
  {
   "cell_type": "code",
   "execution_count": 1,
   "metadata": {},
   "outputs": [],
   "source": [
    "import gdown\n",
    "import os\n",
    "import random\n",
    "import re\n",
    "\n",
    "import pandas as pd\n",
    "\n",
    "from tqdm.auto import tqdm\n",
    "tqdm.pandas()\n",
    "from rdkit import Chem\n",
    "\n",
    "# to display molecules\n",
    "from rdkit.Chem.Draw import IPythonConsole\n",
    "from rdkit.Chem import Draw\n",
    "IPythonConsole.ipython_useSVG=True\n",
    "\n",
    "\n",
    "# disable RDKit warnings\n",
    "from rdkit import RDLogger\n",
    "RDLogger.DisableLog('rdApp.*') "
   ]
  },
  {
   "cell_type": "code",
   "execution_count": 2,
   "metadata": {},
   "outputs": [
    {
     "data": {
      "text/plain": [
       "True"
      ]
     },
     "execution_count": 2,
     "metadata": {},
     "output_type": "execute_result"
    }
   ],
   "source": [
    "# check if you have a notebook with a GPU\n",
    "import torch\n",
    "torch.cuda.is_available()\n",
    "# If False, Go to Menu > Runtime > Change runtime. Hardware accelerator -> GPU"
   ]
  },
  {
   "cell_type": "code",
   "execution_count": 4,
   "metadata": {},
   "outputs": [],
   "source": [
    "def download_data():\n",
    "    # links from https://github.com/coleygroup/Graph2SMILES/blob/main/scripts/download_raw_data.py\n",
    "    USPTO_480k_links= [\n",
    "            (\"https://drive.google.com/uc?id=1RysNBvB2rsMP0Ap9XXi02XiiZkEXCrA8\", \"src-train.txt\"),\n",
    "            (\"https://drive.google.com/uc?id=1CxxcVqtmOmHE2nhmqPFA6bilavzpcIlb\", \"tgt-train.txt\"),\n",
    "            (\"https://drive.google.com/uc?id=1FFN1nz2yB4VwrpWaBuiBDzFzdX3ONBsy\", \"src-val.txt\"),\n",
    "            (\"https://drive.google.com/uc?id=1pYCjWkYvgp1ZQ78EKQBArOvt_2P1KnmI\", \"tgt-val.txt\"),\n",
    "            (\"https://drive.google.com/uc?id=10t6pHj9yR8Tp3kDvG0KMHl7Bt_TUbQ8W\", \"src-test.txt\"),\n",
    "            (\"https://drive.google.com/uc?id=1FeGuiGuz0chVBRgePMu0pGJA4FVReA-b\", \"tgt-test.txt\")\n",
    "        ]\n",
    "    data_path = 'USPTO_480k'\n",
    "    os.makedirs(data_path, exist_ok=True)\n",
    "    for url, name in USPTO_480k_links:\n",
    "        target_path = os.path.join(data_path, name)\n",
    "        if not os.path.exists(target_path):\n",
    "            gdown.download(url, target_path, quiet=False)\n",
    "        else:\n",
    "            print(f\"{target_path} already exists\")\n",
    "\n",
    "def canonicalize_smiles(smiles, verbose=False): # will raise an Exception if invalid SMILES\n",
    "    mol = Chem.MolFromSmiles(smiles)\n",
    "    if mol is not None:\n",
    "        return Chem.MolToSmiles(mol)\n",
    "    else:\n",
    "        if verbose:\n",
    "            print(f'{smiles} is invalid.')\n",
    "        return ''"
   ]
  },
  {
   "cell_type": "code",
   "execution_count": 6,
   "metadata": {},
   "outputs": [
    {
     "name": "stderr",
     "output_type": "stream",
     "text": [
      "Downloading...\n",
      "From: https://drive.google.com/uc?id=1RysNBvB2rsMP0Ap9XXi02XiiZkEXCrA8\n",
      "To: /home/WUR/g0012069/metabolic-pathways/notebooks/USPTO_480k/src-train.txt\n",
      "100%|██████████| 57.4M/57.4M [00:03<00:00, 14.5MB/s]\n",
      "Downloading...\n",
      "From: https://drive.google.com/uc?id=1CxxcVqtmOmHE2nhmqPFA6bilavzpcIlb\n",
      "To: /home/WUR/g0012069/metabolic-pathways/notebooks/USPTO_480k/tgt-train.txt\n",
      "100%|██████████| 33.8M/33.8M [00:00<00:00, 51.8MB/s]\n",
      "Downloading...\n",
      "From: https://drive.google.com/uc?id=1FFN1nz2yB4VwrpWaBuiBDzFzdX3ONBsy\n",
      "To: /home/WUR/g0012069/metabolic-pathways/notebooks/USPTO_480k/src-val.txt\n",
      "100%|██████████| 4.21M/4.21M [00:00<00:00, 43.0MB/s]\n",
      "Downloading...\n",
      "From: https://drive.google.com/uc?id=1pYCjWkYvgp1ZQ78EKQBArOvt_2P1KnmI\n",
      "To: /home/WUR/g0012069/metabolic-pathways/notebooks/USPTO_480k/tgt-val.txt\n",
      "100%|██████████| 2.47M/2.47M [00:00<00:00, 58.7MB/s]\n",
      "Downloading...\n",
      "From: https://drive.google.com/uc?id=10t6pHj9yR8Tp3kDvG0KMHl7Bt_TUbQ8W\n",
      "To: /home/WUR/g0012069/metabolic-pathways/notebooks/USPTO_480k/src-test.txt\n",
      "100%|██████████| 5.64M/5.64M [00:00<00:00, 49.3MB/s]\n",
      "Downloading...\n",
      "From: https://drive.google.com/uc?id=1FeGuiGuz0chVBRgePMu0pGJA4FVReA-b\n",
      "To: /home/WUR/g0012069/metabolic-pathways/notebooks/USPTO_480k/tgt-test.txt\n",
      "100%|██████████| 3.30M/3.30M [00:00<00:00, 72.5MB/s]\n"
     ]
    }
   ],
   "source": [
    "download_data()"
   ]
  },
  {
   "attachments": {},
   "cell_type": "markdown",
   "metadata": {},
   "source": [
    "# Load the data"
   ]
  },
  {
   "cell_type": "code",
   "execution_count": 7,
   "metadata": {},
   "outputs": [
    {
     "data": {
      "application/vnd.jupyter.widget-view+json": {
       "model_id": "d1ea52a851de40e4bb7be7307040e196",
       "version_major": 2,
       "version_minor": 0
      },
      "text/plain": [
       "  0%|          | 0/409034 [00:00<?, ?it/s]"
      ]
     },
     "metadata": {},
     "output_type": "display_data"
    },
    {
     "data": {
      "application/vnd.jupyter.widget-view+json": {
       "model_id": "db0615ba0f42481dbad8a993a5874f34",
       "version_major": 2,
       "version_minor": 0
      },
      "text/plain": [
       "  0%|          | 0/409034 [00:00<?, ?it/s]"
      ]
     },
     "metadata": {},
     "output_type": "display_data"
    },
    {
     "data": {
      "application/vnd.jupyter.widget-view+json": {
       "model_id": "23f7473c651f479d9453f771eb33a328",
       "version_major": 2,
       "version_minor": 0
      },
      "text/plain": [
       "  0%|          | 0/29999 [00:00<?, ?it/s]"
      ]
     },
     "metadata": {},
     "output_type": "display_data"
    },
    {
     "data": {
      "application/vnd.jupyter.widget-view+json": {
       "model_id": "0b64f6de61c04333b6832db08a32a970",
       "version_major": 2,
       "version_minor": 0
      },
      "text/plain": [
       "  0%|          | 0/29999 [00:00<?, ?it/s]"
      ]
     },
     "metadata": {},
     "output_type": "display_data"
    },
    {
     "data": {
      "application/vnd.jupyter.widget-view+json": {
       "model_id": "f04a56cc5be94478a1323bf955ad96ea",
       "version_major": 2,
       "version_minor": 0
      },
      "text/plain": [
       "  0%|          | 0/39999 [00:00<?, ?it/s]"
      ]
     },
     "metadata": {},
     "output_type": "display_data"
    },
    {
     "data": {
      "application/vnd.jupyter.widget-view+json": {
       "model_id": "f01ae03447694d43936d0530ba3744e7",
       "version_major": 2,
       "version_minor": 0
      },
      "text/plain": [
       "  0%|          | 0/39999 [00:00<?, ?it/s]"
      ]
     },
     "metadata": {},
     "output_type": "display_data"
    }
   ],
   "source": [
    "line_count = !cat USPTO_480k/src-train.txt | wc -l\n",
    "total = int(line_count[0])\n",
    "with open('USPTO_480k/src-train.txt', 'r') as f:\n",
    "    precursors_train = [canonicalize_smiles(line.strip().replace(' ', '')) for line in tqdm(f, total=total)]\n",
    "with open('USPTO_480k/tgt-train.txt', 'r') as f:\n",
    "    products_train = [canonicalize_smiles(line.strip().replace(' ', '')) for line in tqdm(f, total=total)]\n",
    "\n",
    "line_count = !cat USPTO_480k/src-val.txt | wc -l\n",
    "total = int(line_count[0])\n",
    "with open('USPTO_480k/src-val.txt', 'r') as f:\n",
    "    precursors_val = [canonicalize_smiles(line.strip().replace(' ', '')) for line in tqdm(f, total=total)]\n",
    "with open('USPTO_480k/tgt-val.txt', 'r') as f:\n",
    "    products_val = [canonicalize_smiles(line.strip().replace(' ', '')) for line in tqdm(f, total=total)]\n",
    "\n",
    "line_count = !cat USPTO_480k/src-test.txt | wc -l\n",
    "total = int(line_count[0])\n",
    "with open('USPTO_480k/src-test.txt', 'r') as f:\n",
    "    precursors_test = [canonicalize_smiles(line.strip().replace(' ', '')) for line in tqdm(f, total=total)]\n",
    "with open('USPTO_480k/tgt-test.txt', 'r') as f:\n",
    "    products_test = [canonicalize_smiles(line.strip().replace(' ', '')) for line in tqdm(f, total=total)]"
   ]
  },
  {
   "cell_type": "code",
   "execution_count": 8,
   "metadata": {},
   "outputs": [
    {
     "name": "stdout",
     "output_type": "stream",
     "text": [
      "The training set contains 409035 reactions.\n",
      "The validation set contains 30000 reactions.\n",
      "The test set contains 40000 reactions.\n"
     ]
    }
   ],
   "source": [
    "train_df = pd.DataFrame({'precursors': precursors_train, 'products': products_train})\n",
    "print(f\"The training set contains {train_df.shape[0]} reactions.\")\n",
    "\n",
    "val_df = pd.DataFrame({'precursors': precursors_val, 'products': products_val})\n",
    "print(f\"The validation set contains {val_df.shape[0]} reactions.\")\n",
    "\n",
    "test_df = pd.DataFrame({'precursors': precursors_test, 'products': products_test})\n",
    "print(f\"The test set contains {test_df.shape[0]} reactions.\")\n",
    "\n",
    "train_df.to_csv('USPTO_480k/train_df.csv')\n",
    "val_df.to_csv('USPTO_480k/val_df.csv')\n",
    "test_df.to_csv('USPTO_480k/test_df.csv')"
   ]
  },
  {
   "attachments": {},
   "cell_type": "markdown",
   "metadata": {},
   "source": [
    "# Load saved datasets"
   ]
  },
  {
   "cell_type": "code",
   "execution_count": 9,
   "metadata": {},
   "outputs": [],
   "source": [
    "train_df = pd.read_csv('USPTO_480k/train_df.csv',index_col=0)\n",
    "val_df = pd.read_csv('USPTO_480k/val_df.csv',index_col=0)\n",
    "test_df = pd.read_csv('USPTO_480k/test_d.csv',index_col=0)"
   ]
  },
  {
   "attachments": {},
   "cell_type": "markdown",
   "metadata": {},
   "source": [
    "# Sanity chech - Canoncalization\n",
    "\n",
    "There is no standard for the canonicalization of SMILES. We might find SMILES that differ... A potential reason for this is that the canonicalization has changed with a newer RDKit version. So, always state the RDKit version that you are working with."
   ]
  },
  {
   "cell_type": "code",
   "execution_count": 10,
   "metadata": {},
   "outputs": [
    {
     "data": {
      "application/vnd.jupyter.widget-view+json": {
       "model_id": "d17fdfbaea7c434c8156110ef4e976cf",
       "version_major": 2,
       "version_minor": 0
      },
      "text/plain": [
       "  0%|          | 0/30000 [00:00<?, ?it/s]"
      ]
     },
     "metadata": {},
     "output_type": "display_data"
    },
    {
     "ename": "NameError",
     "evalue": "name 'precursors_val' is not defined",
     "output_type": "error",
     "traceback": [
      "\u001b[0;31m---------------------------------------------------------------------------\u001b[0m",
      "\u001b[0;31mNameError\u001b[0m                                 Traceback (most recent call last)",
      "Cell \u001b[0;32mIn[10], line 6\u001b[0m\n\u001b[1;32m      3\u001b[0m \u001b[39mwith\u001b[39;00m \u001b[39mopen\u001b[39m(\u001b[39m'\u001b[39m\u001b[39mUSPTO_480k/src-val.txt\u001b[39m\u001b[39m'\u001b[39m, \u001b[39m'\u001b[39m\u001b[39mr\u001b[39m\u001b[39m'\u001b[39m) \u001b[39mas\u001b[39;00m f:\n\u001b[1;32m      4\u001b[0m     can_precursors_val \u001b[39m=\u001b[39m [canonicalize_smiles(line\u001b[39m.\u001b[39mstrip()\u001b[39m.\u001b[39mreplace(\u001b[39m'\u001b[39m\u001b[39m \u001b[39m\u001b[39m'\u001b[39m, \u001b[39m'\u001b[39m\u001b[39m'\u001b[39m)) \u001b[39mfor\u001b[39;00m line \u001b[39min\u001b[39;00m tqdm(f, total\u001b[39m=\u001b[39mtotal)]\n\u001b[0;32m----> 6\u001b[0m \u001b[39mfor\u001b[39;00m smiles, can_smiles \u001b[39min\u001b[39;00m \u001b[39mzip\u001b[39m(precursors_val, can_precursors_val):\n\u001b[1;32m      7\u001b[0m     \u001b[39mtry\u001b[39;00m:\n\u001b[1;32m      8\u001b[0m         \u001b[39massert\u001b[39;00m smiles \u001b[39m==\u001b[39m can_smiles\n",
      "\u001b[0;31mNameError\u001b[0m: name 'precursors_val' is not defined"
     ]
    }
   ],
   "source": [
    "line_count = !cat USPTO_480k/src-val.txt | wc -l\n",
    "total = int(line_count[0])+1\n",
    "with open('USPTO_480k/src-val.txt', 'r') as f:\n",
    "    can_precursors_val = [canonicalize_smiles(line.strip().replace(' ', '')) for line in tqdm(f, total=total)]\n",
    "\n",
    "for smiles, can_smiles in zip(precursors_val, can_precursors_val):\n",
    "    try:\n",
    "        assert smiles == can_smiles\n",
    "    except AssertionError:\n",
    "        print(smiles)\n",
    "        print(can_smiles)\n",
    "    break"
   ]
  },
  {
   "attachments": {},
   "cell_type": "markdown",
   "metadata": {},
   "source": [
    "# Tokenization"
   ]
  },
  {
   "attachments": {},
   "cell_type": "markdown",
   "metadata": {},
   "source": [
    "To be able to train a language model, we need to split the strings into tokens.\n",
    "\n",
    "We take the regex pattern introduced in the Molecular Transformer."
   ]
  },
  {
   "cell_type": "code",
   "execution_count": 11,
   "metadata": {},
   "outputs": [
    {
     "name": "stdout",
     "output_type": "stream",
     "text": [
      "Tokenizing training set\n"
     ]
    },
    {
     "data": {
      "application/vnd.jupyter.widget-view+json": {
       "model_id": "6873a1d3ac684f908c0178a25d41e6be",
       "version_major": 2,
       "version_minor": 0
      },
      "text/plain": [
       "  0%|          | 0/409035 [00:00<?, ?it/s]"
      ]
     },
     "metadata": {},
     "output_type": "display_data"
    },
    {
     "data": {
      "application/vnd.jupyter.widget-view+json": {
       "model_id": "5e1686ef1a6648c4a17235332934c850",
       "version_major": 2,
       "version_minor": 0
      },
      "text/plain": [
       "  0%|          | 0/409035 [00:00<?, ?it/s]"
      ]
     },
     "metadata": {},
     "output_type": "display_data"
    },
    {
     "name": "stdout",
     "output_type": "stream",
     "text": [
      "Tokenizing validation set\n"
     ]
    },
    {
     "data": {
      "application/vnd.jupyter.widget-view+json": {
       "model_id": "8cc6c02c5bd742a9a59557ea3cecdb9a",
       "version_major": 2,
       "version_minor": 0
      },
      "text/plain": [
       "  0%|          | 0/30000 [00:00<?, ?it/s]"
      ]
     },
     "metadata": {},
     "output_type": "display_data"
    },
    {
     "data": {
      "application/vnd.jupyter.widget-view+json": {
       "model_id": "6acad7042173432c99de3797fe39aa6e",
       "version_major": 2,
       "version_minor": 0
      },
      "text/plain": [
       "  0%|          | 0/30000 [00:00<?, ?it/s]"
      ]
     },
     "metadata": {},
     "output_type": "display_data"
    },
    {
     "name": "stdout",
     "output_type": "stream",
     "text": [
      "Tokenizing test set\n"
     ]
    },
    {
     "data": {
      "application/vnd.jupyter.widget-view+json": {
       "model_id": "3f7f49c45e6e45c393d43a15e75483eb",
       "version_major": 2,
       "version_minor": 0
      },
      "text/plain": [
       "  0%|          | 0/40000 [00:00<?, ?it/s]"
      ]
     },
     "metadata": {},
     "output_type": "display_data"
    },
    {
     "data": {
      "application/vnd.jupyter.widget-view+json": {
       "model_id": "92470067d20c431ca03bd6137012ee1f",
       "version_major": 2,
       "version_minor": 0
      },
      "text/plain": [
       "  0%|          | 0/40000 [00:00<?, ?it/s]"
      ]
     },
     "metadata": {},
     "output_type": "display_data"
    }
   ],
   "source": [
    "SMI_REGEX_PATTERN =  r\"(\\%\\([0-9]{3}\\)|\\[[^\\]]+]|Br?|Cl?|N|O|S|P|F|I|b|c|n|o|s|p|\\||\\(|\\)|\\.|=|#|-|\\+|\\\\|\\/|:|~|@|\\?|>>?|\\*|\\$|\\%[0-9]{2}|[0-9])\"\n",
    "\n",
    "def smiles_tokenizer(smiles):\n",
    "    smiles_regex = re.compile(SMI_REGEX_PATTERN)\n",
    "    tokens = [token for token in smiles_regex.findall(smiles)]\n",
    "    return ' '.join(tokens)\n",
    "\n",
    "print('Tokenizing training set')\n",
    "train_df['tokenized_precursors'] = train_df.precursors.progress_apply(lambda smi: smiles_tokenizer(smi))\n",
    "train_df['tokenized_products'] = train_df.products.progress_apply(lambda smi: smiles_tokenizer(smi))\n",
    "print('Tokenizing validation set')\n",
    "val_df['tokenized_precursors'] = val_df.precursors.progress_apply(lambda smi: smiles_tokenizer(smi))\n",
    "val_df['tokenized_products'] = val_df.products.progress_apply(lambda smi: smiles_tokenizer(smi))\n",
    "print('Tokenizing test set')\n",
    "test_df['tokenized_precursors'] = test_df.precursors.progress_apply(lambda smi: smiles_tokenizer(smi))\n",
    "test_df['tokenized_products'] = test_df.products.progress_apply(lambda smi: smiles_tokenizer(smi))"
   ]
  },
  {
   "attachments": {},
   "cell_type": "markdown",
   "metadata": {},
   "source": [
    "# Save the preprocessed data set\n",
    "\n",
    "Don't forget to shuffle the training set before saving it. At least earlier versions of OpenNMT-py would not shuffle it during preprocessing."
   ]
  },
  {
   "cell_type": "code",
   "execution_count": 12,
   "metadata": {},
   "outputs": [],
   "source": [
    "shuffled_train_df = train_df.sample(frac=1., random_state=42)\n",
    "\n",
    "data_path = 'USPTO_480k_preprocessed'\n",
    "\n",
    "os.makedirs(data_path, exist_ok=True)\n",
    "with open(os.path.join(data_path, 'precursors-train.txt'), 'w') as f:\n",
    "    f.write('\\n'.join(shuffled_train_df.tokenized_precursors.values))\n",
    "with open(os.path.join(data_path, 'products-train.txt'), 'w') as f:\n",
    "    f.write('\\n'.join(shuffled_train_df.tokenized_products.values))\n",
    "\n",
    "with open(os.path.join(data_path, 'precursors-val.txt'), 'w') as f:\n",
    "    f.write('\\n'.join(val_df.tokenized_precursors.values))\n",
    "with open(os.path.join(data_path, 'products-val.txt'), 'w') as f:\n",
    "    f.write('\\n'.join(val_df.tokenized_products.values))\n",
    "    \n",
    "with open(os.path.join(data_path, 'precursors-test.txt'), 'w') as f:\n",
    "    f.write('\\n'.join(test_df.tokenized_precursors.values))\n",
    "with open(os.path.join(data_path, 'products-test.txt'), 'w') as f:\n",
    "    f.write('\\n'.join(test_df.tokenized_products.values))"
   ]
  },
  {
   "cell_type": "code",
   "execution_count": 13,
   "metadata": {},
   "outputs": [
    {
     "data": {
      "text/html": [
       "<div>\n",
       "<style scoped>\n",
       "    .dataframe tbody tr th:only-of-type {\n",
       "        vertical-align: middle;\n",
       "    }\n",
       "\n",
       "    .dataframe tbody tr th {\n",
       "        vertical-align: top;\n",
       "    }\n",
       "\n",
       "    .dataframe thead th {\n",
       "        text-align: right;\n",
       "    }\n",
       "</style>\n",
       "<table border=\"1\" class=\"dataframe\">\n",
       "  <thead>\n",
       "    <tr style=\"text-align: right;\">\n",
       "      <th></th>\n",
       "      <th>precursors</th>\n",
       "      <th>products</th>\n",
       "      <th>tokenized_precursors</th>\n",
       "      <th>tokenized_products</th>\n",
       "    </tr>\n",
       "  </thead>\n",
       "  <tbody>\n",
       "    <tr>\n",
       "      <th>342607</th>\n",
       "      <td>CC(O)OCCC(c1ccccc1)(c1ccccc1)c1ccccc1.Oc1ccc(I...</td>\n",
       "      <td>CC(O)OCCOc1ccc(I)cc1</td>\n",
       "      <td>C C ( O ) O C C C ( c 1 c c c c c 1 ) ( c 1 c ...</td>\n",
       "      <td>C C ( O ) O C C O c 1 c c c ( I ) c c 1</td>\n",
       "    </tr>\n",
       "    <tr>\n",
       "      <th>130338</th>\n",
       "      <td>CCN(CC)CC.CN1CCC(O)N(c2nnc(C3CC3)s2)C1=O.O=C(C...</td>\n",
       "      <td>CN1CCC(OC(=O)c2ccccc2)N(c2nnc(C3CC3)s2)C1=O</td>\n",
       "      <td>C C N ( C C ) C C . C N 1 C C C ( O ) N ( c 2 ...</td>\n",
       "      <td>C N 1 C C C ( O C ( = O ) c 2 c c c c c 2 ) N ...</td>\n",
       "    </tr>\n",
       "    <tr>\n",
       "      <th>95600</th>\n",
       "      <td>C1CCOC1.CC(C)(C)c1ccc(OCC(=O)O)cn1.CS(=O)(=O)N...</td>\n",
       "      <td>CC(C)(C)c1ccc(OCC(=O)NCc2ccc(NS(C)(=O)=O)c(F)c...</td>\n",
       "      <td>C 1 C C O C 1 . C C ( C ) ( C ) c 1 c c c ( O ...</td>\n",
       "      <td>C C ( C ) ( C ) c 1 c c c ( O C C ( = O ) N C ...</td>\n",
       "    </tr>\n",
       "  </tbody>\n",
       "</table>\n",
       "</div>"
      ],
      "text/plain": [
       "                                               precursors  \\\n",
       "342607  CC(O)OCCC(c1ccccc1)(c1ccccc1)c1ccccc1.Oc1ccc(I...   \n",
       "130338  CCN(CC)CC.CN1CCC(O)N(c2nnc(C3CC3)s2)C1=O.O=C(C...   \n",
       "95600   C1CCOC1.CC(C)(C)c1ccc(OCC(=O)O)cn1.CS(=O)(=O)N...   \n",
       "\n",
       "                                                 products  \\\n",
       "342607                               CC(O)OCCOc1ccc(I)cc1   \n",
       "130338        CN1CCC(OC(=O)c2ccccc2)N(c2nnc(C3CC3)s2)C1=O   \n",
       "95600   CC(C)(C)c1ccc(OCC(=O)NCc2ccc(NS(C)(=O)=O)c(F)c...   \n",
       "\n",
       "                                     tokenized_precursors  \\\n",
       "342607  C C ( O ) O C C C ( c 1 c c c c c 1 ) ( c 1 c ...   \n",
       "130338  C C N ( C C ) C C . C N 1 C C C ( O ) N ( c 2 ...   \n",
       "95600   C 1 C C O C 1 . C C ( C ) ( C ) c 1 c c c ( O ...   \n",
       "\n",
       "                                       tokenized_products  \n",
       "342607            C C ( O ) O C C O c 1 c c c ( I ) c c 1  \n",
       "130338  C N 1 C C C ( O C ( = O ) c 2 c c c c c 2 ) N ...  \n",
       "95600   C C ( C ) ( C ) c 1 c c c ( O C C ( = O ) N C ...  "
      ]
     },
     "execution_count": 13,
     "metadata": {},
     "output_type": "execute_result"
    }
   ],
   "source": [
    "train_df = shuffled_train_df.copy()\n",
    "train_df.head(3)"
   ]
  },
  {
   "attachments": {},
   "cell_type": "markdown",
   "metadata": {},
   "source": [
    "# Building the vocab"
   ]
  },
  {
   "cell_type": "code",
   "execution_count": 27,
   "metadata": {},
   "outputs": [],
   "source": [
    "# !pip install pip install OpenNMT-py==2.2.0"
   ]
  },
  {
   "attachments": {},
   "cell_type": "markdown",
   "metadata": {},
   "source": [
    "The training can take more than 24 hours on a single GPU. Hence, we will download the trained model."
   ]
  },
  {
   "cell_type": "code",
   "execution_count": 39,
   "metadata": {},
   "outputs": [
    {
     "name": "stderr",
     "output_type": "stream",
     "text": [
      "Downloading...\n",
      "From (uriginal): https://drive.google.com/uc?id=1ywJCJHunoPTB5wr6KdZ8aLv7tMFMBHNy\n",
      "From (redirected): https://drive.google.com/uc?id=1ywJCJHunoPTB5wr6KdZ8aLv7tMFMBHNy&confirm=t&uuid=ddd76baa-68c2-433e-a688-ca94a1aaf1cb\n",
      "To: /home/WUR/g0012069/metabolic-pathways/notebooks/models/USPTO480k_model_step_400000.pt\n",
      "100%|██████████| 95.2M/95.2M [00:00<00:00, 115MB/s] \n"
     ]
    }
   ],
   "source": [
    "trained_model_url = 'https://drive.google.com/uc?id=1ywJCJHunoPTB5wr6KdZ8aLv7tMFMBHNy'\n",
    "model_folder = 'models'\n",
    "model_name = 'USPTO480k_model_step_400000.pt'\n",
    "\n",
    "os.makedirs(model_folder, exist_ok=True)\n",
    "target_path = os.path.join(model_folder, model_name)\n",
    "if not os.path.exists(target_path):\n",
    "    gdown.download(trained_model_url, target_path, quiet=False)\n",
    "else:\n",
    "    print(f\"{target_path} already exists\")"
   ]
  },
  {
   "cell_type": "code",
   "execution_count": 43,
   "metadata": {},
   "outputs": [],
   "source": [
    "import torch \n",
    "\n",
    "model_path = f'{model_folder}/{model_name}'\n",
    "# Load the model\n",
    "model = torch.load(model_path)"
   ]
  },
  {
   "cell_type": "code",
   "execution_count": 45,
   "metadata": {},
   "outputs": [
    {
     "data": {
      "text/plain": [
       "precursors                     CC(C)=O.COc1ccc(S(=O)(=O)Cl)cc1.[I-].[Na+]\n",
       "products                                            COc1ccc(S(=O)[O-])cc1\n",
       "tokenized_precursors    C C ( C ) = O . C O c 1 c c c ( S ( = O ) ( = ...\n",
       "tokenized_products                 C O c 1 c c c ( S ( = O ) [O-] ) c c 1\n",
       "Name: 0, dtype: object"
      ]
     },
     "execution_count": 45,
     "metadata": {},
     "output_type": "execute_result"
    }
   ],
   "source": [
    "val_df.iloc[0]"
   ]
  },
  {
   "cell_type": "code",
   "execution_count": 83,
   "metadata": {},
   "outputs": [
    {
     "name": "stdout",
     "output_type": "stream",
     "text": [
      "[2023-06-26 12:29:15,654 INFO] Translating shard 0.\n",
      "[2023-06-26 12:29:16,434 INFO] PRED AVG SCORE: -0.0769, PRED PPL: 1.0800\n",
      "[2023-06-26 12:29:16,435 INFO] GOLD AVG SCORE: -2.9600, GOLD PPL: 19.2988\n"
     ]
    }
   ],
   "source": [
    "!onmt_translate -model models/USPTO480k_model_step_400000.pt -gpu 0 \\\n",
    "    --src precursors-val_first_line.txt \\\n",
    "    --tgt products-val_first_line.txt \\\n",
    "    --output models/USPTO480k_model_step_400000_val_predictions.txt \\\n",
    "    --n_best 5 --beam_size 12 --max_length 30 --batch_size 1"
   ]
  },
  {
   "attachments": {},
   "cell_type": "markdown",
   "metadata": {},
   "source": [
    "# Visualize reactions"
   ]
  },
  {
   "cell_type": "code",
   "execution_count": 70,
   "metadata": {},
   "outputs": [
    {
     "data": {
      "image/png": "[encoded data removed]",
      "image/svg+xml": [
       "<?xml version='1.0' encoding='iso-8859-1'?>\n",
       "<svg version='1.1' baseProfile='full'\n",
       "              xmlns='http://www.w3.org/2000/svg'\n",
       "                      xmlns:rdkit='http://www.rdkit.org/xml'\n",
       "                      xmlns:xlink='http://www.w3.org/1999/xlink'\n",
       "                  xml:space='preserve'\n",
       "width='900px' height='150px' viewBox='0 0 900 150'>\n",
       "<!-- END OF HEADER -->\n",
       "<rect style='opacity:1.0;fill:#FFFFFF;stroke:none' width='900.0' height='150.0' x='0.0' y='0.0'> </rect>\n",
       "<path class='bond-0 atom-0 atom-1' d='M 65.8,107.5 L 100.0,87.7' style='fill:none;fill-rule:evenodd;stroke:#000000;stroke-width:2.0px;stroke-linecap:butt;stroke-linejoin:miter;stroke-opacity:1' />\n",
       "<path class='bond-1 atom-1 atom-2' d='M 100.0,87.7 L 134.2,107.5' style='fill:none;fill-rule:evenodd;stroke:#000000;stroke-width:2.0px;stroke-linecap:butt;stroke-linejoin:miter;stroke-opacity:1' />\n",
       "<path class='bond-2 atom-1 atom-3' d='M 103.0,89.4 L 103.0,72.4' style='fill:none;fill-rule:evenodd;stroke:#000000;stroke-width:2.0px;stroke-linecap:butt;stroke-linejoin:miter;stroke-opacity:1' />\n",
       "<path class='bond-2 atom-1 atom-3' d='M 103.0,72.4 L 103.0,55.3' style='fill:none;fill-rule:evenodd;stroke:#FF0000;stroke-width:2.0px;stroke-linecap:butt;stroke-linejoin:miter;stroke-opacity:1' />\n",
       "<path class='bond-2 atom-1 atom-3' d='M 97.0,89.4 L 97.0,72.4' style='fill:none;fill-rule:evenodd;stroke:#000000;stroke-width:2.0px;stroke-linecap:butt;stroke-linejoin:miter;stroke-opacity:1' />\n",
       "<path class='bond-2 atom-1 atom-3' d='M 97.0,72.4 L 97.0,55.3' style='fill:none;fill-rule:evenodd;stroke:#FF0000;stroke-width:2.0px;stroke-linecap:butt;stroke-linejoin:miter;stroke-opacity:1' />\n",
       "<path d='M 98.3,88.7 L 100.0,87.7 L 101.7,88.7' style='fill:none;stroke:#000000;stroke-width:2.0px;stroke-linecap:butt;stroke-linejoin:miter;stroke-opacity:1;' />\n",
       "<path class='atom-3' d='M 94.9 48.2\n",
       "Q 94.9 45.5, 96.2 44.0\n",
       "Q 97.5 42.5, 100.0 42.5\n",
       "Q 102.5 42.5, 103.8 44.0\n",
       "Q 105.1 45.5, 105.1 48.2\n",
       "Q 105.1 50.9, 103.8 52.5\n",
       "Q 102.5 54.0, 100.0 54.0\n",
       "Q 97.5 54.0, 96.2 52.5\n",
       "Q 94.9 51.0, 94.9 48.2\n",
       "M 100.0 52.8\n",
       "Q 101.7 52.8, 102.6 51.6\n",
       "Q 103.6 50.5, 103.6 48.2\n",
       "Q 103.6 46.0, 102.6 44.9\n",
       "Q 101.7 43.8, 100.0 43.8\n",
       "Q 98.3 43.8, 97.4 44.9\n",
       "Q 96.4 46.0, 96.4 48.2\n",
       "Q 96.4 50.5, 97.4 51.6\n",
       "Q 98.3 52.8, 100.0 52.8\n",
       "' fill='#FF0000'/>\n",
       "<path d='M 153.5,65.0 L 153.5,85.0' style='fill:none;fill-rule:evenodd;stroke:#000000;stroke-width:2.0px;stroke-linecap:butt;stroke-linejoin:miter;stroke-opacity:1' />\n",
       "<path d='M 143.5,75.0 L 163.5,75.0' style='fill:none;fill-rule:evenodd;stroke:#000000;stroke-width:2.0px;stroke-linecap:butt;stroke-linejoin:miter;stroke-opacity:1' />\n",
       "<path class='bond-3 atom-4 atom-5' d='M 181.1,57.8 L 190.1,70.4' style='fill:none;fill-rule:evenodd;stroke:#000000;stroke-width:2.0px;stroke-linecap:butt;stroke-linejoin:miter;stroke-opacity:1' />\n",
       "<path class='bond-3 atom-4 atom-5' d='M 190.1,70.4 L 199.0,83.1' style='fill:none;fill-rule:evenodd;stroke:#FF0000;stroke-width:2.0px;stroke-linecap:butt;stroke-linejoin:miter;stroke-opacity:1' />\n",
       "<path class='bond-4 atom-5 atom-6' d='M 210.4,89.5 L 226.8,87.9' style='fill:none;fill-rule:evenodd;stroke:#FF0000;stroke-width:2.0px;stroke-linecap:butt;stroke-linejoin:miter;stroke-opacity:1' />\n",
       "<path class='bond-4 atom-5 atom-6' d='M 226.8,87.9 L 243.3,86.4' style='fill:none;fill-rule:evenodd;stroke:#000000;stroke-width:2.0px;stroke-linecap:butt;stroke-linejoin:miter;stroke-opacity:1' />\n",
       "<path class='bond-5 atom-6 atom-7' d='M 243.3,86.4 L 259.8,50.5' style='fill:none;fill-rule:evenodd;stroke:#000000;stroke-width:2.0px;stroke-linecap:butt;stroke-linejoin:miter;stroke-opacity:1' />\n",
       "<path class='bond-5 atom-6 atom-7' d='M 250.1,85.8 L 263.8,56.1' style='fill:none;fill-rule:evenodd;stroke:#000000;stroke-width:2.0px;stroke-linecap:butt;stroke-linejoin:miter;stroke-opacity:1' />\n",
       "<path class='bond-6 atom-7 atom-8' d='M 259.8,50.5 L 299.2,46.9' style='fill:none;fill-rule:evenodd;stroke:#000000;stroke-width:2.0px;stroke-linecap:butt;stroke-linejoin:miter;stroke-opacity:1' />\n",
       "<path class='bond-7 atom-8 atom-9' d='M 299.2,46.9 L 322.0,79.2' style='fill:none;fill-rule:evenodd;stroke:#000000;stroke-width:2.0px;stroke-linecap:butt;stroke-linejoin:miter;stroke-opacity:1' />\n",
       "<path class='bond-7 atom-8 atom-9' d='M 296.3,53.1 L 315.2,79.8' style='fill:none;fill-rule:evenodd;stroke:#000000;stroke-width:2.0px;stroke-linecap:butt;stroke-linejoin:miter;stroke-opacity:1' />\n",
       "<path class='bond-8 atom-9 atom-10' d='M 322.0,79.2 L 339.3,77.6' style='fill:none;fill-rule:evenodd;stroke:#000000;stroke-width:2.0px;stroke-linecap:butt;stroke-linejoin:miter;stroke-opacity:1' />\n",
       "<path class='bond-8 atom-9 atom-10' d='M 339.3,77.6 L 356.5,76.0' style='fill:none;fill-rule:evenodd;stroke:#CCCC00;stroke-width:2.0px;stroke-linecap:butt;stroke-linejoin:miter;stroke-opacity:1' />\n",
       "<path class='bond-9 atom-10 atom-11' d='M 366.5,78.1 L 380.6,76.8' style='fill:none;fill-rule:evenodd;stroke:#CCCC00;stroke-width:2.0px;stroke-linecap:butt;stroke-linejoin:miter;stroke-opacity:1' />\n",
       "<path class='bond-9 atom-10 atom-11' d='M 380.6,76.8 L 394.6,75.5' style='fill:none;fill-rule:evenodd;stroke:#FF0000;stroke-width:2.0px;stroke-linecap:butt;stroke-linejoin:miter;stroke-opacity:1' />\n",
       "<path class='bond-9 atom-10 atom-11' d='M 366.0,72.2 L 380.0,70.9' style='fill:none;fill-rule:evenodd;stroke:#CCCC00;stroke-width:2.0px;stroke-linecap:butt;stroke-linejoin:miter;stroke-opacity:1' />\n",
       "<path class='bond-9 atom-10 atom-11' d='M 380.0,70.9 L 394.0,69.6' style='fill:none;fill-rule:evenodd;stroke:#FF0000;stroke-width:2.0px;stroke-linecap:butt;stroke-linejoin:miter;stroke-opacity:1' />\n",
       "<path class='bond-10 atom-10 atom-12' d='M 359.1,83.0 L 360.2,95.6' style='fill:none;fill-rule:evenodd;stroke:#CCCC00;stroke-width:2.0px;stroke-linecap:butt;stroke-linejoin:miter;stroke-opacity:1' />\n",
       "<path class='bond-10 atom-10 atom-12' d='M 360.2,95.6 L 361.4,108.3' style='fill:none;fill-rule:evenodd;stroke:#FF0000;stroke-width:2.0px;stroke-linecap:butt;stroke-linejoin:miter;stroke-opacity:1' />\n",
       "<path class='bond-10 atom-10 atom-12' d='M 365.0,82.5 L 366.1,95.1' style='fill:none;fill-rule:evenodd;stroke:#CCCC00;stroke-width:2.0px;stroke-linecap:butt;stroke-linejoin:miter;stroke-opacity:1' />\n",
       "<path class='bond-10 atom-10 atom-12' d='M 366.1,95.1 L 367.3,107.7' style='fill:none;fill-rule:evenodd;stroke:#FF0000;stroke-width:2.0px;stroke-linecap:butt;stroke-linejoin:miter;stroke-opacity:1' />\n",
       "<path class='bond-11 atom-10 atom-13' d='M 360.7,68.7 L 359.6,56.2' style='fill:none;fill-rule:evenodd;stroke:#CCCC00;stroke-width:2.0px;stroke-linecap:butt;stroke-linejoin:miter;stroke-opacity:1' />\n",
       "<path class='bond-11 atom-10 atom-13' d='M 359.6,56.2 L 358.4,43.7' style='fill:none;fill-rule:evenodd;stroke:#00CC00;stroke-width:2.0px;stroke-linecap:butt;stroke-linejoin:miter;stroke-opacity:1' />\n",
       "<path class='bond-12 atom-9 atom-14' d='M 322.0,79.2 L 305.5,115.1' style='fill:none;fill-rule:evenodd;stroke:#000000;stroke-width:2.0px;stroke-linecap:butt;stroke-linejoin:miter;stroke-opacity:1' />\n",
       "<path class='bond-13 atom-14 atom-15' d='M 305.5,115.1 L 266.1,118.7' style='fill:none;fill-rule:evenodd;stroke:#000000;stroke-width:2.0px;stroke-linecap:butt;stroke-linejoin:miter;stroke-opacity:1' />\n",
       "<path class='bond-13 atom-14 atom-15' d='M 301.5,109.5 L 269.0,112.5' style='fill:none;fill-rule:evenodd;stroke:#000000;stroke-width:2.0px;stroke-linecap:butt;stroke-linejoin:miter;stroke-opacity:1' />\n",
       "<path class='bond-14 atom-15 atom-6' d='M 266.1,118.7 L 243.3,86.4' style='fill:none;fill-rule:evenodd;stroke:#000000;stroke-width:2.0px;stroke-linecap:butt;stroke-linejoin:miter;stroke-opacity:1' />\n",
       "<path class='atom-1' d='M 198.8 90.1\n",
       "Q 198.8 87.4, 200.1 85.9\n",
       "Q 201.5 84.4, 203.9 84.4\n",
       "Q 206.4 84.4, 207.7 85.9\n",
       "Q 209.1 87.4, 209.1 90.1\n",
       "Q 209.1 92.8, 207.7 94.3\n",
       "Q 206.4 95.9, 203.9 95.9\n",
       "Q 201.5 95.9, 200.1 94.3\n",
       "Q 198.8 92.8, 198.8 90.1\n",
       "M 203.9 94.6\n",
       "Q 205.6 94.6, 206.6 93.5\n",
       "Q 207.5 92.3, 207.5 90.1\n",
       "Q 207.5 87.9, 206.6 86.8\n",
       "Q 205.6 85.7, 203.9 85.7\n",
       "Q 202.2 85.7, 201.3 86.8\n",
       "Q 200.4 87.9, 200.4 90.1\n",
       "Q 200.4 92.3, 201.3 93.5\n",
       "Q 202.2 94.6, 203.9 94.6\n",
       "' fill='#FF0000'/>\n",
       "<path class='atom-6' d='M 358.2 79.4\n",
       "Q 358.3 79.5, 358.9 79.7\n",
       "Q 359.4 79.9, 360.0 80.1\n",
       "Q 360.5 80.2, 361.1 80.2\n",
       "Q 362.2 80.2, 362.8 79.7\n",
       "Q 363.4 79.2, 363.4 78.3\n",
       "Q 363.4 77.6, 363.1 77.3\n",
       "Q 362.8 76.9, 362.3 76.7\n",
       "Q 361.8 76.5, 361.0 76.2\n",
       "Q 360.1 75.9, 359.5 75.6\n",
       "Q 358.9 75.4, 358.4 74.8\n",
       "Q 358.0 74.2, 358.0 73.1\n",
       "Q 358.0 71.7, 359.0 70.9\n",
       "Q 359.9 70.0, 361.8 70.0\n",
       "Q 363.1 70.0, 364.6 70.6\n",
       "L 364.2 71.8\n",
       "Q 362.9 71.3, 361.9 71.3\n",
       "Q 360.8 71.3, 360.2 71.7\n",
       "Q 359.6 72.2, 359.6 73.0\n",
       "Q 359.6 73.6, 359.9 73.9\n",
       "Q 360.2 74.3, 360.7 74.5\n",
       "Q 361.1 74.7, 361.9 74.9\n",
       "Q 362.9 75.3, 363.5 75.6\n",
       "Q 364.1 75.9, 364.5 76.5\n",
       "Q 365.0 77.2, 365.0 78.3\n",
       "Q 365.0 79.8, 363.9 80.6\n",
       "Q 362.9 81.5, 361.2 81.5\n",
       "Q 360.2 81.5, 359.4 81.2\n",
       "Q 358.7 81.0, 357.8 80.7\n",
       "L 358.2 79.4\n",
       "' fill='#CCCC00'/>\n",
       "<path class='atom-7' d='M 395.6 72.0\n",
       "Q 395.6 69.3, 396.9 67.8\n",
       "Q 398.3 66.3, 400.7 66.3\n",
       "Q 403.2 66.3, 404.6 67.8\n",
       "Q 405.9 69.3, 405.9 72.0\n",
       "Q 405.9 74.7, 404.5 76.3\n",
       "Q 403.2 77.8, 400.7 77.8\n",
       "Q 398.3 77.8, 396.9 76.3\n",
       "Q 395.6 74.7, 395.6 72.0\n",
       "M 400.7 76.5\n",
       "Q 402.4 76.5, 403.4 75.4\n",
       "Q 404.3 74.2, 404.3 72.0\n",
       "Q 404.3 69.8, 403.4 68.7\n",
       "Q 402.4 67.6, 400.7 67.6\n",
       "Q 399.0 67.6, 398.1 68.7\n",
       "Q 397.2 69.8, 397.2 72.0\n",
       "Q 397.2 74.3, 398.1 75.4\n",
       "Q 399.0 76.5, 400.7 76.5\n",
       "' fill='#FF0000'/>\n",
       "<path class='atom-8' d='M 359.9 115.0\n",
       "Q 359.9 112.3, 361.2 110.8\n",
       "Q 362.5 109.3, 365.0 109.3\n",
       "Q 367.5 109.3, 368.8 110.8\n",
       "Q 370.1 112.3, 370.1 115.0\n",
       "Q 370.1 117.7, 368.8 119.2\n",
       "Q 367.4 120.8, 365.0 120.8\n",
       "Q 362.5 120.8, 361.2 119.2\n",
       "Q 359.9 117.7, 359.9 115.0\n",
       "M 365.0 119.5\n",
       "Q 366.7 119.5, 367.6 118.4\n",
       "Q 368.6 117.2, 368.6 115.0\n",
       "Q 368.6 112.8, 367.6 111.7\n",
       "Q 366.7 110.5, 365.0 110.5\n",
       "Q 363.3 110.5, 362.4 111.7\n",
       "Q 361.4 112.8, 361.4 115.0\n",
       "Q 361.4 117.2, 362.4 118.4\n",
       "Q 363.3 119.5, 365.0 119.5\n",
       "' fill='#FF0000'/>\n",
       "<path class='atom-9' d='M 353.4 36.6\n",
       "Q 353.4 33.8, 354.7 32.4\n",
       "Q 356.1 30.9, 358.5 30.9\n",
       "Q 360.8 30.9, 362.1 32.5\n",
       "L 361.0 33.4\n",
       "Q 360.1 32.2, 358.5 32.2\n",
       "Q 356.8 32.2, 355.9 33.3\n",
       "Q 355.1 34.5, 355.1 36.6\n",
       "Q 355.1 38.8, 356.0 40.0\n",
       "Q 356.9 41.1, 358.7 41.1\n",
       "Q 359.9 41.1, 361.4 40.4\n",
       "L 361.8 41.5\n",
       "Q 361.2 41.9, 360.4 42.1\n",
       "Q 359.5 42.4, 358.5 42.4\n",
       "Q 356.1 42.4, 354.7 40.9\n",
       "Q 353.4 39.4, 353.4 36.6\n",
       "' fill='#00CC00'/>\n",
       "<path class='atom-9' d='M 363.2 30.2\n",
       "L 364.7 30.2\n",
       "L 364.7 42.2\n",
       "L 363.2 42.2\n",
       "L 363.2 30.2\n",
       "' fill='#00CC00'/>\n",
       "<path d='M 432.5,65.0 L 432.5,85.0' style='fill:none;fill-rule:evenodd;stroke:#000000;stroke-width:2.0px;stroke-linecap:butt;stroke-linejoin:miter;stroke-opacity:1' />\n",
       "<path d='M 422.5,75.0 L 442.5,75.0' style='fill:none;fill-rule:evenodd;stroke:#000000;stroke-width:2.0px;stroke-linecap:butt;stroke-linejoin:miter;stroke-opacity:1' />\n",
       "<path class='atom-0' d='M 448.5 68.9\n",
       "L 450.0 68.9\n",
       "L 450.0 80.1\n",
       "L 448.5 80.1\n",
       "L 448.5 68.9\n",
       "' fill='#A01EEF'/>\n",
       "<path class='atom-0' d='M 451.7 70.8\n",
       "L 455.5 70.8\n",
       "L 455.5 71.6\n",
       "L 451.7 71.6\n",
       "L 451.7 70.8\n",
       "' fill='#A01EEF'/>\n",
       "<path d='M 471.5,65.0 L 471.5,85.0' style='fill:none;fill-rule:evenodd;stroke:#000000;stroke-width:2.0px;stroke-linecap:butt;stroke-linejoin:miter;stroke-opacity:1' />\n",
       "<path d='M 461.5,75.0 L 481.5,75.0' style='fill:none;fill-rule:evenodd;stroke:#000000;stroke-width:2.0px;stroke-linecap:butt;stroke-linejoin:miter;stroke-opacity:1' />\n",
       "<path class='atom-0' d='M 490.2 68.8\n",
       "L 493.9 74.7\n",
       "Q 494.3 75.3, 494.8 76.4\n",
       "Q 495.4 77.4, 495.5 77.5\n",
       "L 495.5 68.8\n",
       "L 496.9 68.8\n",
       "L 496.9 80.0\n",
       "L 495.4 80.0\n",
       "L 491.5 73.5\n",
       "Q 491.0 72.8, 490.5 71.9\n",
       "Q 490.1 71.0, 489.9 70.8\n",
       "L 489.9 80.0\n",
       "L 488.5 80.0\n",
       "L 488.5 68.8\n",
       "L 490.2 68.8\n",
       "' fill='#000000'/>\n",
       "<path class='atom-0' d='M 499.0 77.8\n",
       "Q 499.0 76.5, 500.1 75.8\n",
       "Q 501.1 75.1, 503.0 75.1\n",
       "L 504.2 75.1\n",
       "L 504.2 74.8\n",
       "Q 504.2 73.8, 503.8 73.3\n",
       "Q 503.4 72.9, 502.4 72.9\n",
       "Q 501.7 72.9, 501.2 73.0\n",
       "Q 500.7 73.1, 499.9 73.5\n",
       "L 499.5 72.5\n",
       "Q 501.0 71.7, 502.4 71.7\n",
       "Q 504.1 71.7, 504.9 72.5\n",
       "Q 505.7 73.2, 505.7 74.8\n",
       "L 505.7 80.0\n",
       "L 504.5 80.0\n",
       "Q 504.5 79.9, 504.5 79.7\n",
       "Q 504.4 79.4, 504.3 79.1\n",
       "Q 503.2 80.2, 501.7 80.2\n",
       "Q 500.5 80.2, 499.7 79.5\n",
       "Q 499.0 78.9, 499.0 77.8\n",
       "M 500.5 77.8\n",
       "Q 500.5 78.4, 500.9 78.7\n",
       "Q 501.3 79.0, 502.0 79.0\n",
       "Q 502.6 79.0, 503.2 78.7\n",
       "Q 503.8 78.4, 504.2 77.9\n",
       "L 504.2 76.2\n",
       "L 503.1 76.2\n",
       "Q 501.8 76.2, 501.1 76.6\n",
       "Q 500.5 77.0, 500.5 77.8\n",
       "' fill='#000000'/>\n",
       "<path class='atom-0' d='M 507.7 72.2\n",
       "L 509.6 72.2\n",
       "L 509.6 70.1\n",
       "L 510.5 70.1\n",
       "L 510.5 72.2\n",
       "L 512.5 72.2\n",
       "L 512.5 72.9\n",
       "L 510.5 72.9\n",
       "L 510.5 75.0\n",
       "L 509.6 75.0\n",
       "L 509.6 72.9\n",
       "L 507.7 72.9\n",
       "L 507.7 72.2\n",
       "' fill='#000000'/>\n",
       "<path class='bond-15 atom-18 atom-19' d='M 618.3,57.7 L 627.3,70.3' style='fill:none;fill-rule:evenodd;stroke:#000000;stroke-width:2.0px;stroke-linecap:butt;stroke-linejoin:miter;stroke-opacity:1' />\n",
       "<path class='bond-15 atom-18 atom-19' d='M 627.3,70.3 L 636.3,82.9' style='fill:none;fill-rule:evenodd;stroke:#FF0000;stroke-width:2.0px;stroke-linecap:butt;stroke-linejoin:miter;stroke-opacity:1' />\n",
       "<path class='bond-16 atom-19 atom-20' d='M 647.7,89.2 L 664.1,87.6' style='fill:none;fill-rule:evenodd;stroke:#FF0000;stroke-width:2.0px;stroke-linecap:butt;stroke-linejoin:miter;stroke-opacity:1' />\n",
       "<path class='bond-16 atom-19 atom-20' d='M 664.1,87.6 L 680.6,86.0' style='fill:none;fill-rule:evenodd;stroke:#000000;stroke-width:2.0px;stroke-linecap:butt;stroke-linejoin:miter;stroke-opacity:1' />\n",
       "<path class='bond-17 atom-20 atom-21' d='M 680.6,86.0 L 696.9,50.0' style='fill:none;fill-rule:evenodd;stroke:#000000;stroke-width:2.0px;stroke-linecap:butt;stroke-linejoin:miter;stroke-opacity:1' />\n",
       "<path class='bond-17 atom-20 atom-21' d='M 687.4,85.3 L 700.9,55.6' style='fill:none;fill-rule:evenodd;stroke:#000000;stroke-width:2.0px;stroke-linecap:butt;stroke-linejoin:miter;stroke-opacity:1' />\n",
       "<path class='bond-18 atom-21 atom-22' d='M 696.9,50.0 L 736.3,46.2' style='fill:none;fill-rule:evenodd;stroke:#000000;stroke-width:2.0px;stroke-linecap:butt;stroke-linejoin:miter;stroke-opacity:1' />\n",
       "<path class='bond-19 atom-22 atom-23' d='M 736.3,46.2 L 759.3,78.3' style='fill:none;fill-rule:evenodd;stroke:#000000;stroke-width:2.0px;stroke-linecap:butt;stroke-linejoin:miter;stroke-opacity:1' />\n",
       "<path class='bond-19 atom-22 atom-23' d='M 733.4,52.4 L 752.5,79.0' style='fill:none;fill-rule:evenodd;stroke:#000000;stroke-width:2.0px;stroke-linecap:butt;stroke-linejoin:miter;stroke-opacity:1' />\n",
       "<path class='bond-20 atom-23 atom-24' d='M 759.3,78.3 L 776.5,76.7' style='fill:none;fill-rule:evenodd;stroke:#000000;stroke-width:2.0px;stroke-linecap:butt;stroke-linejoin:miter;stroke-opacity:1' />\n",
       "<path class='bond-20 atom-23 atom-24' d='M 776.5,76.7 L 793.7,75.0' style='fill:none;fill-rule:evenodd;stroke:#CCCC00;stroke-width:2.0px;stroke-linecap:butt;stroke-linejoin:miter;stroke-opacity:1' />\n",
       "<path class='bond-21 atom-24 atom-25' d='M 801.1,83.1 L 807.7,92.2' style='fill:none;fill-rule:evenodd;stroke:#CCCC00;stroke-width:2.0px;stroke-linecap:butt;stroke-linejoin:miter;stroke-opacity:1' />\n",
       "<path class='bond-21 atom-24 atom-25' d='M 807.7,92.2 L 814.2,101.4' style='fill:none;fill-rule:evenodd;stroke:#FF0000;stroke-width:2.0px;stroke-linecap:butt;stroke-linejoin:miter;stroke-opacity:1' />\n",
       "<path class='bond-21 atom-24 atom-25' d='M 805.9,79.6 L 812.5,88.8' style='fill:none;fill-rule:evenodd;stroke:#CCCC00;stroke-width:2.0px;stroke-linecap:butt;stroke-linejoin:miter;stroke-opacity:1' />\n",
       "<path class='bond-21 atom-24 atom-25' d='M 812.5,88.8 L 819.0,98.0' style='fill:none;fill-rule:evenodd;stroke:#FF0000;stroke-width:2.0px;stroke-linecap:butt;stroke-linejoin:miter;stroke-opacity:1' />\n",
       "<path class='bond-22 atom-24 atom-26' d='M 801.7,67.6 L 806.7,56.6' style='fill:none;fill-rule:evenodd;stroke:#CCCC00;stroke-width:2.0px;stroke-linecap:butt;stroke-linejoin:miter;stroke-opacity:1' />\n",
       "<path class='bond-22 atom-24 atom-26' d='M 806.7,56.6 L 811.7,45.6' style='fill:none;fill-rule:evenodd;stroke:#FF0000;stroke-width:2.0px;stroke-linecap:butt;stroke-linejoin:miter;stroke-opacity:1' />\n",
       "<path class='bond-23 atom-23 atom-27' d='M 759.3,78.3 L 742.9,114.3' style='fill:none;fill-rule:evenodd;stroke:#000000;stroke-width:2.0px;stroke-linecap:butt;stroke-linejoin:miter;stroke-opacity:1' />\n",
       "<path class='bond-24 atom-27 atom-28' d='M 742.9,114.3 L 703.6,118.2' style='fill:none;fill-rule:evenodd;stroke:#000000;stroke-width:2.0px;stroke-linecap:butt;stroke-linejoin:miter;stroke-opacity:1' />\n",
       "<path class='bond-24 atom-27 atom-28' d='M 738.9,108.7 L 706.4,111.9' style='fill:none;fill-rule:evenodd;stroke:#000000;stroke-width:2.0px;stroke-linecap:butt;stroke-linejoin:miter;stroke-opacity:1' />\n",
       "<path class='bond-25 atom-28 atom-20' d='M 703.6,118.2 L 680.6,86.0' style='fill:none;fill-rule:evenodd;stroke:#000000;stroke-width:2.0px;stroke-linecap:butt;stroke-linejoin:miter;stroke-opacity:1' />\n",
       "<path class='atom-1' d='M 636.1 89.9\n",
       "Q 636.1 87.2, 637.4 85.7\n",
       "Q 638.8 84.2, 641.2 84.2\n",
       "Q 643.7 84.2, 645.1 85.7\n",
       "Q 646.4 87.2, 646.4 89.9\n",
       "Q 646.4 92.6, 645.0 94.1\n",
       "Q 643.7 95.7, 641.2 95.7\n",
       "Q 638.8 95.7, 637.4 94.1\n",
       "Q 636.1 92.6, 636.1 89.9\n",
       "M 641.2 94.4\n",
       "Q 643.0 94.4, 643.9 93.3\n",
       "Q 644.8 92.1, 644.8 89.9\n",
       "Q 644.8 87.7, 643.9 86.6\n",
       "Q 643.0 85.4, 641.2 85.4\n",
       "Q 639.5 85.4, 638.6 86.5\n",
       "Q 637.7 87.7, 637.7 89.9\n",
       "Q 637.7 92.1, 638.6 93.3\n",
       "Q 639.5 94.4, 641.2 94.4\n",
       "' fill='#FF0000'/>\n",
       "<path class='atom-6' d='M 795.5 78.3\n",
       "Q 795.6 78.4, 796.1 78.6\n",
       "Q 796.6 78.8, 797.2 79.0\n",
       "Q 797.8 79.1, 798.3 79.1\n",
       "Q 799.4 79.1, 800.0 78.6\n",
       "Q 800.6 78.1, 800.6 77.2\n",
       "Q 800.6 76.6, 800.3 76.2\n",
       "Q 800.0 75.8, 799.5 75.6\n",
       "Q 799.1 75.4, 798.3 75.1\n",
       "Q 797.3 74.8, 796.7 74.6\n",
       "Q 796.1 74.3, 795.7 73.7\n",
       "Q 795.3 73.1, 795.3 72.1\n",
       "Q 795.3 70.7, 796.2 69.8\n",
       "Q 797.2 68.9, 799.1 68.9\n",
       "Q 800.4 68.9, 801.8 69.5\n",
       "L 801.5 70.7\n",
       "Q 800.1 70.2, 799.1 70.2\n",
       "Q 798.0 70.2, 797.4 70.7\n",
       "Q 796.8 71.1, 796.8 71.9\n",
       "Q 796.8 72.5, 797.1 72.8\n",
       "Q 797.5 73.2, 797.9 73.4\n",
       "Q 798.4 73.6, 799.1 73.8\n",
       "Q 800.1 74.2, 800.7 74.5\n",
       "Q 801.3 74.8, 801.8 75.4\n",
       "Q 802.2 76.1, 802.2 77.2\n",
       "Q 802.2 78.7, 801.2 79.6\n",
       "Q 800.1 80.4, 798.4 80.4\n",
       "Q 797.4 80.4, 796.7 80.2\n",
       "Q 795.9 80.0, 795.0 79.6\n",
       "L 795.5 78.3\n",
       "' fill='#CCCC00'/>\n",
       "<path class='atom-7' d='M 816.5 106.7\n",
       "Q 816.5 104.0, 817.8 102.5\n",
       "Q 819.1 101.0, 821.6 101.0\n",
       "Q 824.1 101.0, 825.4 102.5\n",
       "Q 826.7 104.0, 826.7 106.7\n",
       "Q 826.7 109.4, 825.4 110.9\n",
       "Q 824.1 112.5, 821.6 112.5\n",
       "Q 819.1 112.5, 817.8 110.9\n",
       "Q 816.5 109.4, 816.5 106.7\n",
       "M 821.6 111.2\n",
       "Q 823.3 111.2, 824.2 110.1\n",
       "Q 825.2 108.9, 825.2 106.7\n",
       "Q 825.2 104.5, 824.2 103.4\n",
       "Q 823.3 102.3, 821.6 102.3\n",
       "Q 819.9 102.3, 819.0 103.4\n",
       "Q 818.0 104.5, 818.0 106.7\n",
       "Q 818.0 108.9, 819.0 110.1\n",
       "Q 819.9 111.2, 821.6 111.2\n",
       "' fill='#FF0000'/>\n",
       "<path class='atom-8' d='M 809.8 38.5\n",
       "Q 809.8 35.9, 811.2 34.3\n",
       "Q 812.5 32.8, 815.0 32.8\n",
       "Q 817.4 32.8, 818.8 34.3\n",
       "Q 820.1 35.9, 820.1 38.5\n",
       "Q 820.1 41.3, 818.8 42.8\n",
       "Q 817.4 44.3, 815.0 44.3\n",
       "Q 812.5 44.3, 811.2 42.8\n",
       "Q 809.8 41.3, 809.8 38.5\n",
       "M 815.0 43.1\n",
       "Q 816.7 43.1, 817.6 41.9\n",
       "Q 818.5 40.8, 818.5 38.5\n",
       "Q 818.5 36.3, 817.6 35.2\n",
       "Q 816.7 34.1, 815.0 34.1\n",
       "Q 813.3 34.1, 812.3 35.2\n",
       "Q 811.4 36.3, 811.4 38.5\n",
       "Q 811.4 40.8, 812.3 41.9\n",
       "Q 813.3 43.1, 815.0 43.1\n",
       "' fill='#FF0000'/>\n",
       "<path class='atom-8' d='M 821.7 34.7\n",
       "L 825.5 34.7\n",
       "L 825.5 35.5\n",
       "L 821.7 35.5\n",
       "L 821.7 34.7\n",
       "' fill='#FF0000'/>\n",
       "<path d='M 530.0,75.0 L 592.0,75.0' style='fill:none;fill-rule:evenodd;stroke:#000000;stroke-width:2.0px;stroke-linecap:butt;stroke-linejoin:miter;stroke-opacity:1' />\n",
       "<path d='M 592.0,75.0 L 587.0,77.9' style='fill:none;fill-rule:evenodd;stroke:#000000;stroke-width:2.0px;stroke-linecap:butt;stroke-linejoin:miter;stroke-opacity:1' />\n",
       "<path d='M 592.0,75.0 L 587.0,72.1' style='fill:none;fill-rule:evenodd;stroke:#000000;stroke-width:2.0px;stroke-linecap:butt;stroke-linejoin:miter;stroke-opacity:1' />\n",
       "</svg>\n"
      ],
      "text/plain": [
       "<rdkit.Chem.rdChemReactions.ChemicalReaction at 0x7f5d93114cf0>"
      ]
     },
     "metadata": {},
     "output_type": "display_data"
    }
   ],
   "source": [
    "from rdkit.Chem import AllChem, Draw\n",
    "\n",
    "def visualize_chemical_reaction(reaction_smarts: str):\n",
    "    # Create a RDKit reaction object from reaction SMARTS string\n",
    "    reaction = AllChem.ReactionFromSmarts(reaction_smarts, useSmiles=True)\n",
    "    # Display images\n",
    "    display(reaction)\n",
    "    \n",
    "rxn_example = f'{val_df.iloc[0,0]}>>{val_df.iloc[0,1]}'\n",
    "\n",
    "visualize_chemical_reaction(rxn_example)"
   ]
  },
  {
   "cell_type": "code",
   "execution_count": 65,
   "metadata": {},
   "outputs": [
    {
     "data": {
      "text/html": [
       "<div>\n",
       "<style scoped>\n",
       "    .dataframe tbody tr th:only-of-type {\n",
       "        vertical-align: middle;\n",
       "    }\n",
       "\n",
       "    .dataframe tbody tr th {\n",
       "        vertical-align: top;\n",
       "    }\n",
       "\n",
       "    .dataframe thead th {\n",
       "        text-align: right;\n",
       "    }\n",
       "</style>\n",
       "<table border=\"1\" class=\"dataframe\">\n",
       "  <thead>\n",
       "    <tr style=\"text-align: right;\">\n",
       "      <th></th>\n",
       "      <th>Entry</th>\n",
       "      <th>Names</th>\n",
       "      <th>SMILES</th>\n",
       "    </tr>\n",
       "  </thead>\n",
       "  <tbody>\n",
       "    <tr>\n",
       "      <th>0</th>\n",
       "      <td>C00001</td>\n",
       "      <td>[\"H2O\", \"Water\"]</td>\n",
       "      <td>O</td>\n",
       "    </tr>\n",
       "    <tr>\n",
       "      <th>1</th>\n",
       "      <td>C00002</td>\n",
       "      <td>[\"ATP\", \"Adenosine 5'-triphosphate\"]</td>\n",
       "      <td>Nc1ncnc2c1ncn2[C@@H]1O[C@H](COP(=O)(O)OP(=O)(O...</td>\n",
       "    </tr>\n",
       "    <tr>\n",
       "      <th>2</th>\n",
       "      <td>C00003</td>\n",
       "      <td>[\"NAD+\", \"NAD\", \"Nicotinamide adenine dinucleo...</td>\n",
       "      <td>NC(=O)c1ccc[n+]([C@@H]2O[C@H](COP(=O)(O)OP(=O)...</td>\n",
       "    </tr>\n",
       "    <tr>\n",
       "      <th>3</th>\n",
       "      <td>C00004</td>\n",
       "      <td>[\"NADH\", \"DPNH\", \"Reduced nicotinamide adenine...</td>\n",
       "      <td>NC(=O)C1=CN([C@@H]2O[C@H](COP(=O)(O)OP(=O)(O)O...</td>\n",
       "    </tr>\n",
       "    <tr>\n",
       "      <th>4</th>\n",
       "      <td>C00005</td>\n",
       "      <td>[\"NADPH\", \"TPNH\", \"Reduced nicotinamide adenin...</td>\n",
       "      <td>NC(=O)C1=CN([C@@H]2O[C@H](COP(=O)(O)OP(=O)(O)O...</td>\n",
       "    </tr>\n",
       "  </tbody>\n",
       "</table>\n",
       "</div>"
      ],
      "text/plain": [
       "    Entry                                              Names  \\\n",
       "0  C00001                                   [\"H2O\", \"Water\"]   \n",
       "1  C00002               [\"ATP\", \"Adenosine 5'-triphosphate\"]   \n",
       "2  C00003  [\"NAD+\", \"NAD\", \"Nicotinamide adenine dinucleo...   \n",
       "3  C00004  [\"NADH\", \"DPNH\", \"Reduced nicotinamide adenine...   \n",
       "4  C00005  [\"NADPH\", \"TPNH\", \"Reduced nicotinamide adenin...   \n",
       "\n",
       "                                              SMILES  \n",
       "0                                                  O  \n",
       "1  Nc1ncnc2c1ncn2[C@@H]1O[C@H](COP(=O)(O)OP(=O)(O...  \n",
       "2  NC(=O)c1ccc[n+]([C@@H]2O[C@H](COP(=O)(O)OP(=O)...  \n",
       "3  NC(=O)C1=CN([C@@H]2O[C@H](COP(=O)(O)OP(=O)(O)O...  \n",
       "4  NC(=O)C1=CN([C@@H]2O[C@H](COP(=O)(O)OP(=O)(O)O...  "
      ]
     },
     "execution_count": 65,
     "metadata": {},
     "output_type": "execute_result"
    }
   ],
   "source": [
    "kegg_df = pd.read_csv('../data/compounds_final.csv', index_col=0)\n",
    "kegg_df = kegg_df[['Entry','Names', 'SMILES']]\n",
    "kegg_df.head()"
   ]
  },
  {
   "cell_type": "code",
   "execution_count": 84,
   "metadata": {},
   "outputs": [
    {
     "name": "stdout",
     "output_type": "stream",
     "text": [
      "N C C C C [C@H] ( N ) C ( = O ) O [\"L-Lysine\", \"Lysine acid\", \"2,6-Diaminohexanoic acid\"]\n",
      "N [C@@H] ( C C C C = O ) C ( = O ) O [\"L-2-Aminoadipate 6-semialdehyde\", \"2-Aminoadipate 6-semialdehyde\", \"L-Allysine\", \"Allysine\", \"(S)-2-Amino-6-oxohexanoate\"]\n",
      "O = C ( O ) [C@@H] 1 C C C C = N 1 [\"(S)-2,3,4,5-Tetrahydropyridine-2-carboxylate\", \"Delta1-Piperideine-6-L-carboxylate\"]\n",
      "O = C ( O ) [C@@H] 1 C C C C N 1 [\"L-Pipecolate\", \"Pipecolinic acid\", \"Pipecolic acid\", \"2-Piperidinecarboxylic acid\", \"(S)-Piperidine-2-carboxylic acid\"]\n"
     ]
    }
   ],
   "source": [
    "for entry in ['C00047','C04076','C00450','C00408']:\n",
    "    print(smiles_tokenizer(kegg_df[kegg_df['Entry']==entry]['SMILES'].values[0]), kegg_df[kegg_df['Entry']==entry]['Names'].values[0])"
   ]
  }
 ],
 "metadata": {
  "kernelspec": {
   "display_name": "main",
   "language": "python",
   "name": "python3"
  },
  "language_info": {
   "codemirror_mode": {
    "name": "ipython",
    "version": 3
   },
   "file_extension": ".py",
   "mimetype": "text/x-python",
   "name": "python",
   "nbconvert_exporter": "python",
   "pygments_lexer": "ipython3",
   "version": "3.10.6"
  },
  "orig_nbformat": 4
 },
 "nbformat": 4,
 "nbformat_minor": 2
}
