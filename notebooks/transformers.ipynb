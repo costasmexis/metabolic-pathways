{
 "cells": [
  {
   "cell_type": "code",
   "execution_count": 21,
   "metadata": {},
   "outputs": [],
   "source": [
    "import os\n",
    "import numpy as np\n",
    "import pandas as pd\n",
    "from rdkit import Chem\n",
    "import gdown\n",
    "\n",
    "def load_data():\n",
    "    train = pd.read_csv('USPTO_480k_preprocessed/train_df.csv', index_col=0)\n",
    "    val = pd.read_csv('USPTO_480k_preprocessed/val_df.csv', index_col=0)\n",
    "    test = pd.read_csv('USPTO_480k_preprocessed/test_df.csv', index_col=0)\n",
    "\n",
    "    return train, val, test\n",
    "\n",
    "train_df, val_df, test_df = load_data()"
   ]
  },
  {
   "cell_type": "code",
   "execution_count": 19,
   "metadata": {},
   "outputs": [
    {
     "name": "stdout",
     "output_type": "stream",
     "text": [
      "models/USPTO480k_model_step_400000.pt already exists\n"
     ]
    }
   ],
   "source": [
    "trained_model_url = 'https://drive.google.com/uc?id=1ywJCJHunoPTB5wr6KdZ8aLv7tMFMBHNy'\n",
    "model_folder = 'models'\n",
    "model_name = 'USPTO480k_model_step_400000.pt'\n",
    "\n",
    "os.makedirs(model_folder, exist_ok=True)\n",
    "target_path = os.path.join(model_folder, model_name)\n",
    "if not os.path.exists(target_path):\n",
    "    gdown.download(trained_model_url, target_path, quiet=False)\n",
    "else:\n",
    "    print(f\"{target_path} already exists\")"
   ]
  },
  {
   "cell_type": "code",
   "execution_count": 33,
   "metadata": {},
   "outputs": [
    {
     "name": "stderr",
     "output_type": "stream",
     "text": [
      "[2023-06-28 16:54:37,915 INFO] Translating shard 0.\n",
      "[2023-06-28 16:54:38,751 INFO] PRED AVG SCORE: -0.0180, PRED PPL: 1.0182\n",
      "[2023-06-28 16:54:38,751 INFO] GOLD AVG SCORE: -4.3911, GOLD PPL: 80.7327\n"
     ]
    }
   ],
   "source": [
    "def predict_reaction():\n",
    "\n",
    "    os.system(\"onmt_translate -model models/USPTO480k_model_step_400000.pt -gpu 0 \\\n",
    "                --src results/precursors.txt \\\n",
    "                --tgt results/products.txt \\\n",
    "                --output results/model_predictions.txt \\\n",
    "                --n_best 5 --beam_size 10 --max_length 300 --batch_size 64\")   \n",
    "    \n",
    "predict_reaction()"
   ]
  },
  {
   "cell_type": "code",
   "execution_count": null,
   "metadata": {},
   "outputs": [],
   "source": []
  }
 ],
 "metadata": {
  "kernelspec": {
   "display_name": "main",
   "language": "python",
   "name": "python3"
  },
  "language_info": {
   "codemirror_mode": {
    "name": "ipython",
    "version": 3
   },
   "file_extension": ".py",
   "mimetype": "text/x-python",
   "name": "python",
   "nbconvert_exporter": "python",
   "pygments_lexer": "ipython3",
   "version": "3.10.6"
  },
  "orig_nbformat": 4
 },
 "nbformat": 4,
 "nbformat_minor": 2
}
